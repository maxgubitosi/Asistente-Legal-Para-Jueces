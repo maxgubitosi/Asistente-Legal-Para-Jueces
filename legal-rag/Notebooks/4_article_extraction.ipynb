{
 "cells": [
  {
   "cell_type": "code",
   "execution_count": 20,
   "id": "a3d91ae1",
   "metadata": {},
   "outputs": [],
   "source": [
    "import json\n",
    "import re\n",
    "from pathlib import Path\n",
    "from tqdm import tqdm\n",
    "import os"
   ]
  },
  {
   "cell_type": "code",
   "execution_count": null,
   "id": "8d8e55dd",
   "metadata": {},
   "outputs": [],
   "source": [
    "# Definir rutas\n",
    "# Definir rutas\n",
    "PATH_GLOBAL = Path(os.path.dirname(os.getcwd()))  # Go up one level to project root\n",
    "PATH = os.path.join(PATH_GLOBAL, \"datasets\")\n",
    "PATH_JSON = Path(os.path.join(PATH, \"fallos_json\"))\n",
    "PATH_ARTICULOS_CITADOS = Path(os.path.join(PATH, \"articulos_citados_hard\"))\n",
    "# Ejecutar extracción (puedes modificar los patrones regex después)\n"
   ]
  },
  {
   "cell_type": "code",
   "execution_count": 31,
   "id": "687136ae",
   "metadata": {},
   "outputs": [],
   "source": [
    "def extract_cited_articles_and_laws(json_dir: str, output_dir: str, regex_patterns: list = None):\n",
    "    \"\"\"\n",
    "    Extrae artículos y leyes citados de cada subsección de CONTENIDO en los JSONs.\n",
    "    \n",
    "    Args:\n",
    "        json_dir: Directorio con los JSONs originales (ej: datasets/fallos_json)\n",
    "        output_dir: Directorio de salida (ej: datasets/articulos_citados_hard)\n",
    "        regex_patterns: Lista de patrones regex para extraer citas (opcional)\n",
    "    \"\"\"\n",
    "    json_root = Path(json_dir).resolve()\n",
    "    output_root = Path(output_dir).resolve()\n",
    "    output_root.mkdir(parents=True, exist_ok=True)\n",
    "    \n",
    "    # Patrones regex mejorados\n",
    "    if regex_patterns is None:\n",
    "        regex_patterns = [\n",
    "            # Artículos con diferentes formatos\n",
    "            r'-?arts?\\.\\s*(\\d+(?:º|°)?)(?:\\s*[,y]\\s*(\\d+(?:º|°)?))*',  # arts. 3, 14, 29 y 94 o -arts. 1º y 4º\n",
    "            r'Art(?:ículo)?s?\\.\\s*(\\d+(?:º|°)?)(?:\\s*[,y]\\s*(\\d+(?:º|°)?))*',  # Art. 28, Artículo 45\n",
    "            r'del\\s+art\\.?\\s*(\\d+(?:º|°)?)',  # del art.114\n",
    "            r'artículos?\\s+(\\d+(?:º|°)?)(?:\\s*[,y]\\s*(\\d+(?:º|°)?))*',  # artículo 123 y 456\n",
    "            \n",
    "            # Leyes con diferentes formatos\n",
    "            r'ley\\s+n?º?\\s*(\\d+(?:/\\d+)?)',  # ley 7046, ley nº 5678/90\n",
    "            r'leyes?\\s+n?º?\\s*(\\d+(?:/\\d+)?)(?:\\s*[,y]\\s*(\\d+(?:/\\d+)?))*',  # leyes 123 y 456\n",
    "            \n",
    "            # Números standalone después de menciones de artículos (para capturar secuencias)\n",
    "            r'(?:arts?\\.|artículos?|Art\\.)\\s*[^\\d]*(\\d+(?:º|°)?(?:\\s*[,y]\\s*\\d+(?:º|°)?)*(?:\\s*y\\s*\\d+(?:º|°)?)?)',\n",
    "        ]\n",
    "    \n",
    "    def extract_numbers_from_match(match_groups):\n",
    "        \"\"\"Extrae todos los números de los grupos de una coincidencia regex\"\"\"\n",
    "        numbers = []\n",
    "        for group in match_groups:\n",
    "            if group:  # Si el grupo no es None\n",
    "                # Buscar todos los números en el grupo\n",
    "                nums = re.findall(r'\\d+(?:º|°)?', group)\n",
    "                numbers.extend(nums)\n",
    "        return numbers\n",
    "    \n",
    "    def extract_articles_from_text(text):\n",
    "        \"\"\"Extrae artículos de un texto usando múltiples estrategias\"\"\"\n",
    "        all_articles = set()  # Usar set para evitar duplicados\n",
    "        \n",
    "        # Estrategia 1: Patrones específicos\n",
    "        for pattern in compiled_patterns:\n",
    "            matches = pattern.finditer(text)\n",
    "            for match in matches:\n",
    "                numbers = extract_numbers_from_match(match.groups())\n",
    "                all_articles.update(numbers)\n",
    "        \n",
    "        # Estrategia 2: Buscar secuencias específicas como \"3, 14, 29, 30, 63, 64, 71 y 94\"\n",
    "        # Patrón para capturar listas de números después de \"arts.\" o similar\n",
    "        sequence_pattern = r'(?:-?arts?\\.|artículos?|Art\\.)\\s*([0-9º°,\\s\\-y]+?)(?:\\s+de\\s+la\\s+ley|\\s+Ac\\.|\\.|\\s|$)'\n",
    "        seq_matches = re.finditer(sequence_pattern, text, re.IGNORECASE)\n",
    "        for match in seq_matches:\n",
    "            sequence = match.group(1)\n",
    "            # Extraer todos los números de la secuencia\n",
    "            nums = re.findall(r'\\d+(?:º|°)?', sequence)\n",
    "            all_articles.update(nums)\n",
    "        \n",
    "        return list(all_articles)\n",
    "    \n",
    "    # Compilar patrones\n",
    "    compiled_patterns = [re.compile(pattern, re.IGNORECASE) for pattern in regex_patterns]\n",
    "    \n",
    "    json_files = list(json_root.rglob(\"*.json\"))\n",
    "    if not json_files:\n",
    "        print(f\"No se encontraron JSONs en {json_dir}\")\n",
    "        return\n",
    "    \n",
    "    print(f\"🔍 Extrayendo citas de {len(json_files)} archivos JSON...\")\n",
    "    \n",
    "    for json_path in tqdm(json_files, desc=\"Extrayendo citas\"):\n",
    "        try:\n",
    "            with open(json_path, 'r', encoding='utf-8') as f:\n",
    "                data = json.load(f)[0]  # Primer elemento de la lista\n",
    "            \n",
    "            # Crear estructura de salida\n",
    "            output_structure = {\n",
    "                \"INFORMACION\": data.get(\"INFORMACION\", {}),\n",
    "                \"CONTENIDO\": {}\n",
    "            }\n",
    "            \n",
    "            # Procesar cada subsección de CONTENIDO\n",
    "            if 'CONTENIDO' in data:\n",
    "                for section_name, paragraphs in data['CONTENIDO'].items():\n",
    "                    cited_articles = []\n",
    "                    \n",
    "                    # Buscar citas en cada párrafo de la subsección\n",
    "                    for paragraph in paragraphs:\n",
    "                        if isinstance(paragraph, str):\n",
    "                            articles = extract_articles_from_text(paragraph)\n",
    "                            cited_articles.extend(articles)\n",
    "                    \n",
    "                    # Remover duplicados y ordenar\n",
    "                    cited_articles = sorted(list(set(cited_articles)))\n",
    "                    \n",
    "                    # Guardar lista de citas para esta subsección\n",
    "                    output_structure[\"CONTENIDO\"][section_name] = cited_articles\n",
    "            \n",
    "            # Crear archivo de salida manteniendo estructura de carpetas\n",
    "            rel_path = json_path.relative_to(json_root)\n",
    "            output_path = output_root / rel_path\n",
    "            output_path.parent.mkdir(parents=True, exist_ok=True)\n",
    "            \n",
    "            # Guardar JSON con citas extraídas\n",
    "            with open(output_path, 'w', encoding='utf-8') as f:\n",
    "                json.dump([output_structure], f, ensure_ascii=False, indent=2)\n",
    "                \n",
    "        except Exception as e:\n",
    "            print(f\"❌ Error procesando {json_path}: {e}\")\n",
    "    \n",
    "    print(f\"✅ Extracción completada. Archivos guardados en: {output_root}\")"
   ]
  },
  {
   "cell_type": "code",
   "execution_count": 4,
   "id": "1751bef9",
   "metadata": {},
   "outputs": [
    {
     "name": "stdout",
     "output_type": "stream",
     "text": [
      "🔍 Extrayendo citas de 296 archivos JSON...\n"
     ]
    },
    {
     "name": "stderr",
     "output_type": "stream",
     "text": [
      "Extrayendo citas: 100%|██████████| 296/296 [00:00<00:00, 763.67it/s]"
     ]
    },
    {
     "name": "stdout",
     "output_type": "stream",
     "text": [
      "❌ Error procesando /Users/brunocr/Documents/UDESA/NLP/TP_NLP/datasets/fallos_json/10/9093.json: Expecting value: line 73 column 5 (char 16919)\n",
      "✅ Extracción completada. Archivos guardados en: /Users/brunocr/Documents/UDESA/NLP/TP_NLP/datasets/articulos_citados_hard\n"
     ]
    },
    {
     "name": "stderr",
     "output_type": "stream",
     "text": [
      "\n"
     ]
    }
   ],
   "source": [
    "extract_cited_articles_and_laws(PATH_JSON, PATH_ARTICULOS_CITADOS)"
   ]
  },
  {
   "cell_type": "code",
   "execution_count": 32,
   "id": "49f13f5a",
   "metadata": {},
   "outputs": [],
   "source": [
    "import json\n",
    "import os\n",
    "from pathlib import Path\n",
    "from tqdm import tqdm\n",
    "from typing import List, Optional\n",
    "from pydantic import BaseModel, Field\n",
    "from openai import AzureOpenAI\n",
    "from configs.credentials_config import API_KEY, ENDPOINT, MODEL, DEPLOYMENT"
   ]
  },
  {
   "cell_type": "code",
   "execution_count": 33,
   "id": "b161cff5",
   "metadata": {},
   "outputs": [],
   "source": [
    "class SubsectionCitations(BaseModel):\n",
    "    \"\"\"Schema for citations found in a subsection\"\"\"\n",
    "    verbatim_citations: List[str] = Field(description=\"List of exact citation phrases as they appear in the text (e.g., 'arts. 1º y 4º Ac. Gral. 15/18 SNE', 'arts. 3, 29, 30, 63, 64, 70 y 94 de la ley 7046')\", default_factory=list)\n"
   ]
  },
  {
   "cell_type": "code",
   "execution_count": 36,
   "id": "d18db274",
   "metadata": {},
   "outputs": [],
   "source": [
    "# Initialize Azure OpenAI client\n",
    "client = AzureOpenAI(\n",
    "    api_version=\"2025-04-01-preview\",\n",
    "    azure_endpoint=ENDPOINT,\n",
    "    api_key=API_KEY\n",
    ")\n",
    "\n",
    "def extract_citations_with_llm(text: str, section_name: str) -> SubsectionCitations:\n",
    "    \"\"\"\n",
    "    Extract legal citations from text using LLM with structured output\n",
    "    \"\"\"\n",
    "    prompt = f\"\"\"\n",
    "    You are a legal text analyzer. Extract all legal citations as complete verbatim phrases from the following text from the \"{section_name}\" section of a legal document.\n",
    "\n",
    "    IMPORTANT: Extract the COMPLETE citation phrases exactly as they appear in the text, including:\n",
    "    - Article numbers with their source (e.g., \"art. 45 del CPCC\", \"arts. 1º y 4º Ac. Gral. 15/18 SNE\")\n",
    "    - Laws with articles (e.g., \"arts. 3, 29, 30, 63, 64, 70 y 94 de la ley 7046\")\n",
    "    - Constitutional articles (e.g., \"art. 14 de la Constitución Nacional\")\n",
    "    - Code articles (e.g., \"art. 163 del Código Civil\", \"art. 280 del CPCC\")\n",
    "    - Procedural references (e.g., \"conforme arts. 1º y 4º Ac. Gral. 15/18 SNE\")\n",
    "    - Any legal reference with acronyms (CPCC, CN, CC, etc.)\n",
    "\n",
    "    Text to analyze:\n",
    "    {text}\n",
    "\n",
    "    Return ONLY the complete verbatim phrases as they appear in the text. Do NOT break them down or parse them - capture the entire citation phrase including the source/acronym when present.\n",
    "\n",
    "    Examples of what to extract:\n",
    "    - \"arts. 1º y 4º Ac. Gral. 15/18 SNE\"\n",
    "    - \"arts. 3, 29, 30, 63, 64, 70 y 94 de la ley 7046\"\n",
    "    - \"del art. 114\"\n",
    "    - \"art. 45 del CPCC\"\n",
    "    - \"Art. 28\"\n",
    "    \"\"\"\n",
    "\n",
    "    try:\n",
    "        response = client.responses.parse(\n",
    "            model=DEPLOYMENT, #modify this to use responses api, as in Doc's work\n",
    "            instructions = \"You are a precise legal citation extractor. Extract all article and law numbers mentioned in legal texts. Be thorough and accurate.\",\n",
    "            input        = prompt,\n",
    "            text_format=SubsectionCitations,\n",
    "            temperature=0.1  # Low temperature for consistency\n",
    "        )\n",
    "        \n",
    "        return response.output_parsed\n",
    "        \n",
    "    except Exception as e:\n",
    "        print(f\"Error processing section {section_name}: {e}\")\n",
    "        return SubsectionCitations()\n",
    "\n",
    "def process_json_with_llm(json_path: Path, output_path: Path):\n",
    "    \"\"\"\n",
    "    Process a single JSON file and extract citations using LLM\n",
    "    \"\"\"\n",
    "    try:\n",
    "        with open(json_path, 'r', encoding='utf-8') as f:\n",
    "            data = json.load(f)[0]  # First element of the list\n",
    "        \n",
    "        # Create output structure\n",
    "        output_structure = {\n",
    "            \"INFORMACION\": data.get(\"INFORMACION\", {}),\n",
    "            \"CONTENIDO\": {}\n",
    "        }\n",
    "        \n",
    "        # Process each subsection of CONTENIDO\n",
    "        if 'CONTENIDO' in data:\n",
    "            for section_name, paragraphs in data['CONTENIDO'].items():\n",
    "                if paragraphs:  # Only process non-empty sections\n",
    "                    # Join paragraphs into single text for analysis\n",
    "                    section_text = \"\\n\\n\".join(paragraphs) if isinstance(paragraphs, list) else str(paragraphs)\n",
    "                    \n",
    "                    # Extract citations using LLM\n",
    "                    citations = extract_citations_with_llm(section_text, section_name)\n",
    "                    \n",
    "                    # Convert to dict format for JSON serialization\n",
    "                    output_structure[\"CONTENIDO\"][section_name] = citations.model_dump()\n",
    "                    print(citations.model_dump())\n",
    "                else:\n",
    "                    # Empty section\n",
    "                    output_structure[\"CONTENIDO\"][section_name] = SubsectionCitations().model_dump()\n",
    "        \n",
    "        # Save results\n",
    "        output_path.parent.mkdir(parents=True, exist_ok=True)\n",
    "        with open(output_path, 'w', encoding='utf-8') as f:\n",
    "            json.dump([output_structure], f, ensure_ascii=False, indent=2)\n",
    "            \n",
    "    except Exception as e:\n",
    "        print(f\"❌ Error processing {json_path}: {e}\")\n",
    "\n",
    "def extract_citations_with_llm_batch(json_dir: str, output_dir: str):\n",
    "    \"\"\"\n",
    "    Process all JSON files and extract citations using LLM\n",
    "    \"\"\"\n",
    "    json_root = Path(json_dir).resolve()\n",
    "    output_root = Path(output_dir).resolve()\n",
    "    output_root.mkdir(parents=True, exist_ok=True)\n",
    "    \n",
    "    json_files = list(json_root.rglob(\"*.json\"))\n",
    "    # Add explicit sorting to ensure predictable order\n",
    "    json_files = sorted(json_files)\n",
    "    \n",
    "    if not json_files:\n",
    "        print(f\"No se encontraron JSONs en {json_dir}\")\n",
    "        return\n",
    "    \n",
    "    # Debug: Show which folders/files will be processed\n",
    "    print(f\"📁 Files to process by folder:\")\n",
    "    folders = {}\n",
    "    for file in json_files:\n",
    "        folder = file.parent.name\n",
    "        if folder not in folders:\n",
    "            folders[folder] = []\n",
    "        folders[folder].append(file.name)\n",
    "    \n",
    "    for folder, files in sorted(folders.items()):\n",
    "        print(f\"  {folder}: {len(files)} files\")\n",
    "        if folder == \"02\":\n",
    "            print(f\"    First few files: {files[:3]}\")\n",
    "    \n",
    "    print(f\"🤖 Extrayendo citas con LLM de {len(json_files)} archivos JSON...\")\n",
    "    \n",
    "    for json_path in tqdm(json_files, desc=\"Procesando con LLM\"):\n",
    "        # Maintain folder structure\n",
    "        rel_path = json_path.relative_to(json_root)\n",
    "        output_path = output_root / rel_path\n",
    "        \n",
    "        # Debug: Show when processing 02 folder\n",
    "        if \"02/\" in str(rel_path):\n",
    "            print(f\"🔍 Processing 02 file: {rel_path}\")\n",
    "        \n",
    "        process_json_with_llm(json_path, output_path)\n",
    "    \n",
    "    print(f\"✅ Extracción con LLM completada. Archivos guardados en: {output_root}\")"
   ]
  },
  {
   "cell_type": "code",
   "execution_count": 37,
   "id": "d373793f",
   "metadata": {},
   "outputs": [
    {
     "name": "stdout",
     "output_type": "stream",
     "text": [
      "📁 Files to process by folder:\n",
      "  02: 10 files\n",
      "    First few files: ['8104.json', '8142.json', '8344.json']\n",
      "  03: 30 files\n",
      "  04: 9 files\n",
      "  05: 34 files\n",
      "  06: 45 files\n",
      "  07: 12 files\n",
      "  08: 36 files\n",
      "  09: 19 files\n",
      "  10: 40 files\n",
      "  11: 30 files\n",
      "  12: 31 files\n",
      "🤖 Extrayendo citas con LLM de 296 archivos JSON...\n"
     ]
    },
    {
     "name": "stderr",
     "output_type": "stream",
     "text": [
      "Procesando con LLM:   0%|          | 0/296 [00:00<?, ?it/s]"
     ]
    },
    {
     "name": "stdout",
     "output_type": "stream",
     "text": [
      "🔍 Processing 02 file: 02/8104.json\n",
      "{'verbatim_citations': []}\n",
      "{'verbatim_citations': ['arts. 3, 14, 29, 30, 63, 64, 71 y 94 de la ley 7046']}\n"
     ]
    },
    {
     "name": "stderr",
     "output_type": "stream",
     "text": [
      "Procesando con LLM:   0%|          | 1/296 [00:04<24:31,  4.99s/it]"
     ]
    },
    {
     "name": "stdout",
     "output_type": "stream",
     "text": [
      "{'verbatim_citations': ['Notifíquese conforme arts. 1º y 4º Ac. Gral. 15/18 SNE', 'ley 7046', 'Art. 28', 'art. 114', 'art. 29']}\n",
      "🔍 Processing 02 file: 02/8142.json\n",
      "{'verbatim_citations': []}\n",
      "{'verbatim_citations': ['arts. 3, 14, 29, 30, 63, 64, 69 y 94 de la ley 7046']}\n"
     ]
    },
    {
     "name": "stderr",
     "output_type": "stream",
     "text": [
      "Procesando con LLM:   1%|          | 2/296 [00:09<23:18,  4.76s/it]"
     ]
    },
    {
     "name": "stdout",
     "output_type": "stream",
     "text": [
      "{'verbatim_citations': ['conforme arts. 1º y 4º Ac. Gral. 15/18 SNE', 'ley 7046', 'Art. 28', 'art. 114', 'art. 29']}\n",
      "🔍 Processing 02 file: 02/8344.json\n",
      "{'verbatim_citations': []}\n",
      "{'verbatim_citations': []}\n",
      "{'verbatim_citations': ['artículo 1849 del Código Civil', 'artículo 1850 C.C.', 'artículo 1852 C.C.', 'artículo 1197 del Código Civil', 'artículo 218 de la ley 19.550', 'artículo 1848 del Código Civil', 'artículo 2823 del Código Civil', 'artículo 7 del Código Civil y Comercial', 'artículo 1068 del CCC', 'artículo 509 del C.C.']}\n",
      "{'verbatim_citations': []}\n",
      "{'verbatim_citations': []}\n",
      "{'verbatim_citations': []}\n"
     ]
    },
    {
     "name": "stderr",
     "output_type": "stream",
     "text": [
      "Procesando con LLM:   1%|          | 3/296 [00:19<35:29,  7.27s/it]"
     ]
    },
    {
     "name": "stdout",
     "output_type": "stream",
     "text": [
      "{'verbatim_citations': ['art. 65, 2º párrafo del CPCC', 'conforme arts. 1º y 4º Ac. Gral. 15/18 SNE', 'Acuerdo Gral. 11/20 del 23-6-2020, Punto 4°)']}\n",
      "🔍 Processing 02 file: 02/8569.json\n",
      "{'verbatim_citations': []}\n",
      "{'verbatim_citations': ['arts. 3, 14, 29, 30, 63, 64, 71 y 94 de la ley 7046']}\n"
     ]
    },
    {
     "name": "stderr",
     "output_type": "stream",
     "text": [
      "Procesando con LLM:   1%|▏         | 4/296 [00:23<28:52,  5.93s/it]"
     ]
    },
    {
     "name": "stdout",
     "output_type": "stream",
     "text": [
      "{'verbatim_citations': ['conforme arts. 1º y 4º Ac. Gral. 15/18 SNE', 'ley 7046', 'Art. 28', 'art. 114', 'art. 29']}\n",
      "🔍 Processing 02 file: 02/8752.json\n",
      "{'verbatim_citations': []}\n",
      "{'verbatim_citations': ['arts. 3, 29, 30, 63, 64 y 94 de la ley 7046']}\n"
     ]
    },
    {
     "name": "stderr",
     "output_type": "stream",
     "text": [
      "Procesando con LLM:   2%|▏         | 5/296 [00:27<24:51,  5.12s/it]"
     ]
    },
    {
     "name": "stdout",
     "output_type": "stream",
     "text": [
      "{'verbatim_citations': ['conforme arts. 1º y 4º Ac. Gral. 15/18 SNE', 'ley 7046', 'Art. 28', 'art. 114', 'art. 29']}\n",
      "🔍 Processing 02 file: 02/8865.json\n",
      "{'verbatim_citations': []}\n",
      "{'verbatim_citations': ['arts. 3, 14, 29, 30, 45, 63, 64 y 94 de la ley 7046']}\n"
     ]
    },
    {
     "name": "stderr",
     "output_type": "stream",
     "text": [
      "Procesando con LLM:   2%|▏         | 6/296 [00:31<22:34,  4.67s/it]"
     ]
    },
    {
     "name": "stdout",
     "output_type": "stream",
     "text": [
      "{'verbatim_citations': ['conforme arts. 1º y 4º Ac. Gral. 15/18 SNE', 'ley 7046', 'Art. 28', 'art. 114', 'art. 29']}\n",
      "🔍 Processing 02 file: 02/8926.json\n",
      "{'verbatim_citations': []}\n",
      "{'verbatim_citations': []}\n",
      "{'verbatim_citations': ['arts. 1757 y 1758 del CCC', 'art. 41 Ley Nacional de Tránsito en adelante LNT', 'art. 1729 del CCC', 'arts. 1757, 1758, 1769 y concs. del CCC', '39 inc. b) y 64 Ley 24.449', 'art. 39 inc. 41 y 64 de la Ley 24.449', 'arts. 36, 60 y 41 de LNT', 'art. 41 de la LNT', 'art. 41 inc.d) de la LNT', 'art. 65 del CPCC']}\n",
      "{'verbatim_citations': ['artículos 276, 280 y 281 del código procesal civil y comercial', 'términos del artículo 277 del ordenamiento procesal', 'artículo 280, segundo párrafo, del código citado', 'artículo 41 de la ley nacional de tránsito', 'artículo 1757 del Código Civil y Comercial', 'artículo 41 de la LNT', 'artículo 64 del ordenamiento de tránsito', 'artículo 2 del Código Civil y Comercial', 'artículo 51, inciso a), ley 24449', 'artículo citado, inciso b)', 'ley nacional de tránsito Nº 24449', 'ley 10025 (boletín oficial del 9/5/2011)', 'artículo 5', 'artículo 3 del Código Civil y Comercial', 'artículo 4º) establece que todo conductor debe ceder siempre el paso en las encrucijadas al que cruza desde su derecha']}\n",
      "{'verbatim_citations': ['art. 41 de la Ley 24.449', 'GUZMAN, HÉCTOR HILARIO C/ LEDESMA, LUCAS DEMIAN Y OTROS S/ ORDINARIO']}\n",
      "{'verbatim_citations': []}\n"
     ]
    },
    {
     "name": "stderr",
     "output_type": "stream",
     "text": [
      "Procesando con LLM:   2%|▏         | 7/296 [00:43<35:08,  7.30s/it]"
     ]
    },
    {
     "name": "stdout",
     "output_type": "stream",
     "text": [
      "{'verbatim_citations': ['art. 65 del CPCC', 'conforme arts. 1º y 4º Ac. Gral. 15/18 SNE', 'Acuerdo Gral. 11/20 del 23-6-2020']}\n",
      "🔍 Processing 02 file: 02/8927.json\n",
      "{'verbatim_citations': []}\n",
      "{'verbatim_citations': []}\n",
      "{'verbatim_citations': ['arts. 41, 39, 50 y 64 de la Ley Nacional de Tránsito Nro. 24.449', 'art. 41 de la Ley Nacional de Tránsito', 'art. 41 inciso d) de la LNT', 'art. 65 del CPCC', 'ZAMPEDRI Fernando Ariel C/ PESSOLANI Sergio Andrés y otra S/ ORDINARIO DAÑOS Y PERJUICIOS - Expte. Nº 8927']}\n",
      "{'verbatim_citations': ['artículos 276, 280 y 281 del código procesal civil y comercial', 'artículo 277 del ordenamiento procesal', 'artículo 280, segundo párrafo, del código citado', 'artículo 41 de la ley nacional de tránsito', 'artículo 64 de la ley nacional de tránsito', 'artículo 1113 del código civil', 'artículo 2 del Código Civil y Comercial', 'artículo 41 inciso d) de la LNT', 'artículo 5 de la LNT', 'artículo 3 del Código Civil y Comercial', 'artículo 51, inciso a) de la ley 24449', 'artículo citado, inciso b)', 'ley nacional de tránsito Nº 24449', 'ley 10025', 'Corte Suprema de Justicia de la Nación, Fallos: 297:210; 306:1988', 'artículo 65, segundo párrafo, del código procesal civil y comercial', 'ZAMPEDRI Fernando Ariel C/ PESSOLANI Sergio Andrés y otra S/ ORDINARIO DAÑOS Y PERJUICIOS - Expte. Nº 8927']}\n",
      "{'verbatim_citations': ['art. 41 de la Ley Nacional de Tránsito']}\n",
      "{'verbatim_citations': []}\n"
     ]
    },
    {
     "name": "stderr",
     "output_type": "stream",
     "text": [
      "Procesando con LLM:   3%|▎         | 8/296 [00:56<43:06,  8.98s/it]"
     ]
    },
    {
     "name": "stdout",
     "output_type": "stream",
     "text": [
      "{'verbatim_citations': ['art. 65 del CPCC', 'conforme arts. 1º y 4º Ac. Gral. 15/18 SNE', 'Acuerdo Gral. 11/20 del 23-6-2020']}\n",
      "🔍 Processing 02 file: 02/8948.json\n",
      "{'verbatim_citations': []}\n",
      "{'verbatim_citations': ['art. 506 del CPCC', 'art. 765 del CCC', 'art. 962 del CCC', 'art. 279 del CCC', 'art. 771 del CCC', 'art. 17 de la Constitución Nacional', 'art. 18 de la Constitución Nacional', 'art. 944 del Código Civil y Comercial de la Nación', 'art. 946 del Código Civil y Comercial de la Nación', 'art. 506 3er. párrafo del CPCC', 'SCHWARZ RICARDO ALBERTO Y OTRA C/ OLIVANTI CRISTIAN JAVIER Y OTRO S/ EJECUCION HIPOTECARIA - Expte. Nº 8948', 'Dutruel Hector Homar c/ Rossier Carlos Ernesto y Otra s/ Ejecutivo - Expte. Nº 8518', 'Beltran, Silvia Miriam c/ Muchiutti Orlando Ramón S/ \"SCHWARZ RICARDO ALBERTO Y OTRA C/ OLIVANTI CRISTIAN JAVIER Y OTRO S/ EJECUCION HIPOTECARIA\" - Expte. Nº 8948 Ejecutivo - Expte. Nº 8569', 'Lande, Ricardo Isidoro c/ Panozzo Zenere, Camilo Antonio y Otros S/ Ejecutivo - Expte. Nº 8670', 'Guidoni Fernando Martín c/ Bire Guillermo Humberto S/ Preparación de la Via Monitoria (Sumarisimo) - Expte. Nº 8810', 'Gomez Susana María Beatriz c/ Agroalimentos Sociedad de Responsabilidad Limitada s/ Ejecución Hipotecaria - Expte Nº 8811']}\n",
      "{'verbatim_citations': []}\n",
      "{'verbatim_citations': []}\n"
     ]
    },
    {
     "name": "stderr",
     "output_type": "stream",
     "text": [
      "Procesando con LLM:   3%|▎         | 9/296 [01:06<44:16,  9.26s/it]"
     ]
    },
    {
     "name": "stdout",
     "output_type": "stream",
     "text": [
      "{'verbatim_citations': ['art. 506 del CPCC', 'art. 65 del CPCC', 'conforme arts. 1º y 4º Ac. Gral. 15/18 SNE', 'Acuerdo Gral. 11/20 del 23-6-2020, Punto 4°)']}\n",
      "🔍 Processing 02 file: 02/8971.json\n",
      "{'verbatim_citations': []}\n",
      "{'verbatim_citations': []}\n",
      "{'verbatim_citations': ['art. 276 del CPCC', 'art. 277 del CPCC', 'FAURE NESTOR BERNARDO C/ PERAGALLO WALDEMAR EMILIO S. MONITORIO EJECUTIVO S/ RECURSO DE QUEJA (QUEJA INTERPUESTA POR EL DR. SEBASTIAN A. ROUDE CHAULET) - Expte. Nº 8971', 'Fernández Ramón Avelino c/ Aedo Eduardo Germán s/ desalojo (queja interpuesta por el Dr. Velzi José Gustavo) - Expte. Nº 7999, resolución del 2/10/2019', 'Suarez Teresa Graciela y otros c/ Suarez Raquel Angélica s/ ordinario simulación (queja interpuesta por la Sra. Raquel Angélica Suarez con el patrocinio de la Dra. Alejandra Lucía Gomez) - Expte. Nº 8058, resolución del 16/12/2019']}\n"
     ]
    },
    {
     "name": "stderr",
     "output_type": "stream",
     "text": [
      "Procesando con LLM:   3%|▎         | 10/296 [01:12<39:56,  8.38s/it]"
     ]
    },
    {
     "name": "stdout",
     "output_type": "stream",
     "text": [
      "{'verbatim_citations': ['arts. 1 y 4 Ac. Gral 15/18 SNE', 'Acuerdo Gral. 11/20 del 23-6-2020, Punto 4°']}\n",
      "{'verbatim_citations': []}\n",
      "{'verbatim_citations': ['arts. 3, 12, 29, 30, 63, 64, 71 y 94 de la ley 7046']}\n"
     ]
    },
    {
     "name": "stderr",
     "output_type": "stream",
     "text": [
      "Procesando con LLM:   4%|▎         | 11/296 [01:16<32:49,  6.91s/it]"
     ]
    },
    {
     "name": "stdout",
     "output_type": "stream",
     "text": [
      "{'verbatim_citations': ['conforme arts. 1º y 4º Ac. Gral. 15/18 SNE', 'ley 7046', 'Art. 28', 'art. 114', 'art. 29']}\n",
      "{'verbatim_citations': []}\n",
      "{'verbatim_citations': ['arts. 3, 14, 58, 63, 64 y 94 de la ley 7046']}\n"
     ]
    },
    {
     "name": "stderr",
     "output_type": "stream",
     "text": [
      "Procesando con LLM:   4%|▍         | 12/296 [01:20<28:31,  6.03s/it]"
     ]
    },
    {
     "name": "stdout",
     "output_type": "stream",
     "text": [
      "{'verbatim_citations': ['conforme arts. 1º y 4º Ac. Gral. 15/18 SNE', 'ley 7046', 'Art. 28', 'art. 114', 'art. 29']}\n",
      "{'verbatim_citations': []}\n",
      "{'verbatim_citations': ['arts. 3, 30, 63, 64 y 94 de la ley 7046']}\n"
     ]
    },
    {
     "name": "stderr",
     "output_type": "stream",
     "text": [
      "Procesando con LLM:   4%|▍         | 13/296 [01:24<25:05,  5.32s/it]"
     ]
    },
    {
     "name": "stdout",
     "output_type": "stream",
     "text": [
      "{'verbatim_citations': ['conforme arts. 1º y 4º Ac. Gral. 15/18 SNE', 'ley 7046', 'Art. 28', 'art. 114', 'art. 29']}\n",
      "{'verbatim_citations': []}\n",
      "{'verbatim_citations': []}\n",
      "{'verbatim_citations': ['art. 2537 del CCC', 'Ley 10.636', 'art. 1766 del CCC', 'Ley 5796', 'art. 8 de la Ley 10.636', 'art. 49 de la Ley 5796', 'arts. 1765 y 1766 del CCC', 'arts. 75 inc. 12 y 126 de la Constitución Nacional (CN)', 'art. 49 de la ley 5796', 'Art. 728, CCC', 'art. 14, 17 y 33, art. 75 inc. 22 CN', 'arts. 31 y 75 inc. 22 de la CN', 'art. 285 bis del Código Procesal Civil y Comercial de Entre Ríos (CPCCER)', 'art. 14 de la ley 48', 'SUPERIOR GOBIERNO DE LA PROVINCIA DE ENTRE RIOS C/ SPAHN JORGE EDUARDO S/ ORDINARIO DAÑOS Y PERJUICIOS - Expte. Nº 8887']}\n"
     ]
    },
    {
     "name": "stderr",
     "output_type": "stream",
     "text": [
      "Procesando con LLM:   5%|▍         | 14/296 [01:30<26:29,  5.64s/it]"
     ]
    },
    {
     "name": "stdout",
     "output_type": "stream",
     "text": [
      "{'verbatim_citations': ['arts. 1º y 4º Ac. Gral. 15/18 SNE', 'Acuerdo Gral. 11/20 del 23-6-2020, Punto 4°']}\n",
      "{'verbatim_citations': []}\n",
      "{'verbatim_citations': []}\n",
      "{'verbatim_citations': ['art. 280 del Código Procesal Civil y Comercial de Entre Ríos', 'art. 18 C.N.', 'art. 8, Pacto de San José de Costa Rica', 'art. 17 C.N.', 'arts. 14 y 19 C.N.', 'art. 280', 'art. 14 de la ley 48', 'art. 285 bis del Código Procesal Civil y Comercial de Entre Ríos (CPCC)', 'arts. 276, 280 y concs. del CPCCER', 'ESTADO DE LA PROVINCIA DE ENTRE RIOS C/ BORRAJO GUSTAVO EDUARDO S/ ORDINARIO DAÑOS Y PERJUICIOS - Expte. Nº 8903', 'Fallos 299:268; 300:436', 'Fallos 287:130; 293:323; 321;2131', 'Fallos 295:420; 304:268']}\n"
     ]
    },
    {
     "name": "stderr",
     "output_type": "stream",
     "text": [
      "Procesando con LLM:   5%|▌         | 15/296 [01:35<25:43,  5.49s/it]"
     ]
    },
    {
     "name": "stdout",
     "output_type": "stream",
     "text": [
      "{'verbatim_citations': ['conforme arts. 1º y 4º Ac. Gral. 15/18 SNE', 'Acuerdo Gral. 11/20 del 23-6-2020']}\n",
      "{'verbatim_citations': []}\n",
      "{'verbatim_citations': []}\n",
      "{'verbatim_citations': ['art. 280, 3er. párrafo del Código Procesal Civil y Comercial', 'art. 52 de la Ley 7046', 'art. 280 del código de forma', 'art. 18 de la C.N.', 'art. 14º de la ley 48', 'art. 280 del CPCCER', 'art. 2 Ac. N° 4/2007']}\n"
     ]
    },
    {
     "name": "stderr",
     "output_type": "stream",
     "text": [
      "Procesando con LLM:   5%|▌         | 16/296 [01:40<24:40,  5.29s/it]"
     ]
    },
    {
     "name": "stdout",
     "output_type": "stream",
     "text": [
      "{'verbatim_citations': ['conforme arts. 1º y 4º Ac. Gral. 15/18 SNE', 'Acuerdo Gral. 11/20 del 23-6-2020, Punto 4°']}\n",
      "{'verbatim_citations': ['Expte. n.º 7818 / C', 'Expte. Nº 8932', 'PARANÁ, 13 de marzo de 2024']}\n",
      "{'verbatim_citations': ['Expte. n.º 7818 / C', 'Expte. Nº 8932']}\n",
      "{'verbatim_citations': ['QUIROS NELIDA RAQUEL C/ VITASSE JOSE MARIA S. ORDINARIO (ACCION DE REMOCION) (Expte. n.º 7818 / C) S/ RECURSO DE QUEJA (QUEJA INTERPUESTA POR LOS DRES. CARLOS E. MORO Y EMILIO F. MORO)', 'Expte. Nº 8932', 'QUIROS NELIDA RAQUEL C/ VITASSE JOSE MARIA S. ORDINARIO (ACCION DE REMOCION) (Expte. n.º 7818 / C) S/ RECURSO DE QUEJA (QUEJA INTERPUESTA POR LOS DRES. CARLOS E. MORO Y EMILIO F. MORO) - Expte. Nº 8932']}\n"
     ]
    },
    {
     "name": "stderr",
     "output_type": "stream",
     "text": [
      "Procesando con LLM:   6%|▌         | 17/296 [01:48<28:41,  6.17s/it]"
     ]
    },
    {
     "name": "stdout",
     "output_type": "stream",
     "text": [
      "{'verbatim_citations': ['conforme arts. 1 y 4 Ac. Gral 15/18 SNE', 'Acuerdo Gral. 11/20 del 23-6-2020, Punto 4°']}\n",
      "{'verbatim_citations': []}\n",
      "{'verbatim_citations': []}\n",
      "{'verbatim_citations': ['ley 25.529', 'art. 1078 del Código Civil', 'arts. 901, 903, 1086, 1109 del Código Civil', 'arts. 1726, 1727 y 1746 del Código Civil y Comercial', 'art. 1741', 'art. 280 del CPCC', 'arts. 277, 280 y ccs. del CPCC', 'art. 65 CPCC']}\n",
      "{'verbatim_citations': []}\n",
      "{'verbatim_citations': []}\n"
     ]
    },
    {
     "name": "stderr",
     "output_type": "stream",
     "text": [
      "Procesando con LLM:   6%|▌         | 18/296 [01:56<31:35,  6.82s/it]"
     ]
    },
    {
     "name": "stdout",
     "output_type": "stream",
     "text": [
      "{'verbatim_citations': ['art. 65 del CPCC', 'arts. 3, 14, 30, 63, 64 y 94 de la ley 7046', 'conforme arts. 1º y 4º Ac. Gral. 15/18 SNE', 'Acuerdo Gral. 11/20 del 23-6-2020', 'Art. 28', 'art. 114', 'art. 29']}\n",
      "{'verbatim_citations': []}\n",
      "{'verbatim_citations': []}\n",
      "{'verbatim_citations': ['artículo 2249 del código civil y comercial', 'artículos 1897, 1899, 2249, 2256 y aplicables del código civil y comercial', 'artículos 2351 y 2384 del código civil', 'artículos 276, 280 y 281 del código procesal civil y comercial', 'artículo 65 del código procesal civil y comercial', 'POLO, Raúl Oscar C/ IBARROLA, César Luis y OTRA S/ ORDINARIO - Expte. Nº 8940']}\n",
      "{'verbatim_citations': []}\n",
      "{'verbatim_citations': []}\n",
      "{'verbatim_citations': []}\n"
     ]
    },
    {
     "name": "stderr",
     "output_type": "stream",
     "text": [
      "Procesando con LLM:   6%|▋         | 19/296 [02:06<35:28,  7.68s/it]"
     ]
    },
    {
     "name": "stdout",
     "output_type": "stream",
     "text": [
      "{'verbatim_citations': ['art. 65 del CPCC', 'conforme arts. 1º y 4º Ac. Gral. 15/18 SNE', 'Acuerdo Gral. 11/20 del 23-6-2020']}\n",
      "{'verbatim_citations': []}\n",
      "{'verbatim_citations': []}\n",
      "{'verbatim_citations': ['art. 280, párrafo segundo, del CPCC', 'art. 269 del CPCC', 'art. 18 de la CN', 'art. 42 CPCC', 'art. 281 del CPCC', 'art. 18 de la Constitución Nacional']}\n"
     ]
    },
    {
     "name": "stderr",
     "output_type": "stream",
     "text": [
      "Procesando con LLM:   7%|▋         | 20/296 [02:10<30:23,  6.61s/it]"
     ]
    },
    {
     "name": "stdout",
     "output_type": "stream",
     "text": [
      "{'verbatim_citations': ['arts. 1 y 4 Ac. Gral 15/18 SNE', 'Acuerdo Gral. 11/20 del 23-6-2020']}\n",
      "{'verbatim_citations': []}\n",
      "{'verbatim_citations': []}\n",
      "{'verbatim_citations': ['art. 301 inc. 3 del CPCC', 'arts. 248 y 301 inc. d) del CPCC', 'arts. 17, 18 y 19 CN', 'art. 301, inc. 3) del CPCC', 'art. 248 del CPCC', 'art. 282 del CPCC', 'art. 301 inc. 3 del CPCC', 'art. 248 del CPCC', 'art. 65 del CPCC']}\n",
      "{'verbatim_citations': []}\n",
      "{'verbatim_citations': ['Baldwin, Elina Dorotea c/Metrovias S.A. s/ daños y perjuicios', 'sentencia del 02/08/2022 CIV 073468/2011/1/RH001', 'Aranda, Raúl Eduardo c/ ENA (Min. de Def. - Ejército Argentino) y/o Q.R.R. s/ impugnación de acto administrativo', 'sentencia del 30/11/2023; FPO 6333/2014/1/RH1']}\n",
      "{'verbatim_citations': []}\n"
     ]
    },
    {
     "name": "stderr",
     "output_type": "stream",
     "text": [
      "Procesando con LLM:   7%|▋         | 21/296 [02:20<34:31,  7.53s/it]"
     ]
    },
    {
     "name": "stdout",
     "output_type": "stream",
     "text": [
      "{'verbatim_citations': ['art. 65 del CPCC', 'conforme arts. 1º y 4º Ac. Gral. 15/18 SNE', 'Acuerdo Gral. 11/20 del 23-6-2020']}\n",
      "{'verbatim_citations': []}\n",
      "{'verbatim_citations': []}\n",
      "{'verbatim_citations': ['art. 29 de la Ley 4878', 'art. 74 del CPCC', 'arts. 29 de la Ley 4878', 'GONZALEZ JOSE MARIA C/ CENTRO MEDICO CRESPO S.R.L. S/ EJECUCION DE HONORARIOS - Expte. Nº 8949', '74 del CPCC (Ley 9776)', 'art. 2 del CCC', 'art. 263 CPCC', 'art. 18 CN', 'art. 59 inc. h) de la Ley 27423', 'art. 74 de la Ley 9776', 'arts. 276, 280 y 281 del CPCC', 'art. 267, tercer párrafo del CPCC', 'art. 29 de la Ley 4878', 'art. 74 del CPCC (de julio de 2007, Ley 9776, BO 2/1/2008)', 'art. 77 del CPCC', 'Fallos: 321:532; 323:2916', 'Fallos: 314:1445; 321:730; 324:4349', 'Fallos: 319:1840', 'Fallos 345:730', 'art. 65 y 544 del CPCC']}\n",
      "{'verbatim_citations': []}\n",
      "{'verbatim_citations': []}\n",
      "{'verbatim_citations': []}\n"
     ]
    },
    {
     "name": "stderr",
     "output_type": "stream",
     "text": [
      "Procesando con LLM:   7%|▋         | 22/296 [02:31<39:08,  8.57s/it]"
     ]
    },
    {
     "name": "stdout",
     "output_type": "stream",
     "text": [
      "{'verbatim_citations': ['art. 65 y 544 del CPCC', 'arts. 3, 58, 63, 64 y 94 de la ley 7046', 'conforme arts. 1º y 4º Ac. Gral. 15/18 SNE', 'Acuerdo Gral. 11/20 del 23-6-2020', 'art. 114', 'art. 29']}\n",
      "{'verbatim_citations': []}\n",
      "{'verbatim_citations': ['art. 342.1 CPR', 'art. 325 LPF', 'art. 263 del CPCC', 'art. 263 CCC', 'art. 342 del CPCC', 'arts. 3, 33, 53, 69, 263 y 264 del CCC', 'art. 342 del CPCC', 'arts. 74 y 310 del CPF', 'arts. 14 bis, 17, 18 y 75 inc. 22 de la CN', 'art. 13, inc. 22', 'art. 265 CCC', 'art. 573 del CCC', 'art. 588 del CCC', 'art. 570 CCC', 'art. 571, inc. a) del CCC', 'art. 12 CCC', 'art. 1º de la LPF', 'art. 579 CCC', 'art. 710 del CCC', 'art. 4 Ley 23.511', 'art. 18 CN', 'art. 3 CCC', 'art. 69 CCC', 'art. 74 LPC', 'art. 147 del CPCC', 'art. 265 CCC', 'art. 342, inc. 1º del CPCC', 'art. 60 de la LPF', 'art. 18 CN', 'art. 3 CCC', 'art. 310 del CPF', 'art. 69 CCC', 'art. 13 inc. 22 y ccs.']}\n",
      "{'verbatim_citations': []}\n"
     ]
    },
    {
     "name": "stderr",
     "output_type": "stream",
     "text": [
      "Procesando con LLM:   8%|▊         | 23/296 [02:38<37:33,  8.25s/it]"
     ]
    },
    {
     "name": "stdout",
     "output_type": "stream",
     "text": [
      "{'verbatim_citations': ['art. 65 del CPCC', 'arts. 3, 58, 63 y 94 de la ley 7046', 'conforme arts. 1º y 4º Ac. Gral. 15/18 SNE', 'Acuerdo Gral. 11/20 del 23-6-2020', 'art. 114', 'art. 29']}\n",
      "{'verbatim_citations': []}\n",
      "{'verbatim_citations': ['Expte. Nº 8959']}\n",
      "{'verbatim_citations': []}\n"
     ]
    },
    {
     "name": "stderr",
     "output_type": "stream",
     "text": [
      "Procesando con LLM:   8%|▊         | 24/296 [02:42<31:33,  6.96s/it]"
     ]
    },
    {
     "name": "stdout",
     "output_type": "stream",
     "text": [
      "{'verbatim_citations': ['conforme arts. 1º y 4º Ac. Gral. 15/18 SNE', 'Acuerdo Gral. 11/20 del 23-6-2020']}\n",
      "{'verbatim_citations': []}\n",
      "{'verbatim_citations': []}\n",
      "{'verbatim_citations': ['art. 1762 del CCC', 'art. 1754 del CCC', 'art. 1775 inc. c) del CCC', 'art. 280 del CPCC', 'arts. 31 inc. 4º y 160 inc. 6º con el límite previsto en el art. 269, del CPCC', '\"VELAZQUEZ HERNAN RAMON C/ SALCEDO DANIEL OMAR y OTROS S/ ORDINARIO DAÑOS Y PERJUICIOS\" - Expte. Nº 8973']}\n",
      "{'verbatim_citations': []}\n",
      "{'verbatim_citations': []}\n"
     ]
    },
    {
     "name": "stderr",
     "output_type": "stream",
     "text": [
      "Procesando con LLM:   8%|▊         | 25/296 [02:50<31:57,  7.07s/it]"
     ]
    },
    {
     "name": "stdout",
     "output_type": "stream",
     "text": [
      "{'verbatim_citations': ['art. 65 del CPCC', 'conforme arts. 1º y 4º Ac. Gral. 15/18 SNE', 'Acuerdo Gral. 11/20 del 23-6-2020']}\n",
      "{'verbatim_citations': []}\n",
      "{'verbatim_citations': []}\n",
      "{'verbatim_citations': ['art. 511 del CPCC', 'Acuerdo General 28/20 del 25 de noviembre de 2020', 'Ley Orgánica del Poder Judicial - Ley 6902- que en el art. 79 establece la competencia material', 'Art. 84 del cuerpo legal citado', 'Ley 6902- que en el art. 79 establece la competencia material', 'Acordada General Nº 28/15 de fecha 22/09/2015 que fija la competencia de los Juzgados de Paz de Paraná en 60 juristas', 'art. 79 inc. 1° de la Ley Orgánica del Poder Judicial - Ley 6902-', '(511/512 del CPCC)']}\n"
     ]
    },
    {
     "name": "stderr",
     "output_type": "stream",
     "text": [
      "Procesando con LLM:   9%|▉         | 26/296 [02:55<29:33,  6.57s/it]"
     ]
    },
    {
     "name": "stdout",
     "output_type": "stream",
     "text": [
      "{'verbatim_citations': ['arts. 1º y 4º Ac. Gral. 15/18 SNE', 'Acuerdo Gral. 11/20 del 23-6-2020']}\n",
      "{'verbatim_citations': []}\n",
      "{'verbatim_citations': []}\n",
      "Error processing section GISELA SCHUMACHER DIJO: 1 validation error for SubsectionCitations\n",
      "  Invalid JSON: EOF while parsing a string at line 1 column 38240 [type=json_invalid, input_value='{\"verbatim_citations\":[\"...la LCQ\",\"art. 257 de la', input_type=str]\n",
      "    For further information visit https://errors.pydantic.dev/2.11/v/json_invalid\n",
      "{'verbatim_citations': []}\n",
      "{'verbatim_citations': []}\n",
      "{'verbatim_citations': []}\n",
      "{'verbatim_citations': ['URBANOTEC S.A. S/ QUIEBRA - Expte. Nº 8985']}\n"
     ]
    },
    {
     "name": "stderr",
     "output_type": "stream",
     "text": [
      "Procesando con LLM:   9%|▉         | 27/296 [05:23<3:39:03, 48.86s/it]"
     ]
    },
    {
     "name": "stdout",
     "output_type": "stream",
     "text": [
      "{'verbatim_citations': ['conforme arts. 1º y 4º Ac. Gral. 15/18 SNE', 'Acuerdo Gral. 11/20 del 23-6-2020']}\n",
      "{'verbatim_citations': []}\n",
      "{'verbatim_citations': ['Expte. Nº 8996']}\n",
      "{'verbatim_citations': ['art. 280 del CPCC', 'art. 65 del CPCC', 'art. 138 de la Ley Procesal de Familia']}\n",
      "{'verbatim_citations': []}\n",
      "{'verbatim_citations': []}\n"
     ]
    },
    {
     "name": "stderr",
     "output_type": "stream",
     "text": [
      "Procesando con LLM:   9%|▉         | 28/296 [05:31<2:44:16, 36.78s/it]"
     ]
    },
    {
     "name": "stdout",
     "output_type": "stream",
     "text": [
      "{'verbatim_citations': ['art. 65 del CPCC', 'art. 138 de la Ley Procesal de Familia', 'arts. 3, 50, 63, 64 y 94 de la ley 7046', 'conforme arts. 1º y 4º Ac. Gral. 15/18 SNE', 'Acuerdo Gral. 11/20 del 23-6-2020', 'art. 28', 'art. 114', 'art. 29']}\n",
      "{'verbatim_citations': []}\n",
      "{'verbatim_citations': []}\n",
      "{'verbatim_citations': []}\n"
     ]
    },
    {
     "name": "stderr",
     "output_type": "stream",
     "text": [
      "Procesando con LLM:  10%|▉         | 29/296 [05:35<2:00:04, 26.98s/it]"
     ]
    },
    {
     "name": "stdout",
     "output_type": "stream",
     "text": [
      "{'verbatim_citations': ['conforme arts. 1º y 4º Ac. Gral. 15/18 SNE', 'Acuerdo Gral. 11/20 del 23-6-2020, Punto 4°']}\n",
      "{'verbatim_citations': ['LEY 23737']}\n",
      "{'verbatim_citations': ['INFRACCION A LA LEY 23737']}\n",
      "{'verbatim_citations': ['art. 38 inc. a) del CPP', 'artículo 61', 'artículo 62', 'artículo 63', 'artículos 5 y 6 del CPCC', 'artículo 3 del CPCC', 'artículo 75 de la LOPJ', 'artículo 205 inciso 1 i) de la Constitución Provincial', 'art. 75 de la LOPJ', 'AVALOS, CRISTIAN CARLOS ARIEL = INFRACCION A LA LEY 23737 - Legajo Nro. 13215 -Legajo nro. 1449-OGA S/ INCIDENTE COMPETENCIA - Expte. Nº 9019']}\n"
     ]
    },
    {
     "name": "stderr",
     "output_type": "stream",
     "text": [
      "Procesando con LLM:  10%|█         | 30/296 [05:41<1:31:28, 20.63s/it]"
     ]
    },
    {
     "name": "stdout",
     "output_type": "stream",
     "text": [
      "{'verbatim_citations': ['art. 75 de la LOPJ', 'arts. 1º y 4º Ac. Gral. 15/18 SNE', 'Acuerdo Gral. 11/20 del 23-6-2020']}\n",
      "{'verbatim_citations': ['L.F. nro. 7389', 'Expte. Nº 9020']}\n",
      "{'verbatim_citations': ['L.F. nro. 7389', 'Expte. Nº 9020']}\n",
      "{'verbatim_citations': ['art. 38 inc. a) del CPCC', 'artículo 61', 'artículo 62', 'artículo 63', 'artículos 5 y 6 del CPCC', 'artículo 3 del CPCC', 'artículo 75 de la LOPJ', 'artículo 75 de la LOPJ', 'artículo 205 inciso 1 i) de la Constitución Provincial', 'art. 75 de la LOPJ']}\n"
     ]
    },
    {
     "name": "stderr",
     "output_type": "stream",
     "text": [
      "Procesando con LLM:  10%|█         | 31/296 [05:47<1:11:23, 16.16s/it]"
     ]
    },
    {
     "name": "stdout",
     "output_type": "stream",
     "text": [
      "{'verbatim_citations': ['art. 75 de la LOPJ', 'arts. 1º y 4º Ac. Gral. 15/18 SNE', 'Acuerdo Gral. 11/20 del 23-6-2020']}\n",
      "{'verbatim_citations': ['L.F. 11654', 'Expte. Nº 9023']}\n",
      "{'verbatim_citations': ['L.F. 11654', 'Expte. Nº 9023']}\n",
      "{'verbatim_citations': ['art. 38 inc. a) del CPCC', 'artículo 61', 'artículo 62', 'artículo 63', 'artículos 5 y 6 del CPCC', 'artículo 3 del CPCC', 'artículo 75 de la LOPJ', 'artículo 75 de la LOPJ', 'artículo 205 inciso 1 i) de la Constitución Provincial', 'art. 75 de la LOPJ']}\n"
     ]
    },
    {
     "name": "stderr",
     "output_type": "stream",
     "text": [
      "Procesando con LLM:  11%|█         | 32/296 [05:53<58:16, 13.24s/it]  "
     ]
    },
    {
     "name": "stdout",
     "output_type": "stream",
     "text": [
      "{'verbatim_citations': ['art. 75 de la LOPJ', 'arts. 1º y 4º Ac. Gral. 15/18 SNE', 'Acuerdo Gral. 11/20 del 23-6-2020']}\n",
      "{'verbatim_citations': []}\n",
      "{'verbatim_citations': []}\n",
      "{'verbatim_citations': ['art. 38 inc. a) del CPP', 'artículo 61', 'artículo 62', 'artículo 63', 'artículos 5 y 6 del CPCC', 'artículo 3 del CPCC', 'artículo 75 de la LOPJ', 'artículo 205 inciso 1 i) de la Constitución Provincial', 'art. 75 de la LOPJ']}\n"
     ]
    },
    {
     "name": "stderr",
     "output_type": "stream",
     "text": [
      "Procesando con LLM:  11%|█         | 33/296 [05:59<47:47, 10.90s/it]"
     ]
    },
    {
     "name": "stdout",
     "output_type": "stream",
     "text": [
      "{'verbatim_citations': ['art. 75 de la LOPJ', 'arts. 1º y 4º Ac. Gral. 15/18 SNE', 'Acuerdo Gral. 11/20 del 23-6-2020']}\n",
      "{'verbatim_citations': []}\n",
      "{'verbatim_citations': []}\n",
      "{'verbatim_citations': ['art. 38 inc. a) del CPP', 'artículo 61', 'artículo 62', 'artículo 63', 'artículos 5 y 6 del CPCC', 'artículo 3 del CPCC', 'artículo 75 de la LOPJ', 'artículo 205 inciso 1 i) de la Constitución Provincial', 'art. 75 de la LOPJ', 'LEDESMA, SUSANA y OTROS = TENENCIA DE ESTUPEFACIENTES CON FINES DE COMERCIALIZACION - Legajo Fiscal nro. 10065 - Legajo OGA N° 921 S/ INCIDENTE COMPETENCIA - Expte. Nº 9025']}\n"
     ]
    },
    {
     "name": "stderr",
     "output_type": "stream",
     "text": [
      "Procesando con LLM:  11%|█▏        | 34/296 [06:04<40:34,  9.29s/it]"
     ]
    },
    {
     "name": "stdout",
     "output_type": "stream",
     "text": [
      "{'verbatim_citations': ['art. 75 de la LOPJ', 'arts. 1º y 4º Ac. Gral. 15/18 SNE', 'Acuerdo Gral. 11/20 del 23-6-2020']}\n",
      "{'verbatim_citations': ['L.F. Nro. 11889', 'Expte. Nº 9026']}\n",
      "{'verbatim_citations': []}\n",
      "{'verbatim_citations': ['art. 38 inc. a) del CPCC', 'artículo 61', 'artículo 62', 'artículo 63', 'artículos 5 y 6 del CPCC', 'artículo 3 del CPCC', 'artículo 75 de la LOPJ', 'artículo 205 inciso 1 i) de la Constitución Provincial', 'art. 75 de la LOPJ']}\n"
     ]
    },
    {
     "name": "stderr",
     "output_type": "stream",
     "text": [
      "Procesando con LLM:  12%|█▏        | 35/296 [06:09<34:57,  8.03s/it]"
     ]
    },
    {
     "name": "stdout",
     "output_type": "stream",
     "text": [
      "{'verbatim_citations': ['art. 75 de la LOPJ', 'arts. 1º y 4º Ac. Gral. 15/18 SNE', 'Acuerdo Gral. 11/20 del 23-6-2020']}\n",
      "{'verbatim_citations': ['LF nro. 11843 S/ INCIDENTE COMPETENCIA', 'Expte. Nº 9029']}\n",
      "{'verbatim_citations': ['DEL CASTILLO, ELENA ESTER - LESIONES (Y AMENAZAS - LF nro. 11843 S/ INCIDENTE COMPETENCIA', 'Expte. Nº 9029']}\n",
      "{'verbatim_citations': ['art. 38 inc. a) del CPCC', 'artículo 61', 'artículo 62', 'artículo 63', 'artículos 5 y 6 del CPCC', 'artículo 3 del CPCC', 'artículo 75 de la LOPJ', 'artículo 75 de la LOPJ', 'artículo 205 inciso 1 i) de la Constitución Provincial', 'art. 75 de la LOPJ']}\n"
     ]
    },
    {
     "name": "stderr",
     "output_type": "stream",
     "text": [
      "Procesando con LLM:  12%|█▏        | 36/296 [06:15<32:15,  7.44s/it]"
     ]
    },
    {
     "name": "stdout",
     "output_type": "stream",
     "text": [
      "{'verbatim_citations': ['art. 75 de la LOPJ', 'arts. 1º y 4º Ac. Gral. 15/18 SNE', 'Acuerdo Gral. 11/20 del 23-6-2020']}\n",
      "{'verbatim_citations': []}\n",
      "{'verbatim_citations': []}\n",
      "{'verbatim_citations': ['art. 38 inc. a) del CPP', 'artículo 61', 'artículo 62', 'artículo 63', 'artículos 5 y 6 del CPCC', 'artículo 3 del CPCC', 'artículo 75 de la LOPJ', 'artículo 75 de la LOPJ', 'artículo 205 inciso 1 i) de la Constitución Provincial', 'art. 75 de la LOPJ']}\n"
     ]
    },
    {
     "name": "stderr",
     "output_type": "stream",
     "text": [
      "Procesando con LLM:  12%|█▎        | 37/296 [06:22<30:18,  7.02s/it]"
     ]
    },
    {
     "name": "stdout",
     "output_type": "stream",
     "text": [
      "{'verbatim_citations': ['art. 75 de la LOPJ', 'arts. 1º y 4º Ac. Gral. 15/18 SNE', 'Acuerdo Gral. 11/20 del 23-6-2020']}\n",
      "{'verbatim_citations': []}\n",
      "{'verbatim_citations': []}\n",
      "{'verbatim_citations': ['art. 38 inc. a) del CPP', 'artículo 61', 'artículo 62', 'artículo 63', 'artículos 5 y 6 del CPCC', 'artículo 3 del CPCC', 'artículo 75 de la LOPJ', 'artículo 205 inciso 1 i) de la Constitución Provincial', 'art. 75 de la LOPJ']}\n"
     ]
    },
    {
     "name": "stderr",
     "output_type": "stream",
     "text": [
      "Procesando con LLM:  13%|█▎        | 38/296 [06:27<28:40,  6.67s/it]"
     ]
    },
    {
     "name": "stdout",
     "output_type": "stream",
     "text": [
      "{'verbatim_citations': ['art. 75 de la LOPJ', 'arts. 1º y 4º Ac. Gral. 15/18 SNE', 'Acuerdo Gral. 11/20 del 23-6-2020']}\n",
      "{'verbatim_citations': []}\n",
      "{'verbatim_citations': ['LUNA, PAULO Y OTRO - ABUSO SEXUAL CON ACCESO CARNAL (L F nro. 12780)', 'S/ INCIDENTE COMPETENCIA', 'Expte. Nº 9032']}\n",
      "{'verbatim_citations': ['art. 38 inc. a) del CPCC', 'artículo 61', 'artículo 62', 'artículo 63', 'artículos 5 y 6 del CPCC', 'artículo 3 del CPCC', 'artículo 75 de la LOPJ', 'artículo 205 inciso 1 i) de la Constitución Provincial', 'art. 75 de la LOPJ']}\n"
     ]
    },
    {
     "name": "stderr",
     "output_type": "stream",
     "text": [
      "Procesando con LLM:  13%|█▎        | 39/296 [06:33<26:50,  6.26s/it]"
     ]
    },
    {
     "name": "stdout",
     "output_type": "stream",
     "text": [
      "{'verbatim_citations': ['art. 75 de la LOPJ', 'arts. 1º y 4º Ac. Gral. 15/18 SNE', 'Acuerdo Gral. 11/20 del 23-6-2020']}\n",
      "{'verbatim_citations': ['L.F. nro. 9148', 'Expte. Nº 9035']}\n",
      "{'verbatim_citations': ['L.F. nro. 9148', 'Expte. Nº 9035']}\n",
      "{'verbatim_citations': ['art. 38 inc. a) del CPCC', 'artículo 61', 'artículo 62', 'artículo 63', 'artículos 5 y 6 del CPCC', 'artículo 3 del CPCC', 'artículo 75 de la LOPJ', 'artículo 205 inciso 1 i) de la Constitución Provincial', 'art. 75 de la LOPJ']}\n"
     ]
    },
    {
     "name": "stderr",
     "output_type": "stream",
     "text": [
      "Procesando con LLM:  14%|█▎        | 40/296 [06:38<25:50,  6.06s/it]"
     ]
    },
    {
     "name": "stdout",
     "output_type": "stream",
     "text": [
      "{'verbatim_citations': ['art. 75 de la LOPJ', 'arts. 1º y 4º Ac. Gral. 15/18 SNE', 'Acuerdo Gral. 11/20 del 23-6-2020']}\n",
      "{'verbatim_citations': []}\n",
      "{'verbatim_citations': []}\n",
      "{'verbatim_citations': ['arts. 31, 64 y 70 LA', 'arts. 31, 64 y 70 LA', 'art. 3 de la ley 7046', 'arts. 3, 30 y 50 LA', 'arts. 31 y 64 de la ley 7046', 'art. 64', 'art. 70 de la ley arancelaria', 'art. 50 de la mencionada normativa', 'art. 3 de la ley 7046', 'art. 2', 'art. 3 incs. a), b), e), j) y k)', '']}\n",
      "{'verbatim_citations': ['artículo 64 del Decr.-Ley 7046', 'artículo 70 de ese cuerpo legal']}\n",
      "{'verbatim_citations': ['art. 64 de la Ley 7046', 'art. 70 de la Ley 7046', 'art. 3 de la normativa \"REINOSO SILVINA GABRIELA C/ CHOULET MARIO JULIO S/ ALIMENTOS\"']}\n",
      "{'verbatim_citations': []}\n"
     ]
    },
    {
     "name": "stderr",
     "output_type": "stream",
     "text": [
      "Procesando con LLM:  14%|█▍        | 41/296 [06:48<30:14,  7.11s/it]"
     ]
    },
    {
     "name": "stdout",
     "output_type": "stream",
     "text": [
      "{'verbatim_citations': ['conforme arts. 1º y 4º Ac. Gral. 15/18 SNE', 'Acuerdo Gral. 11/20 del 23-6-2020']}\n",
      "{'verbatim_citations': []}\n",
      "{'verbatim_citations': ['arts. 3, 14, 29, 30, 63, 64 y 94 de la ley 7046', 'art. 33 de la LOPJ', 'texto según ley 10.704']}\n"
     ]
    },
    {
     "name": "stderr",
     "output_type": "stream",
     "text": [
      "Procesando con LLM:  14%|█▍        | 42/296 [06:52<25:46,  6.09s/it]"
     ]
    },
    {
     "name": "stdout",
     "output_type": "stream",
     "text": [
      "{'verbatim_citations': ['conforme arts. 1º y 4º Ac. Gral. 15/18 SNE', 'ley 7046', 'Art. 28', 'art. 114', 'art. 29']}\n",
      "{'verbatim_citations': []}\n",
      "{'verbatim_citations': []}\n",
      "{'verbatim_citations': ['artículo 19 del Reglamento de Presentaciones Electrónicas', 'artículos 251 y 252', 'artículos 276, 280 y 281 del código procesal civil y comercial', 'artículo 280, segundo párrafo', 'artículo 65 de la Constitución de Entre Ríos', 'artículo 18 de la Constitución Nacional', 'Anexo I del Acuerdo Especial STJER de fecha 27/4/2020']}\n",
      "{'verbatim_citations': ['art. 33 de la LOPJ', 'ley 10.704']}\n",
      "{'verbatim_citations': []}\n"
     ]
    },
    {
     "name": "stderr",
     "output_type": "stream",
     "text": [
      "Procesando con LLM:  15%|█▍        | 43/296 [07:04<34:09,  8.10s/it]"
     ]
    },
    {
     "name": "stdout",
     "output_type": "stream",
     "text": [
      "{'verbatim_citations': ['art. 65 del CPCC', 'conforme arts. 1º y 4º Ac. Gral. 15/18 SNE', 'Acuerdo Gral. 11/20 del 23-6-2020']}\n",
      "{'verbatim_citations': []}\n",
      "{'verbatim_citations': []}\n",
      "{'verbatim_citations': ['art. 770 inc. c) del CCC', 'art. 280, CPCC', 'art. 33 de la LOPJ', 'ley 10.704']}\n"
     ]
    },
    {
     "name": "stderr",
     "output_type": "stream",
     "text": [
      "Procesando con LLM:  15%|█▍        | 44/296 [07:09<30:02,  7.15s/it]"
     ]
    },
    {
     "name": "stdout",
     "output_type": "stream",
     "text": [
      "{'verbatim_citations': ['arts. 1 y 4 Ac. Gral 15/18 SNE', 'Acuerdo Gral. 11/20 del 23-6-2020']}\n",
      "{'verbatim_citations': []}\n",
      "{'verbatim_citations': ['art. 14 inc. 7 del CPCC', 'art. 33 de la LOPJ', 'ley 10.704']}\n"
     ]
    },
    {
     "name": "stderr",
     "output_type": "stream",
     "text": [
      "Procesando con LLM:  15%|█▌        | 45/296 [07:13<25:47,  6.17s/it]"
     ]
    },
    {
     "name": "stdout",
     "output_type": "stream",
     "text": [
      "{'verbatim_citations': ['arts. 1 y 4 Acordada 15/18 SNE', 'Acuerdo Gral. 11/20 del 23-6-2020']}\n",
      "{'verbatim_citations': []}\n",
      "{'verbatim_citations': []}\n",
      "{'verbatim_citations': ['artículo 14, inciso 7, del Código Procesal Civil y Comercial', 'artículos 257 y 258 el Código Procesal Civil y Comercial', 'artículos 304 y 305 de la Ley Procesal de Familia', 'Ley 10668', 'artículo 18 en diálogo con el artículo 33 del código procesal civil y comercial', 'artículos 276, 280 y 281 del código procesal civil y comercial', 'artículos 276 y 277 del Código Procesal Civil y Comercial', 'artículo 65 del código procesal civil y comercial, por remisión del artículo 138 de la ley procesal de familia']}\n",
      "{'verbatim_citations': ['art. 33 de la LOPJ, texto según ley 10.704']}\n",
      "{'verbatim_citations': []}\n"
     ]
    },
    {
     "name": "stderr",
     "output_type": "stream",
     "text": [
      "Procesando con LLM:  16%|█▌        | 46/296 [07:21<28:13,  6.77s/it]"
     ]
    },
    {
     "name": "stdout",
     "output_type": "stream",
     "text": [
      "{'verbatim_citations': ['art. 65 del CPCC, por remisión del artículo 138 de la ley procesal de familia', 'conforme arts. 1º y 4º Ac. Gral. 15/18 SNE', 'Acuerdo Gral. 11/20 del 23-6-2020']}\n",
      "{'verbatim_citations': []}\n",
      "{'verbatim_citations': []}\n",
      "{'verbatim_citations': ['art. 239 del CPCC', 'art. 754, CPCC', 'arts. 276 y 277 del CPCC', 'art. 18 de la CN', 'art. 753', 'art. 17 de la CN', 'arts. 239, 276 y 277 del CPCC', 'art. 277 C.P.C.C.', 'art. 239, CPCC', 'art. 754 del CPCC', 'art. 33 de la LOPJ', 'ley 10.704']}\n"
     ]
    },
    {
     "name": "stderr",
     "output_type": "stream",
     "text": [
      "Procesando con LLM:  16%|█▌        | 47/296 [07:39<41:20,  9.96s/it]"
     ]
    },
    {
     "name": "stdout",
     "output_type": "stream",
     "text": [
      "{'verbatim_citations': ['arts. 1 y 4 Ac. Gral 15/18 SNE', 'Acuerdo Gral. 11/20 del 23-6-2020']}\n",
      "{'verbatim_citations': []}\n",
      "{'verbatim_citations': []}\n",
      "{'verbatim_citations': ['art. 278 LPF', 'arts. 2 inc. 7, 16 inc. e), 26, a.5. de la Ley 26.485', 'art. 1710 CCC', 'art. 1 y 2 Ley 10.855', 'arts. 26 ley 26.485', '709 CCC', 'art 1 inc. 3)', '13 inc.19) y 273, 3er párr. LPF', 'Ley Provincial Nº 10.768', 'Ley Nacional 27.499', 'art. 279 LPF', 'arts. 13 inc.3) 5) 6) y 10) LPF', '32 y 34 del CPCC', 'art. 278 LPF', 'art. 32 CPCC', 'art. 280 del CPCC', 'art. 65 del CPCC']}\n",
      "{'verbatim_citations': ['arts. 1, 13 incs. 3º, 4º, 5º, 6º, 8º y 23º, 278 inc. 3º y 279, LPF', 'art. 42 del CPCC', 'art. 33 de la LOPJ, texto según ley 10.704']}\n",
      "{'verbatim_citations': []}\n"
     ]
    },
    {
     "name": "stderr",
     "output_type": "stream",
     "text": [
      "Procesando con LLM:  16%|█▌        | 48/296 [07:49<41:16,  9.99s/it]"
     ]
    },
    {
     "name": "stdout",
     "output_type": "stream",
     "text": [
      "{'verbatim_citations': ['art. 32 CPCC', 'art. 65 del CPCC', 'conforme arts. 1º y 4º Ac. Gral. 15/18 SNE', 'Acuerdo Gral. 11/20 del 23-6-2020, Punto 4°']}\n",
      "{'verbatim_citations': []}\n",
      "{'verbatim_citations': []}\n",
      "{'verbatim_citations': ['arts. 55 y 58 de la ley 9861', 'art. 40 de la ley 26.061', 'art. 280, CPCC', 'art. 33 de la LOPJ', 'ley 10.704', 'Ley de Protección Integral de los Derechos de las Niñas, Niños y Adolescentes (Ley Nacional 26.061)', 'Ley de Protección Integral de los Derechos del Niño, el Adolescente y la Familia (Ley Provincial 9.861)', 'Código Civil y Comercial de la Nación', 'Ley Procesal de Familia (Ley Provincial 10.668)', 'Procedimiento de intervención del Organismo de Protección de Derechos de la Provincia de Entre Ríos (Resolución 170/19)']}\n"
     ]
    },
    {
     "name": "stderr",
     "output_type": "stream",
     "text": [
      "Procesando con LLM:  17%|█▋        | 49/296 [07:54<35:13,  8.56s/it]"
     ]
    },
    {
     "name": "stdout",
     "output_type": "stream",
     "text": [
      "{'verbatim_citations': ['arts. 1 y 4 Ac. Gral 15/18 SNE', 'Acuerdo Gral. 11/20 del 23-6-2020']}\n",
      "{'verbatim_citations': []}\n",
      "{'verbatim_citations': []}\n",
      "{'verbatim_citations': ['art. 65, CPCC']}\n",
      "{'verbatim_citations': []}\n",
      "{'verbatim_citations': []}\n",
      "{'verbatim_citations': []}\n"
     ]
    },
    {
     "name": "stderr",
     "output_type": "stream",
     "text": [
      "Procesando con LLM:  17%|█▋        | 50/296 [08:02<34:30,  8.42s/it]"
     ]
    },
    {
     "name": "stdout",
     "output_type": "stream",
     "text": [
      "{'verbatim_citations': ['art. 65 del CPCC', 'conforme arts. 1º y 4º Ac. Gral. 15/18 SNE', 'Acuerdo Gral. 11/20 del 23-6-2020']}\n",
      "{'verbatim_citations': []}\n",
      "{'verbatim_citations': ['arts. 3, 12, 29, 30, 62, 63, 64 y 94 de la ley 7046', 'art. 33 de la LOPJ', 'texto según ley 10.704']}\n"
     ]
    },
    {
     "name": "stderr",
     "output_type": "stream",
     "text": [
      "Procesando con LLM:  17%|█▋        | 51/296 [08:06<29:11,  7.15s/it]"
     ]
    },
    {
     "name": "stdout",
     "output_type": "stream",
     "text": [
      "{'verbatim_citations': ['conforme arts. 1º y 4º Ac. Gral. 15/18 SNE', 'ley 7046', 'Art. 28', 'art. 114', 'art. 29']}\n",
      "{'verbatim_citations': []}\n",
      "{'verbatim_citations': []}\n",
      "{'verbatim_citations': ['art. 14 inc. 7º del CPCC', 'arts. 14 inc. 7º y 27 del CPCC', 'art. 33 de la LOPJ', 'texto según ley 10.704']}\n"
     ]
    },
    {
     "name": "stderr",
     "output_type": "stream",
     "text": [
      "Procesando con LLM:  18%|█▊        | 52/296 [08:11<26:21,  6.48s/it]"
     ]
    },
    {
     "name": "stdout",
     "output_type": "stream",
     "text": [
      "{'verbatim_citations': ['art. 33, LOPJ', 'conforme arts. 1° y 4° Ac. Gral. 15/18 SNE', 'Acuerdo Gral. 11/20 del 23-6-2020, Punto 4°']}\n",
      "{'verbatim_citations': []}\n",
      "{'verbatim_citations': ['arts. 3, 29, 30, 63, 64, y 94 de la ley 7046']}\n"
     ]
    },
    {
     "name": "stderr",
     "output_type": "stream",
     "text": [
      "Procesando con LLM:  18%|█▊        | 53/296 [08:15<23:20,  5.77s/it]"
     ]
    },
    {
     "name": "stdout",
     "output_type": "stream",
     "text": [
      "{'verbatim_citations': ['conforme arts. 1º y 4º Ac. Gral. 15/18 SNE', 'ley 7046', 'Art. 28', 'art. 114', 'art. 29']}\n",
      "{'verbatim_citations': []}\n",
      "{'verbatim_citations': []}\n",
      "{'verbatim_citations': ['art. 282 del C.P.C.C', 'art. 276 del CPCC', '26/04/23', '06/07/22', '15/08/23', '27/06/2023', '2017', '2020', 'PERRI ENRIQUE ERNESTO S/ PEDIDO DE QUIEBRA - Expte. Nº 8713', '26 de abril de 2023', '6/7/2022', '15/08/2023', '2/11/23', '3/10/23', '20/10/23', '5 de diciembre de 2023', '26 de diciembre de 2023']}\n",
      "{'verbatim_citations': ['Expte. Nº 4142 sentencia del 02/09/04', 'Expte. Nº 4140 sentencia del 08/09/04', 'Expte. Nº 4247, sentencia del 08/04/05', 'Expte. Nº 8713']}\n",
      "{'verbatim_citations': []}\n",
      "{'verbatim_citations': []}\n"
     ]
    },
    {
     "name": "stderr",
     "output_type": "stream",
     "text": [
      "Procesando con LLM:  18%|█▊        | 54/296 [08:25<27:26,  6.80s/it]"
     ]
    },
    {
     "name": "stdout",
     "output_type": "stream",
     "text": [
      "{'verbatim_citations': ['conforme arts. 1º y 4º Ac. Gral. 15/18 SNE', 'Acuerdo Gral. 11/20 del 23-6-2020']}\n",
      "{'verbatim_citations': []}\n",
      "{'verbatim_citations': []}\n",
      "{'verbatim_citations': ['art. 772 del CCC', 'art. 280 del CPCC', 'art. 17 de la Constitución Nacional (CN)', 'art. 18 de la CN', 'art. 19 CN', 'art. 14 de la ley 48', 'art. 285 bis del Código Procesal Civil y Comercial de Entre Ríos', 'arts. 276, 280 y concs. del CPCCER']}\n"
     ]
    },
    {
     "name": "stderr",
     "output_type": "stream",
     "text": [
      "Procesando con LLM:  19%|█▊        | 55/296 [08:29<24:33,  6.12s/it]"
     ]
    },
    {
     "name": "stdout",
     "output_type": "stream",
     "text": [
      "{'verbatim_citations': ['conforme arts. 1º y 4º Ac. Gral. 15/18 SNE', 'Acuerdo Gral. 11/20 del 23-6-2020']}\n",
      "{'verbatim_citations': []}\n",
      "{'verbatim_citations': ['arts. 3, 14, 29, 30, 63, 64 y 94 de la ley 7046', 'art. 33 de la LOPJ', 'texto según ley 10.704']}\n"
     ]
    },
    {
     "name": "stderr",
     "output_type": "stream",
     "text": [
      "Procesando con LLM:  19%|█▉        | 56/296 [08:33<21:47,  5.45s/it]"
     ]
    },
    {
     "name": "stdout",
     "output_type": "stream",
     "text": [
      "{'verbatim_citations': ['conforme arts. 1º y 4º Ac. Gral. 15/18 SNE', 'ley 7046', 'Art. 28', 'art. 114', 'art. 29']}\n",
      "{'verbatim_citations': []}\n",
      "{'verbatim_citations': ['arts. 3, 14, 29, 30, 63, 64, 78 y 94 de la ley 7046', 'art. 33 de la LOPJ', 'ley 10.704']}\n"
     ]
    },
    {
     "name": "stderr",
     "output_type": "stream",
     "text": [
      "Procesando con LLM:  19%|█▉        | 57/296 [08:37<20:12,  5.07s/it]"
     ]
    },
    {
     "name": "stdout",
     "output_type": "stream",
     "text": [
      "{'verbatim_citations': ['conforme arts. 1º y 4º Ac. Gral. 15/18 SNE', 'ley 7046', 'Art. 28', 'art. 114', 'art. 29']}\n",
      "{'verbatim_citations': []}\n",
      "{'verbatim_citations': ['arts. 3, 29, 30, 63, 64 y 94 de la ley 7046', 'art. 33 de la LOPJ', 'texto según ley 10.704']}\n"
     ]
    },
    {
     "name": "stderr",
     "output_type": "stream",
     "text": [
      "Procesando con LLM:  20%|█▉        | 58/296 [08:42<19:31,  4.92s/it]"
     ]
    },
    {
     "name": "stdout",
     "output_type": "stream",
     "text": [
      "{'verbatim_citations': ['conforme arts. 1º y 4º Ac. Gral. 15/18 SNE', 'ley 7046', 'Art. 28', 'art. 114', 'art. 29']}\n",
      "{'verbatim_citations': ['art. 288 L.C.Q.']}\n",
      "{'verbatim_citations': ['art. 288 L.C.Q.']}\n",
      "{'verbatim_citations': ['art. 15 del CPCC', 'art. 280 y cc. del CPCC', 'arts. 14, 14 bis, 17, 18, 31 y 75 inc. 22 de la CN', 'arts. 8, 21 y 25 de la Convención Americana de Derechos Humanos', 'art. 23 de la Convención sobre los Derechos de las Personas Adultas Mayores', 'art. 8, CCC', 'arts. 1, 2, 3 y 8 del CCCN', 'art. 288 L.C.Q.', 'art. 285 bis del Código Procesal Civil y Comercial de Entre Ríos (CPCCER)', 'art. 14 de la ley 48', 'art. 33 de la LOPJ', 'ley 10.704']}\n"
     ]
    },
    {
     "name": "stderr",
     "output_type": "stream",
     "text": [
      "Procesando con LLM:  20%|█▉        | 59/296 [08:47<20:29,  5.19s/it]"
     ]
    },
    {
     "name": "stdout",
     "output_type": "stream",
     "text": [
      "{'verbatim_citations': ['conforme arts. 1º y 4º Ac. Gral. 15/18 SNE', 'Acuerdo Gral. 11/20 del 23-6-2020']}\n",
      "{'verbatim_citations': ['art. 288 L.C.Q.']}\n",
      "{'verbatim_citations': ['art. 288 L.C.Q.']}\n",
      "{'verbatim_citations': ['art. 15 del CPCC', 'art. 280 y concs. del CPCC', 'arts. 14, 14 bis, 17, 18, 31 y 75 inc. 22 de la CN', 'arts. 8, 21 y 25 de la Convención Americana de Derechos Humanos', 'art. 23 de la Convención sobre los Derechos de las Personas Adultas Mayores', 'art. 8, CCC', 'art. 288 L.C.Q.', 'art. 14 de la ley 48', 'art. 285 bis del Código Procesal Civil y Comercial de Entre Ríos (CPCCER)', 'art. 33 de la LOPJ', 'ley 10.704']}\n"
     ]
    },
    {
     "name": "stderr",
     "output_type": "stream",
     "text": [
      "Procesando con LLM:  20%|██        | 60/296 [08:56<24:29,  6.23s/it]"
     ]
    },
    {
     "name": "stdout",
     "output_type": "stream",
     "text": [
      "{'verbatim_citations': ['conforme arts. 1 y 4 Ac. Gral. 15/18 SNE', 'Acuerdo Gral. 11/20 del 23-6-2020']}\n",
      "{'verbatim_citations': []}\n",
      "{'verbatim_citations': []}\n",
      "{'verbatim_citations': ['art. 14 inc. 7º del CPCC', 'arts. 14 inc. 7º y 27 del CPCC', 'art. 33 de la LOPJ', 'texto según ley 10.704']}\n"
     ]
    },
    {
     "name": "stderr",
     "output_type": "stream",
     "text": [
      "Procesando con LLM:  21%|██        | 61/296 [09:01<22:55,  5.85s/it]"
     ]
    },
    {
     "name": "stdout",
     "output_type": "stream",
     "text": [
      "{'verbatim_citations': ['art. 33, LOPJ', 'conforme arts. 1° y 4° Ac. Gral. 15/18 SNE', 'Acuerdo Gral. 11/20 del 23-6-2020, Punto 4°']}\n",
      "{'verbatim_citations': ['SARLI GISELA N. C/ BANCO PATAGONIA S.A. S/ SUMARISIMO', 'Expte. N° 8956 PARANÁ, 14 de mayo de 2024.']}\n",
      "{'verbatim_citations': ['art. 14 inc. 7 del CPCC', 'art. 33 de la LOPJ', 'ley 10.704']}\n"
     ]
    },
    {
     "name": "stderr",
     "output_type": "stream",
     "text": [
      "Procesando con LLM:  21%|██        | 62/296 [09:05<21:05,  5.41s/it]"
     ]
    },
    {
     "name": "stdout",
     "output_type": "stream",
     "text": [
      "{'verbatim_citations': ['art. 33, LOPJ', 'conforme arts. 1 y 4 Acordada 15/18 SNE', 'Acuerdo Gral. 11/20 del 23-6-2020, Punto 4°']}\n",
      "{'verbatim_citations': ['art. 288 LCQ']}\n",
      "{'verbatim_citations': ['art. 288 LCQ']}\n",
      "{'verbatim_citations': ['art. 19 de la LCQ', 'art. 273 inc. 3) de la ley 24.522', 'art. 273 inc. 3 de la LCQ', 'art. 288 LCQ', 'art. 280 del CPCC']}\n",
      "{'verbatim_citations': ['art. 280 del CPCC', 'art. 273 inc. 3 de la LCQ', 'art. 288 LCQ', 'art. 33 de la LOPJ', 'ley 10.704']}\n",
      "{'verbatim_citations': []}\n"
     ]
    },
    {
     "name": "stderr",
     "output_type": "stream",
     "text": [
      "Procesando con LLM:  21%|██▏       | 63/296 [09:13<23:54,  6.16s/it]"
     ]
    },
    {
     "name": "stdout",
     "output_type": "stream",
     "text": [
      "{'verbatim_citations': ['conforme arts. 1º y 4º Ac. Gral. 15/18 SNE', 'Acuerdo Gral. 11/20 del 23-6-2020', 'art. 288 LCQ']}\n",
      "{'verbatim_citations': []}\n",
      "{'verbatim_citations': []}\n",
      "{'verbatim_citations': ['artículo 1915 del Código Civil y Comercial, antes artículo 2352 del Código Civil', 'artículos 1915 y 1928 del Código Civil y Comercial', 'artículos 4015 y siguientes del Código Civil, y 1897 y siguientes del Código Civil y Comercial', 'artículos 2353 y 2384 del Código Civil; y 1915 y 1928 del Código Civil y Comercial', 'artículo 248 del código de rito', 'artículos 669 del Código Procesal Civil y Comercial', 'BALDO LAZARO RODRIGO C/ HEREDEROS Y/O SUCESORES DE REGINA MANZAN DE BALDO y/o quien o quienes se consideren con derecho sobre el inmueble S/ USUCAPION - Expte. Nº 8974', 'Stürtz Enrique José s/ usucapión, Nº 8425']}\n",
      "{'verbatim_citations': ['art. 2458 del Código Civil', 'art. 7, CCC', 'art. 3, CCC', 'art. 33 de la LOPJ', 'texto según ley 10.704']}\n",
      "{'verbatim_citations': []}\n"
     ]
    },
    {
     "name": "stderr",
     "output_type": "stream",
     "text": [
      "Procesando con LLM:  22%|██▏       | 64/296 [09:23<27:54,  7.22s/it]"
     ]
    },
    {
     "name": "stdout",
     "output_type": "stream",
     "text": [
      "{'verbatim_citations': ['artículo 248 del código de rito', 'Ley 14.159', 'artículos 669 del Código Procesal Civil y Comercial', 'artículo 670 del Código Procesal Civil y Comercial', 'art. 65 del CPCC', 'arts. 1º y 4º Ac. Gral. 15/18 SNE', 'Acuerdo Gral. 11/20 del 23-6-2020']}\n",
      "{'verbatim_citations': ['LEY DE DEFENSA CONSUMIDOR']}\n",
      "{'verbatim_citations': ['art. 14 inc. 7 del CPCC', 'art. 33 de la LOPJ', 'ley 10.704']}\n"
     ]
    },
    {
     "name": "stderr",
     "output_type": "stream",
     "text": [
      "Procesando con LLM:  22%|██▏       | 65/296 [09:27<24:23,  6.33s/it]"
     ]
    },
    {
     "name": "stdout",
     "output_type": "stream",
     "text": [
      "{'verbatim_citations': ['art. 33, LOPJ', 'conforme arts. 1 y 4 Acordada 15/18 SNE', 'Acuerdo Gral. 11/20 del 23-6-2020, Punto 4°']}\n",
      "{'verbatim_citations': []}\n",
      "{'verbatim_citations': []}\n",
      "{'verbatim_citations': ['art. 14 inc. 7º del CPCC', 'arts. 14 inc. 2º y 27 del CPCC', 'art. 33 de la LOPJ', 'texto según ley 10.704']}\n"
     ]
    },
    {
     "name": "stderr",
     "output_type": "stream",
     "text": [
      "Procesando con LLM:  22%|██▏       | 66/296 [09:33<23:25,  6.11s/it]"
     ]
    },
    {
     "name": "stdout",
     "output_type": "stream",
     "text": [
      "{'verbatim_citations': ['art. 33, LOPJ', 'conforme arts. 1° y 4° Ac. Gral. 15/18 SNE', 'Acuerdo Gral. 11/20 del 23-6-2020, Punto 4°']}\n",
      "{'verbatim_citations': ['Expte. Nº 8986']}\n",
      "{'verbatim_citations': []}\n",
      "{'verbatim_citations': ['art. 730 del Código Civil y Comercial', 'artículos 730 sgtes. y ccs. del Código Civil y Comercial', 'art. 17 de la CN', 'art. 33 de la LOPJ', 'texto según ley 10.704']}\n"
     ]
    },
    {
     "name": "stderr",
     "output_type": "stream",
     "text": [
      "Procesando con LLM:  23%|██▎       | 67/296 [09:38<22:22,  5.86s/it]"
     ]
    },
    {
     "name": "stdout",
     "output_type": "stream",
     "text": [
      "{'verbatim_citations': ['arts. 1º y 4º del Ac. Gral 15/18 SNE', 'Acuerdo Gral. 11/20 del 23-6-2020']}\n",
      "{'verbatim_citations': []}\n",
      "{'verbatim_citations': []}\n",
      "{'verbatim_citations': ['art. 77 del CPCC', 'art. 65 del CPCC', 'art. 2º incs. a) y e) de la Ley 26.487', 'in re: \"Arocena de González Nidya Esther c/ Angel Jorge Luis - Desalojo\"', 'sentencia del 17/3/1983, L.A.S. 1983, Fº 37', '\"Fernandez Mónica Alejandra c/Transportes Mariano Moreno S.A. - Sumario por daño Moral y extrapatrimonial\"', 'sentencia del 28/05/1993, L.A.S. 1993, F° 417', '\"Beheran Florentina c/ Woodbine Parish Sonia Elizabeth s/ ordinario\"', 'Expte. Nº 6123, sentencia del 14/02/2012', 'art. 65 CPCC', 'art. 33 de la LOPJ, texto según ley 10.704']}\n",
      "{'verbatim_citations': []}\n"
     ]
    },
    {
     "name": "stderr",
     "output_type": "stream",
     "text": [
      "Procesando con LLM:  23%|██▎       | 68/296 [09:46<23:59,  6.31s/it]"
     ]
    },
    {
     "name": "stdout",
     "output_type": "stream",
     "text": [
      "{'verbatim_citations': ['art. 65 del CPCC', 'conforme arts. 1º y 4º Ac. Gral. 15/18 SNE', 'Acuerdo Gral. 11/20 del 23-6-2020']}\n",
      "{'verbatim_citations': []}\n",
      "{'verbatim_citations': ['art. 14 inc. 7 del CPCC', 'art. 33 de la LOPJ', 'ley 10.704']}\n"
     ]
    },
    {
     "name": "stderr",
     "output_type": "stream",
     "text": [
      "Procesando con LLM:  23%|██▎       | 69/296 [09:49<20:52,  5.52s/it]"
     ]
    },
    {
     "name": "stdout",
     "output_type": "stream",
     "text": [
      "{'verbatim_citations': ['art. 33, LOPJ', 'conforme arts. 1 y 4 Acordada 15/18 SNE', 'Acuerdo Gral. 11/20 del 23-6-2020, Punto 4°']}\n",
      "{'verbatim_citations': []}\n",
      "{'verbatim_citations': []}\n",
      "{'verbatim_citations': ['artículo 657 del Código Civil y Comercial', 'artículos 276, 280 y 281 del código procesal civil y comercial', 'artículo 638 del CCC', 'artículo 3 de dicho instrumento internacional', 'artículo 2', 'artículo 12 de la mencionada Convención sobre los Derechos del Niño', 'artículo 14 bis', 'artículo 7', 'artículo 9 de la Convención de los Derechos del Niño', 'artículo 5.4 de la \"Guía de Buenas Prácticas en Procesos con actuación conjunta de órganos judiciales con competencia material en familia, COPNAF y Ministerio Público de la Defensa\"', 'Corte Interamericana de Derechos Humanos, caso Fornerón e hija vs. Argentina, sent. del 27/4/2012', 'Corte Suprema de Justicia de la Nación; Fallos: 344:2669']}\n",
      "{'verbatim_citations': ['art. 657 del CC y C', 'arts. 104 y sgtes.', 'art. 611 y sgtes.', 'JUAREZ JAURE ANGELINA ELSA y OTRAS S/ GUARDA JUDICIAL - Expte. Nº 9001', 'CSJN, Fallos: 324:122', 'CSJN, Fallos: 327:5210', 'CSJN, Fallos 335:1838', 'CSJN, Fallos: 328:2870', 'CSJN, Fallos: 331:2047', 'Ley 26061', 'art. 639 del C.C y C', 'arts. 3- (constitucionalizada conforme inc. 22 del art.75 de la Carta Magna Nacional)', 'CSJN, Fallos: 344:2647', 'CSJN, Fallos: 2901', 'CSJN, Fallos: 344:2669', 'Fallos: 339: 1763', 'Fallos: 336:97', 'Fallos: 344:3078']}\n",
      "{'verbatim_citations': []}\n",
      "{'verbatim_citations': []}\n",
      "{'verbatim_citations': []}\n"
     ]
    },
    {
     "name": "stderr",
     "output_type": "stream",
     "text": [
      "Procesando con LLM:  24%|██▎       | 70/296 [10:01<27:40,  7.35s/it]"
     ]
    },
    {
     "name": "stdout",
     "output_type": "stream",
     "text": [
      "{'verbatim_citations': ['conforme arts. 1º y 4º Ac. Gral. 15/18 SNE', 'Acuerdo Gral. 11/20 del 23-6-2020']}\n",
      "{'verbatim_citations': []}\n",
      "{'verbatim_citations': ['art. 14 inc. 7 del CPCC', 'art. 33 de la LOPJ', 'ley 10.704']}\n"
     ]
    },
    {
     "name": "stderr",
     "output_type": "stream",
     "text": [
      "Procesando con LLM:  24%|██▍       | 71/296 [10:05<23:24,  6.24s/it]"
     ]
    },
    {
     "name": "stdout",
     "output_type": "stream",
     "text": [
      "{'verbatim_citations': ['art. 33, LOPJ', 'conforme arts. 1 y 4 Acordada 15/18 SNE', 'Acuerdo Gral. 11/20 del 23-6-2020, Punto 4°']}\n",
      "{'verbatim_citations': ['art. 288 L.C.Q.']}\n",
      "{'verbatim_citations': ['art. 288 L.C.Q.']}\n",
      "{'verbatim_citations': ['art. 14 del CPCC', 'art. 33 de la LOPJ', 'ley 10.704']}\n"
     ]
    },
    {
     "name": "stderr",
     "output_type": "stream",
     "text": [
      "Procesando con LLM:  24%|██▍       | 72/296 [10:09<21:23,  5.73s/it]"
     ]
    },
    {
     "name": "stdout",
     "output_type": "stream",
     "text": [
      "{'verbatim_citations': ['art. 33, LOPJ', 'conforme arts. 1 y 4 Acordada 15/18 SNE', 'Acuerdo Gral. 11/20 del 23-6-2020, Punto 4°']}\n",
      "{'verbatim_citations': ['Expte. Nº 9013']}\n",
      "{'verbatim_citations': []}\n",
      "{'verbatim_citations': ['art. 6 inc. 1º del CPCC', 'art. 119 de la ley 7046', 'arts. 13 del CPCC y 41 inc. 3 de la LOPJ', 'art. 64° (texto s/Ley N° 10.704)', 'art. 485 del CPCC', 'arts. 485 y concs. del CPCC', 'art. 33 de la LOPJ', 'BONAZZOLA CONSTANZA AGOSTINA C/ MINISTERIO DE EDUCACION DE LA PROVINCIA DE SANTA FE S/ EJECUCION DE HONORARIOS (RECIBIDO POR INCOMPETENCIA) - Expte. Nº 9013']}\n"
     ]
    },
    {
     "name": "stderr",
     "output_type": "stream",
     "text": [
      "Procesando con LLM:  25%|██▍       | 73/296 [10:14<20:51,  5.61s/it]"
     ]
    },
    {
     "name": "stdout",
     "output_type": "stream",
     "text": [
      "{'verbatim_citations': ['conforme Ac. Gral. 15/18 SNE', 'Acuerdo Gral. 11/20 del 23-6-2020']}\n",
      "{'verbatim_citations': []}\n",
      "{'verbatim_citations': ['art. 14 inc. 7 del CPCC', 'art. 33 de la LOPJ', 'ley 10.704']}\n"
     ]
    },
    {
     "name": "stderr",
     "output_type": "stream",
     "text": [
      "Procesando con LLM:  25%|██▌       | 74/296 [10:18<18:29,  5.00s/it]"
     ]
    },
    {
     "name": "stdout",
     "output_type": "stream",
     "text": [
      "{'verbatim_citations': ['art. 33, LOPJ', 'conforme arts. 1 y 4 Acordada 15/18 SNE', 'Acuerdo Gral. 11/20 del 23-6-2020, Punto 4°']}\n",
      "{'verbatim_citations': []}\n",
      "{'verbatim_citations': []}\n",
      "{'verbatim_citations': ['arts. 16, 19 ss. y cc. de la ley de honorarios profesionales', 'art. 280, segundo párrafo del CPCC', 'artículo 1255 del CCC', 'art. 31, Const. Nac.', 'art. 33 de la LOPJ, texto según ley 10.704']}\n",
      "{'verbatim_citations': []}\n"
     ]
    },
    {
     "name": "stderr",
     "output_type": "stream",
     "text": [
      "Procesando con LLM:  25%|██▌       | 75/296 [10:24<19:32,  5.31s/it]"
     ]
    },
    {
     "name": "stdout",
     "output_type": "stream",
     "text": [
      "{'verbatim_citations': ['conforme arts. 1º y 4º Ac. Gral. 15/18 SNE', 'Acuerdo Gral. 11/20 del 23-6-2020']}\n",
      "{'verbatim_citations': ['L.F. N° 10889', 'Expte. Nº 9021']}\n",
      "{'verbatim_citations': ['L.F. N° 10889', 'Expte. Nº 9021']}\n",
      "{'verbatim_citations': ['art. 38 inc. a) del CPP', 'artículo 61', 'artículo 62', 'artículo 63', 'artículos 5 y 6 del CPCC', 'artículo 3 del CPCC', 'artículo 75 de la LOPJ', 'artículo 75 de la LOPJ', 'artículo 205 inciso 1 i) de la Constitución Provincial', 'art. 75 de la LOPJ', 'art. 33 de la LOPJ', 'ley 10.704']}\n"
     ]
    },
    {
     "name": "stderr",
     "output_type": "stream",
     "text": [
      "Procesando con LLM:  26%|██▌       | 76/296 [10:29<18:56,  5.16s/it]"
     ]
    },
    {
     "name": "stdout",
     "output_type": "stream",
     "text": [
      "{'verbatim_citations': ['art. 75 de la LOPJ', 'arts. 1º y 4º Ac. Gral. 15/18 SNE', 'Acuerdo Gral. 11/20 del 23-6-2020']}\n",
      "{'verbatim_citations': []}\n",
      "{'verbatim_citations': []}\n",
      "{'verbatim_citations': ['art. 38 inc. a) del CPP', 'artículo 61', 'artículo 62', 'artículo 63', 'artículos 5 y 6 del CPCC', 'artículo 3 del CPCC', 'artículo 75 de la LOPJ', 'artículo 205 inciso 1 i) de la Constitución Provincial', 'art. 75 de la LOPJ', 'art. 33 de la LOPJ', 'texto según ley 10.704']}\n"
     ]
    },
    {
     "name": "stderr",
     "output_type": "stream",
     "text": [
      "Procesando con LLM:  26%|██▌       | 77/296 [10:34<19:18,  5.29s/it]"
     ]
    },
    {
     "name": "stdout",
     "output_type": "stream",
     "text": [
      "{'verbatim_citations': ['art. 75 de la LOPJ', 'arts. 1º y 4º Ac. Gral. 15/18 SNE', 'Acuerdo Gral. 11/20 del 23-6-2020']}\n",
      "{'verbatim_citations': ['L.F. N° 12945', 'Expte. Nº 9027']}\n",
      "{'verbatim_citations': ['L.F. N° 12945']}\n",
      "{'verbatim_citations': ['art. 38 inc. a) del CPP', 'artículo 61', 'artículo 62', 'artículo 63', 'artículos 5 y 6 del CPCC', 'artículo 3 del CPCC', 'artículo 75 de la LOPJ', 'artículo 205 inciso 1 i) de la Constitución Provincial', 'art. 75 de la LOPJ', 'art. 33 de la LOPJ', 'texto según ley 10.704']}\n"
     ]
    },
    {
     "name": "stderr",
     "output_type": "stream",
     "text": [
      "Procesando con LLM:  26%|██▋       | 78/296 [10:40<19:20,  5.33s/it]"
     ]
    },
    {
     "name": "stdout",
     "output_type": "stream",
     "text": [
      "{'verbatim_citations': ['art. 75 de la LOPJ', 'conforme arts. 1º y 4º Ac. Gral. 15/18 SNE', 'Acuerdo Gral. 11/20 del 23-6-2020']}\n",
      "{'verbatim_citations': ['LF. 10781 S/ INCIDENTE COMPETENCIA', 'Expte. Nº 9028']}\n",
      "{'verbatim_citations': ['PREDIGER, DARIO GERMAN - TENENCIA DE ARMA DE FUEGO DE USO CIVIL - LF. 10781 S/ INCIDENTE COMPETENCIA', 'Expte. Nº 9028']}\n",
      "{'verbatim_citations': ['art. 38 inc. a) del CPP', 'artículo 61', 'artículo 62', 'artículo 63', 'artículos 5 y 6 del CPCC', 'artículo 3 del CPCC', 'artículo 75 de la LOPJ', 'artículo 75 de la LOPJ', 'artículo 205 inciso 1 i) de la Constitución Provincial', 'art. 75 de la LOPJ', 'art. 33 de la LOPJ', 'texto según ley 10.704']}\n"
     ]
    },
    {
     "name": "stderr",
     "output_type": "stream",
     "text": [
      "Procesando con LLM:  27%|██▋       | 79/296 [10:46<20:12,  5.59s/it]"
     ]
    },
    {
     "name": "stdout",
     "output_type": "stream",
     "text": [
      "{'verbatim_citations': ['art. 75 de la LOPJ', 'arts. 1º y 4º Ac. Gral. 15/18 SNE', 'Acuerdo Gral. 11/20 del 23-6-2020']}\n",
      "{'verbatim_citations': []}\n",
      "{'verbatim_citations': []}\n",
      "{'verbatim_citations': ['art. 38 inc. a) del CPP', 'artículo 61', 'artículo 62', 'artículo 63', 'artículos 5 y 6 del CPCC', 'artículo 3 del CPCC', 'artículo 75 de la LOPJ', 'artículo 205 inciso 1 i) de la Constitución Provincial', 'art. 75 de la LOPJ', 'art. 33 de la LOPJ', 'texto según ley 10.704']}\n"
     ]
    },
    {
     "name": "stderr",
     "output_type": "stream",
     "text": [
      "Procesando con LLM:  27%|██▋       | 80/296 [10:51<19:05,  5.31s/it]"
     ]
    },
    {
     "name": "stdout",
     "output_type": "stream",
     "text": [
      "{'verbatim_citations': ['art. 75 de la LOPJ', 'arts. 1º y 4º Ac. Gral. 15/18 SNE', 'Acuerdo Gral. 11/20 del 23-6-2020']}\n",
      "{'verbatim_citations': []}\n",
      "{'verbatim_citations': []}\n",
      "{'verbatim_citations': ['art. 38 inc. a) del CPP', 'artículo 61', 'artículo 62', 'artículo 63', 'artículos 5 y 6 del CPCC', 'artículo 3 del CPCC', 'artículo 75 de la LOPJ', 'artículo 205 inciso 1 i) de la Constitución Provincial', 'art. 75 de la LOPJ', 'art. 33 de la LOPJ', 'texto según ley 10.704', 'CENA, Mario Walter y Otros - TENENCIA DE ESTUPEFACIENTES CON FINES DE COMERCIALIZACION, LESIONES LEVES CALIFICADAS, VIOLACION DE DOMICILIO, DESOBEDIENCIA A LA ORDEN JUDICIAL, CONCURSO REAL S/ INCIDENTE COMPETENCIA - Expte. Nº 9034']}\n"
     ]
    },
    {
     "name": "stderr",
     "output_type": "stream",
     "text": [
      "Procesando con LLM:  27%|██▋       | 81/296 [10:57<19:35,  5.47s/it]"
     ]
    },
    {
     "name": "stdout",
     "output_type": "stream",
     "text": [
      "{'verbatim_citations': ['art. 75 de la LOPJ', 'arts. 1º y 4º Ac. Gral. 15/18 SNE', 'Acuerdo Gral. 11/20 del 23-6-2020']}\n",
      "{'verbatim_citations': []}\n",
      "{'verbatim_citations': []}\n",
      "{'verbatim_citations': ['art. 36 de la ley 10.956', 'art. 58 de la ley 6902', 'art. 26 inc. a) de la ley 10.407', 'art. 6 inciso c) de la ley 26.485', 'ley 26.485', 'art. 75 inc. 22, 18, 31, 16 de la CN', 'art. 37 inc. 11 de la Ley Orgánica', 'art. 33 de la LOPJ, texto según ley 10.704', 'Resol. Trib. Sup. 340/2023 DGA del 28/12/2023', 'in re: Sala N° 3 del Trabajo del STJER, 11/9/2023, “Zapata, Edgardo Javier y Otros c/ Rectora Escuela Secundaria N° 2 Juan H.Vieytes – Violencia Laboral – Expte. N° 287/2023 – Conflicto de Competencia, Expte. N° 6434)']}\n"
     ]
    },
    {
     "name": "stderr",
     "output_type": "stream",
     "text": [
      "Procesando con LLM:  28%|██▊       | 82/296 [11:02<19:43,  5.53s/it]"
     ]
    },
    {
     "name": "stdout",
     "output_type": "stream",
     "text": [
      "{'verbatim_citations': ['conforme arts. 1º y 4º Ac. Gral. 15/18 SNE', 'Acuerdo Gral. 11/20 del 23-6-2020']}\n",
      "{'verbatim_citations': []}\n",
      "{'verbatim_citations': ['CARABALLO MAIRA SOLEDAD S MEDIDA CAUTELAR (FAMILIA) (RESTITUCIÓN DE MENOR Z.D.A.--ASIGNADO POR MUI A FAMILIA N° 2)', 'Nº12834', 'JUZGADO DE FAMILIA N° 2 S/ QUEJA', 'QUEJA INTERPUESTA POR LA DRA. SONIA SPREAFICO', 'Expte. Nº 9041', 'resolución de la Sala Primera de la Cámara Segunda de Apelaciones de Paraná dictada en fecha 27 de febrero de 2024']}\n",
      "{'verbatim_citations': ['arts. 276 y 277 del CPCC', 'art. 716 del CCC', 'art. 12 de la LPF', 'art. 33 de la LOPJ', 'texto según ley 10.704']}\n"
     ]
    },
    {
     "name": "stderr",
     "output_type": "stream",
     "text": [
      "Procesando con LLM:  28%|██▊       | 83/296 [11:09<20:37,  5.81s/it]"
     ]
    },
    {
     "name": "stdout",
     "output_type": "stream",
     "text": [
      "{'verbatim_citations': ['conforme arts. 1 y 4 Ac. Gral 15/18 SNE', 'Acuerdo Gral. 11/20 del 23-6-2020']}\n",
      "{'verbatim_citations': []}\n",
      "{'verbatim_citations': ['Expte. Nº 8344']}\n",
      "{'verbatim_citations': ['artículo 14 del Código Procesal Civil y Comercial', 'Corte Suprema de Justicia de la Nación', 'doctrina de Fallos: 319:758']}\n"
     ]
    },
    {
     "name": "stderr",
     "output_type": "stream",
     "text": [
      "Procesando con LLM:  28%|██▊       | 84/296 [11:13<18:55,  5.35s/it]"
     ]
    },
    {
     "name": "stdout",
     "output_type": "stream",
     "text": [
      "{'verbatim_citations': ['arts. 1° y 4° Acordada 15/18 SNE', 'Acuerdo Gral. 11/20 del 23-6-2020, Punto 4°']}\n",
      "{'verbatim_citations': []}\n",
      "{'verbatim_citations': []}\n",
      "{'verbatim_citations': ['art. 280 del CPCC', 'art. 14 de la Constitución Nacional', 'art. 16 de la Constitución Nacional', 'art. 17 de la Constitución Nacional', 'art. 18 de la Constitución Nacional', 'art. 28 de la Constitución Nacional', 'art. 8 de la Convención Americana sobre Derechos Humanos', 'art. 25 de la Convención Americana sobre Derechos Humanos', 'art. 276 del CPCC', 'art. 285 bis del Código Procesal Civil y Comercial de Entre Ríos', 'art. 14 de la ley 48', 'BAGGIO JUAN ALEJANDRO Y OTROS C/ BAGGIO RUFINO PABLO (h) S/ ORDINARIO REVOCATORIA DE DONACION - Expte. Nº 8344']}\n",
      "{'verbatim_citations': ['artículo 285 bis CPCC', 'CSJN, Fallos, 215:199', 'Fallos: 338:1534', 'Fallos: 339:869', 'Fallos: 340:403', 'Fallos: 339:307', 'Fallos: 342:2183', 'Fallos: 323:1247', 'Fallos: 325:2319', 'Fallos: 339:299', 'art. 15, Ley 48', 'CSJN, Fallos, 302:961', 'CSJN, Fallos, 322:1488', 'CSJN, Fallos, 2880', 'CSJN, Fallos, 3030', 'CSJN, Fallos, 315:106', 'CSJN, Fallos, 329:5903', 'CSJN, Fallos, 338:552', 'CSJN, Fallos, 344:1857', 'CSJN, Fallos, 158:34', 'CSJN, Fallos, 201:159', 'CSJN, Fallos, 201:414', 'CSJN, Fallos, 244:536', 'CSJN, Fallos, 267:293']}\n",
      "{'verbatim_citations': []}\n",
      "{'verbatim_citations': []}\n"
     ]
    },
    {
     "name": "stderr",
     "output_type": "stream",
     "text": [
      "Procesando con LLM:  29%|██▊       | 85/296 [11:26<26:58,  7.67s/it]"
     ]
    },
    {
     "name": "stdout",
     "output_type": "stream",
     "text": [
      "{'verbatim_citations': ['arts. 1º y 4º Ac. Gral. 15/18 SNE', 'Acuerdo Gral. 11/20 del 23-6-2020']}\n",
      "{'verbatim_citations': []}\n",
      "{'verbatim_citations': []}\n",
      "{'verbatim_citations': ['art. 1740 del CCCN', 'art. 10, CCCN', 'art. 1794, CCCN', 'art. 3, CCCN', 'arts. 959 y conc., CCCN', 'art. 160 inc. 6º, CPCC', 'arts. 17 y 18 de la Constitución Nacional', 'art. 1, LS.', 'art. 772, CCCN', 'art. 61', 'art. 269 del CPCC', 'arts. 768 y 1748, CCCN', 'Ley 25.561', 'art. 3, CCCN', 'art. 10 de la ley 23.928', 'Fallos: 290:245; 306:1964; 323:2409; 324:3345; 325:2600; 327:5614; 328:2567; 329:385 y 4032; 330:3109 y 333:447', 'Fallos: 14:425; 147:286', 'Fallos: 300:1029; 305:1304', 'arts. 65 del CPCC']}\n",
      "{'verbatim_citations': ['Ley 25.561', 'art. 772 del CCCN', 'art. 63 CADH', 'art. 3 del CCCN', 'causa \"Maldonado Vda. de Prtez Marta Beatriz c/ Abasto Tolento Francisco Amado y otro s/ Sumario\", Expte. Nº 6597, sent. del 7 de mayo de 2014', 'Expte. Nº 8620']}\n",
      "{'verbatim_citations': ['art. 118 de la ley 17.418', 'ILARREGUI, Luis Alberto C/ RIO URUGUAY COOPERATIVA DE SEGUROS LIMITADA S/ ORDINARIO - Expte. Nº 8620', 'Rojas Walter Gastón c/ Maiztegui Héctor Ariel y otros s/ ordinario daños y perjuicios, Expte. Nº 6784/C, sentencia del 30/4/2020', 'Faure c/ Castro, Expte. Nº 8633, sentencia del 10/11/2022']}\n",
      "{'verbatim_citations': ['arts. 3, 64 y 94 de la ley 7046 modif. por ley 11.141']}\n",
      "{'verbatim_citations': []}\n"
     ]
    },
    {
     "name": "stderr",
     "output_type": "stream",
     "text": [
      "Procesando con LLM:  29%|██▉       | 86/296 [11:38<31:42,  9.06s/it]"
     ]
    },
    {
     "name": "stdout",
     "output_type": "stream",
     "text": [
      "{'verbatim_citations': ['art. 65 del CPCC', 'arts. 3, 64 y 94 de la ley 7046 modif. por ley 11.141', 'conforme arts. 1º y 4º Ac. Gral. 15/18 SNE', 'Acuerdo Gral. 11/20 del 23-6-2020, Punto 4°)']}\n",
      "{'verbatim_citations': []}\n",
      "{'verbatim_citations': ['arts. 3, 29, 30, 63, 64, 70 y 94 de la ley 7046']}\n"
     ]
    },
    {
     "name": "stderr",
     "output_type": "stream",
     "text": [
      "Procesando con LLM:  29%|██▉       | 87/296 [11:42<25:28,  7.31s/it]"
     ]
    },
    {
     "name": "stdout",
     "output_type": "stream",
     "text": [
      "{'verbatim_citations': ['conforme arts. 1º y 4º Ac. Gral. 15/18 SNE', 'ley 7046', 'Art. 28', 'art. 114', 'art. 29']}\n",
      "{'verbatim_citations': []}\n",
      "{'verbatim_citations': ['arts. 3, 5, 14, 29, 30, 63, 64 y 94 de la ley 7046 modificada por la ley 11.141', 'art. 30 de la ley arancelaria', 'arts. 64 y 94 de la ley 7046 modificada por la ley 11.141', 'art. 33 de la LOPJ, texto según ley 10.704']}\n"
     ]
    },
    {
     "name": "stderr",
     "output_type": "stream",
     "text": [
      "Procesando con LLM:  30%|██▉       | 88/296 [11:45<21:46,  6.28s/it]"
     ]
    },
    {
     "name": "stdout",
     "output_type": "stream",
     "text": [
      "{'verbatim_citations': ['conforme arts. 1º y 4º Ac. Gral. 15/18 SNE', 'ley 7046', 'Art. 28', 'art. 114', 'art. 29']}\n",
      "{'verbatim_citations': []}\n",
      "{'verbatim_citations': []}\n",
      "{'verbatim_citations': ['artículos 1722, 1757, 1758 y 1769 del código civil y comercial', 'artículo 1741 del código civil y comercial', 'artículos 537, 541 y siguientes del código civil y comercial', 'incisos c) y d) del artículo 42 de la ley nacional de tránsito', 'artículo 48, inciso a) de la LNT', 'artículo 65 del código procesal civil y comercial']}\n",
      "{'verbatim_citations': ['art. 33 de la LOPJ', 'ley 10.704']}\n",
      "{'verbatim_citations': []}\n"
     ]
    },
    {
     "name": "stderr",
     "output_type": "stream",
     "text": [
      "Procesando con LLM:  30%|███       | 89/296 [11:53<22:36,  6.55s/it]"
     ]
    },
    {
     "name": "stdout",
     "output_type": "stream",
     "text": [
      "{'verbatim_citations': ['art. 65 del CPCC', 'conforme arts. 1º y 4º Ac. Gral. 15/18 SNE', 'Acuerdo Gral. 11/20 del 23-6-2020, Punto 4°)']}\n",
      "{'verbatim_citations': []}\n",
      "{'verbatim_citations': []}\n",
      "{'verbatim_citations': ['art. 14 del Código Procesal Civil y Comercial de Entre Ríos', 'Fallos: 343:1123', 'Fallos: 341:694']}\n"
     ]
    },
    {
     "name": "stderr",
     "output_type": "stream",
     "text": [
      "Procesando con LLM:  30%|███       | 90/296 [11:57<20:02,  5.84s/it]"
     ]
    },
    {
     "name": "stdout",
     "output_type": "stream",
     "text": [
      "{'verbatim_citations': ['arts. 1 y 4 Acordada 15/18 SNE', 'Acuerdo Gral. 11/20 del 23-6-2020']}\n",
      "{'verbatim_citations': []}\n",
      "{'verbatim_citations': []}\n",
      "{'verbatim_citations': ['art. 2386 CCC', 'art. 2461 CCC', 'arts. 3282 CC y 2277 del CCC', 'arts. 3953 y 3955 CC', 'art. 2563 inc.c) CCC', 'art. 2560 CCC', 'art. 2459 CCC', 'art. 2385 CCC', 'art. 2445 CCC', 'art. 2644 CCC', 'art. 7° CCC', 'art. 17 CN', 'art. 2454 CCC', 'art. 65, CPCC', '']}\n",
      "{'verbatim_citations': ['art. 2459 del CCC', 'art. 2537 del CCC', 'art. 33 de la LOPJ', 'ley 10.704']}\n",
      "{'verbatim_citations': []}\n"
     ]
    },
    {
     "name": "stderr",
     "output_type": "stream",
     "text": [
      "Procesando con LLM:  31%|███       | 91/296 [12:06<23:06,  6.76s/it]"
     ]
    },
    {
     "name": "stdout",
     "output_type": "stream",
     "text": [
      "{'verbatim_citations': ['art. 65 del CPCC', 'conforme arts. 1º y 4º Ac. Gral. 15/18 SNE', 'Acuerdo Gral. 11/20 del 23-6-2020']}\n",
      "{'verbatim_citations': []}\n",
      "{'verbatim_citations': []}\n",
      "{'verbatim_citations': ['art. 40 la Ley 24.240', 'arts. 1108 CCC', 'art. 1108 del CCC', 'art. 280. 2º párrafo, CPCC', 'art. 1408, CCC', 'art. 342, inc. 1º, CPCC', 'art. 280, CPCC', 'arts. 65 del CPCC']}\n",
      "{'verbatim_citations': ['artículo 280, segundo párrafo, del código procesal civil y comercial', 'artículo 40 de la ley especial aplicable', 'artículo 40 de la ley de defensa del consumidor', 'parte final del artículo1', 'artículo 65 del código procesal civil y comercial']}\n",
      "{'verbatim_citations': ['art. 30 de la ley 7046 modif. por ley 11.141', 'arts. 64 y 94 de la ley arancelaria', 'art. 33 de la LOPJ, texto según ley 10.704']}\n",
      "{'verbatim_citations': []}\n"
     ]
    },
    {
     "name": "stderr",
     "output_type": "stream",
     "text": [
      "Procesando con LLM:  31%|███       | 92/296 [12:16<26:26,  7.78s/it]"
     ]
    },
    {
     "name": "stdout",
     "output_type": "stream",
     "text": [
      "{'verbatim_citations': ['art. 65 del CPCC', 'arts. 3, 30, \"MOREIRA ANGELA MARGARITA C/ NUEVO BANCO DE ENTRE RIOS S.A. S/ SUMARISIMO\" - Expte. Nº 8958 52, 63, 64 y 94 de la ley 7046 modif. por ley 11.141-', 'conforme arts. 1º y 4º Ac. Gral. 15/18 SNE', 'Acuerdo Gral. 11/20 del 23-6-2020, Punto 4°)', 'art. 114', 'art. 29']}\n",
      "{'verbatim_citations': []}\n",
      "{'verbatim_citations': []}\n",
      "{'verbatim_citations': ['art. 1091 CCC', 'arts. 2071 y 2072 del CC', 'art. 1191 del CC', 'art. 280 del CPCC', 'arts. 55, 126, 135, 136, 297, 299, 1160 CC', 'art. 1185 CC', 'art. 1810 - texto según ley 17.711', 'art. 65 del CPCC', 'ZAPLETAL MARIA CARLA C/ BALBI DE AIRALDI MIRTA CATALINA Y OTROS S/ ORDINARIO - Expte. Nº 8978']}\n",
      "{'verbatim_citations': ['art. 2071', 'ley 17.711', 'art. 1601', 'art. 2773', 'STJER, Sala II, “Banco de Entre Ríos S/Concurso Preventivo” Expte. 3946, voto Dra. Pañeda, sentencia del 9/11/2004', 'art. 7, CCC', 'arts. 1185 y 1187 del Código Civil', 'art. 1198, CC - 1061, CCC', 'art. 33 de la LOPJ, texto según ley 10.704']}\n",
      "{'verbatim_citations': []}\n"
     ]
    },
    {
     "name": "stderr",
     "output_type": "stream",
     "text": [
      "Procesando con LLM:  31%|███▏      | 93/296 [12:24<27:02,  7.99s/it]"
     ]
    },
    {
     "name": "stdout",
     "output_type": "stream",
     "text": [
      "{'verbatim_citations': ['art. 65 del CPCC', 'conforme arts. 1º y 4º Ac. Gral. 15/18 SNE', 'Acuerdo Gral. 11/20 del 23-6-2020']}\n",
      "{'verbatim_citations': []}\n",
      "{'verbatim_citations': ['art. 14 inc. 7 del CPCC', 'art. 33 de la LOPJ', 'ley 10.704']}\n"
     ]
    },
    {
     "name": "stderr",
     "output_type": "stream",
     "text": [
      "Procesando con LLM:  32%|███▏      | 94/296 [12:28<22:39,  6.73s/it]"
     ]
    },
    {
     "name": "stdout",
     "output_type": "stream",
     "text": [
      "{'verbatim_citations': ['arts. 1 y 4 Acordada 15/18 SNE', 'Acuerdo Gral. 11/20 del 23-6-2020, Punto 4°']}\n",
      "{'verbatim_citations': []}\n",
      "{'verbatim_citations': []}\n",
      "{'verbatim_citations': ['art. 52 bis LDC', 'art. 8 bis ley 24.240', 'arts. 1095 del CCCN', 'art. 280, CPCC', 'ARAOZ LORENA C/ BANCO MACRO S.A S/ SUMARISIMO - Expte. Nº 8987', 'art. 280 del CPCC', 'art. 65 del CPCC']}\n",
      "{'verbatim_citations': ['art. 30 de la ley 7046 modif. por ley 11.141', 'arts. 64 y 94 de la ley arancelaria', 'art. 33 de la LOPJ, texto según ley 10.704']}\n",
      "{'verbatim_citations': []}\n"
     ]
    },
    {
     "name": "stderr",
     "output_type": "stream",
     "text": [
      "Procesando con LLM:  32%|███▏      | 95/296 [12:36<23:54,  7.14s/it]"
     ]
    },
    {
     "name": "stdout",
     "output_type": "stream",
     "text": [
      "{'verbatim_citations': ['art. 65 del CPCC', 'arts. 3, 29, 30, 63, 64 y 94 de la ley 7046 modif. por ley 11.141', 'conforme arts. 1º y 4º Ac. Gral. 15/18 SNE', 'Acuerdo Gral. 11/20 del 23-6-2020', 'art. 28', 'art. 114', 'art. 29']}\n",
      "{'verbatim_citations': []}\n",
      "{'verbatim_citations': []}\n",
      "{'verbatim_citations': ['artículo 138 de la ley procesal de familia', 'artículos 658, 659 y 668 del Código Civil y Comercial', 'artículos 541, 659 y 660 del Código Civil y Comercial', 'artículo 280, segundo párrafo, del código procesal civil y comercial', 'artículo 660 del código civil y comercial', 'artículos 276 y 277 del código procesal civil y comercial', 'artículo 668 del código civil y comercial']}\n",
      "{'verbatim_citations': ['art. 668 del CCC', 'art. 1 del CCC', 'art. 27 de la Convención de los Derechos del Niño', 'inc. 2º', 'inc. 3º', 'inc. 4º', 'arts. 555 a 557', 'art. 644', 'art. 668 del CCC', 'art. 33 de la LOPJ', 'ley 10.704', 'Ley 27360', 'BERTONI VALERIA LUJAN C/ RABEY GONZALO JULIO, RABEY JORGE PABLO Y SULIMOVICH SILVIA ESTER S/ ALIMENTOS - Expte. Nº 8988']}\n",
      "{'verbatim_citations': []}\n"
     ]
    },
    {
     "name": "stderr",
     "output_type": "stream",
     "text": [
      "Procesando con LLM:  32%|███▏      | 96/296 [12:45<25:09,  7.55s/it]"
     ]
    },
    {
     "name": "stdout",
     "output_type": "stream",
     "text": [
      "{'verbatim_citations': ['art. 138 de la ley procesal de familia', 'conforme arts. 1º y 4º Ac. Gral. 15/18 SNE', 'Acuerdo Gral. 11/20 del 23-6-2020']}\n",
      "{'verbatim_citations': []}\n",
      "{'verbatim_citations': []}\n",
      "{'verbatim_citations': ['art. 58 de la Ley 17.418', 'art. 50 de la ley 24.240', 'art. 42 de la CN', 'art. 58 de la Ley de Seguros', 'art. 1094', 'art. 280, párrafo 2°, CPCC', 'art. 285, CPCC', 'art. 65 de la LDC', 'arts 53, LDC']}\n",
      "{'verbatim_citations': []}\n",
      "{'verbatim_citations': ['art. 33 de la LOPJ', 'ley 10.704']}\n",
      "{'verbatim_citations': []}\n"
     ]
    },
    {
     "name": "stderr",
     "output_type": "stream",
     "text": [
      "Procesando con LLM:  33%|███▎      | 97/296 [12:54<26:59,  8.14s/it]"
     ]
    },
    {
     "name": "stdout",
     "output_type": "stream",
     "text": [
      "{'verbatim_citations': ['art. 53 LDC', 'conforme arts. 1º y 4º Ac. Gral. 15/18 SNE', 'Acuerdo Gral. 11/20 del 23-6-2020']}\n",
      "{'verbatim_citations': []}\n",
      "{'verbatim_citations': []}\n",
      "{'verbatim_citations': ['arts. 257 y 258 del CPCC', 'artículos 257 y 258 CPCC', 'art 280 del CPCC', 'art. 53 de la LDC', 'GIAMPAOLO, Rafael Mariano C/ BANCO DE SERVICIOS FINANCIEROS S.A. y Otro S/ ORDINARIO DAÑOS Y PERJUICIOS - Expte. Nº 8998', 'Paulin Osvaldo A. c/ Superior Gobierno de la Provincia de Entre Ríos s/ Ejecución de Honorarios expte. 132421, sentencia 20/8/1997', 'Daino Ricardo c/ Luis Pintini e Hijos S.R.L. s/ Sumario expte. 4573, sent. 15/11/05']}\n",
      "{'verbatim_citations': []}\n",
      "{'verbatim_citations': ['arts. 3, 64 y 94 de la ley 7046 modif. por ley 11.141', 'art. 33 de la LOPJ, texto según ley 10.704']}\n",
      "{'verbatim_citations': []}\n"
     ]
    },
    {
     "name": "stderr",
     "output_type": "stream",
     "text": [
      "Procesando con LLM:  33%|███▎      | 98/296 [13:04<28:20,  8.59s/it]"
     ]
    },
    {
     "name": "stdout",
     "output_type": "stream",
     "text": [
      "{'verbatim_citations': ['art. 53 de la LDC', 'arts. 3, 64 y 94 de la ley 7046 modif. por ley 11.141', 'conforme arts. 1º y 4º Ac. Gral. 15/18 SNE', 'Acuerdo Gral. 11/20 del 23-6-2020, Punto 4°']}\n",
      "{'verbatim_citations': []}\n",
      "{'verbatim_citations': []}\n",
      "{'verbatim_citations': ['art. 52 bis de la Ley 24.240', 'art. 280 del CPCC', 'art. 53, LDC', 'cfr. esta Sala en autos \"Delaloye Hugo Luis y otra c/ Asociación Argentina de Los Adventistas del Séptimo Día s/ Ordinario Daños y Perjuicios\" Expte. 8939, sentencia del 15/03/2024', '\"De la Cruz Mariano Ramón c/Renault Argentina S.A. y otra s/Sumarísimo\", sentencia del 27/06/2011', '\"MARCHESE MELISA MELANY C/ FCA DE AHORRO PARA FINES DETERMINADOS Y OTRO S/ SUMARISIMO\" - Expte. Nº 9002']}\n",
      "{'verbatim_citations': ['artículo 280, segundo párrafo, del código procesal civil y comercial', 'artículo 53 de la ley de defensa del consumidor', 'disposición 137/2024 de la Secretaría de Defensa del Consumidor y Lealtad Comercial']}\n",
      "{'verbatim_citations': []}\n",
      "{'verbatim_citations': []}\n",
      "{'verbatim_citations': []}\n"
     ]
    },
    {
     "name": "stderr",
     "output_type": "stream",
     "text": [
      "Procesando con LLM:  33%|███▎      | 99/296 [13:14<30:06,  9.17s/it]"
     ]
    },
    {
     "name": "stdout",
     "output_type": "stream",
     "text": [
      "{'verbatim_citations': ['art. 53 del LDC', 'conforme arts. 1º y 4º Ac. Gral. 15/18 SNE', 'Acuerdo Gral. 11/20 del 23-6-2020']}\n",
      "{'verbatim_citations': []}\n",
      "{'verbatim_citations': []}\n",
      "{'verbatim_citations': ['art. 276 del CPCC', 'art. 277 del CPCC', 'art. 281 del CPCC', 'art. 33 de la LOPJ', 'GUY EDITH E. C/ CARDOZO JORGE R. Y OTROS S. INTERDICTO DE RECOBRAR (Expte. Nº 13.557) S/ RECURSO DE QUEJA (QUEJA INTERPUESTA POR EL DR. JUAN PABLO EMILIO FEDERIK)', 'Expte. Nº 9010', 'I.A.P.V. c/ Morales Silvia C. s/ Ordinario', 'Expte. Nº 6643 sentencia del 11/3/2014', 'Orlandi María Inés c/ Obra Social de la Actividad Docente (OSPLAD) s/ sumarisimo- Expte. Nº 7622 - sentencia del 23/4/2018']}\n"
     ]
    },
    {
     "name": "stderr",
     "output_type": "stream",
     "text": [
      "Procesando con LLM:  34%|███▍      | 100/296 [13:19<25:48,  7.90s/it]"
     ]
    },
    {
     "name": "stdout",
     "output_type": "stream",
     "text": [
      "{'verbatim_citations': ['arts. 1º y 4º del Ac. Gral 15/18 SNE', 'Acuerdo Gral. 11/20 del 23-6-2020']}\n",
      "{'verbatim_citations': ['art. 288 L.C.Q.']}\n",
      "{'verbatim_citations': ['art. 288 L.C.Q.']}\n",
      "{'verbatim_citations': ['art. 14 inc. 10 del CPCC', 'art. 15 CPCC', 'art. 278 LCQ', 'art. 288 L.C.Q.', 'art. 14 inc. 5 del CPCC', 'arts. 8, 25 de la Corte Interamericana de Derechos Humanos', 'arts. 14 bis., 15, 17 y 18 de la Constitución Nacional', '2, 3, 4, 8, 2537, 2562, 2563, 2566 y 2567 del CCC', 'Ley 27499', 'Ley 26485', 'artículo 277 del CPCC', 'art. 11, LOPJER']}\n",
      "{'verbatim_citations': ['art. 288 L.C.Q.', 'art. 33 de la LOPJ', 'ley 10.704']}\n",
      "{'verbatim_citations': []}\n"
     ]
    },
    {
     "name": "stderr",
     "output_type": "stream",
     "text": [
      "Procesando con LLM:  34%|███▍      | 101/296 [13:27<25:45,  7.93s/it]"
     ]
    },
    {
     "name": "stdout",
     "output_type": "stream",
     "text": [
      "{'verbatim_citations': ['conforme arts. 1º y 4º Ac. Gral. 15/18 SNE', 'Acuerdo Gral. 11/20 del 23-6-2020']}\n",
      "{'verbatim_citations': []}\n",
      "{'verbatim_citations': []}\n",
      "{'verbatim_citations': ['art. 276 del CPCC', 'art. 277 del CPCC', 'Art. 18 C.N.', 'art. 281 del CPCC', 'art. 75 inc. 22 C.N.', 'art. 8 inc. h', 'art. 17 C.N.', 'arts. 592, 596 y 600 del C.P.C.C.', 'art. 33 de la LOPJ', 'ley 10.704']}\n"
     ]
    },
    {
     "name": "stderr",
     "output_type": "stream",
     "text": [
      "Procesando con LLM:  34%|███▍      | 102/296 [13:32<22:48,  7.05s/it]"
     ]
    },
    {
     "name": "stdout",
     "output_type": "stream",
     "text": [
      "{'verbatim_citations': ['arts. 1º y 4º del Ac. Gral 15/18 SNE', 'Acuerdo Gral. 11/20 del 23-6-2020']}\n",
      "{'verbatim_citations': []}\n",
      "{'verbatim_citations': []}\n",
      "{'verbatim_citations': ['art. 4005 CC', 'art. 4015 del CC', 'arts. 944, 1931, incs. b) y e) ss. y cc. CCC', 'art. 2410 del CC', 'art. 65 del CPCC', '\"ROJAS DANIEL ALEJANDRO Y OTRO C/ HEREDEROS Y/O SUCESORES DE BALDI JUAN NICOLAS S/ USUCAPION\" - Expte. Nº', 'cfr. \" Araoz Lorena C/Banco Macro S.A. S/Sumarisimo (Digital)\" Expte Nº 8987, sentencia del 25/6/2024']}\n",
      "{'verbatim_citations': ['art. 33 de la LOPJ, texto según ley 10.704']}\n",
      "{'verbatim_citations': []}\n"
     ]
    },
    {
     "name": "stderr",
     "output_type": "stream",
     "text": [
      "Procesando con LLM:  35%|███▍      | 103/296 [13:40<23:41,  7.36s/it]"
     ]
    },
    {
     "name": "stdout",
     "output_type": "stream",
     "text": [
      "{'verbatim_citations': ['art. 65 del CPCC', 'arts. 3, 64 y 94 de la ley 7046 modif. por ley 11.141', 'conforme arts. 1º y 4º Ac. Gral. 15/18 SNE', 'Acuerdo Gral. 11/20 del 23-6-2020, Punto 4°)']}\n",
      "{'verbatim_citations': []}\n",
      "{'verbatim_citations': ['art. 14 inc. 7 del CPCC', 'art. 33 de la LOPJ', 'ley 10.704']}\n"
     ]
    },
    {
     "name": "stderr",
     "output_type": "stream",
     "text": [
      "Procesando con LLM:  35%|███▌      | 104/296 [13:45<21:00,  6.57s/it]"
     ]
    },
    {
     "name": "stdout",
     "output_type": "stream",
     "text": [
      "{'verbatim_citations': ['art. 33, LOPJ', 'conforme arts. 1 y 4 Acordada 15/18 SNE', 'Acuerdo Gral. 11/20 del 23-6-2020']}\n",
      "{'verbatim_citations': []}\n",
      "{'verbatim_citations': []}\n",
      "{'verbatim_citations': ['art. 277 del CPCC', 'arts. 276 y 277 del CPCC', 'art. 33 de la LOPJ', 'texto según ley 10.704']}\n"
     ]
    },
    {
     "name": "stderr",
     "output_type": "stream",
     "text": [
      "Procesando con LLM:  35%|███▌      | 105/296 [13:50<19:02,  5.98s/it]"
     ]
    },
    {
     "name": "stdout",
     "output_type": "stream",
     "text": [
      "{'verbatim_citations': ['conforme arts. 1º y 4º Ac. Gral 15/18 SNE', 'Acuerdo Gral. 11/20 del 23-6-2020, Punto 4°']}\n",
      "{'verbatim_citations': []}\n",
      "{'verbatim_citations': []}\n",
      "{'verbatim_citations': ['art. 70 LA', 'art. 21 de la Ley 7046', 'art. 1255 CCC', 'arts. 21 y 70 de la ley 7046', 'ley 3666', 'art. 28 de la Constitución Nacional', 'art. 31, Const. Nac.', 'art. 33 de la LOPJ', 'ley 10.704']}\n",
      "{'verbatim_citations': []}\n"
     ]
    },
    {
     "name": "stderr",
     "output_type": "stream",
     "text": [
      "Procesando con LLM:  36%|███▌      | 106/296 [13:56<18:53,  5.97s/it]"
     ]
    },
    {
     "name": "stdout",
     "output_type": "stream",
     "text": [
      "{'verbatim_citations': ['arts. 1º y 4º Ac. Gral. 15/18 SNE', 'Acuerdo Gral. 11/20 del 23-6-2020']}\n",
      "{'verbatim_citations': []}\n",
      "{'verbatim_citations': []}\n",
      "{'verbatim_citations': ['art. 1740 del CCC', 'art. 162 del CPCC', 'art. 1738 del CCC', 'art. 271 del CPCC', 'art. 160 incs. 5) y 6) del CPCC', 'art. 18 CN', 'art. 65 del CPCC', 'art. 280 del CPCC', 'MOIA ANGEL LUIS Y OTROS C/ ESTADO PROVINCIAL DE ENTRE RIOS S/ ORDINARIO DAÑOS Y PERJUICIOS - Expte. Nº 9044']}\n",
      "{'verbatim_citations': []}\n",
      "{'verbatim_citations': ['3, 64 y 94 de la ley 7046 modif. por ley 11.141', 'art. 33 de la LOPJ, texto según ley 10.704']}\n",
      "{'verbatim_citations': []}\n"
     ]
    },
    {
     "name": "stderr",
     "output_type": "stream",
     "text": [
      "Procesando con LLM:  36%|███▌      | 107/296 [14:05<21:40,  6.88s/it]"
     ]
    },
    {
     "name": "stdout",
     "output_type": "stream",
     "text": [
      "{'verbatim_citations': ['art. 65 del CPCC', '3, 64 y 94 de la ley 7046 modif. por ley 11.141', 'conforme arts. 1º y 4º Ac. Gral. 15/18 SNE', 'Acuerdo Gral. 11/20 del 23-6-2020, Punto 4°']}\n",
      "{'verbatim_citations': []}\n",
      "{'verbatim_citations': []}\n",
      "{'verbatim_citations': ['art. 14 del CPCC', 'art. 33 de la \"SINDICATURA DE BUTTAZZONI MABEL TERESITA C/ GAVIOLA MARIA INES Y OTRA S/ ORDINARIO (CONC. Y QUIEBRA)\" Expte. N° 9045 LOPJ, texto según ley 10.704']}\n"
     ]
    },
    {
     "name": "stderr",
     "output_type": "stream",
     "text": [
      "Procesando con LLM:  36%|███▋      | 108/296 [14:09<19:21,  6.18s/it]"
     ]
    },
    {
     "name": "stdout",
     "output_type": "stream",
     "text": [
      "{'verbatim_citations': ['art. 33, LOPJ', 'conforme arts. 1 y 4 Acordada 15/18 SNE', 'Acuerdo Gral. 11/20 del 23-6-2020, Punto 4°']}\n",
      "{'verbatim_citations': []}\n",
      "{'verbatim_citations': ['art. 14 inc. 7 del CPCC', 'art. 33 de la LOPJ', 'ley 10.704']}\n"
     ]
    },
    {
     "name": "stderr",
     "output_type": "stream",
     "text": [
      "Procesando con LLM:  37%|███▋      | 109/296 [14:13<17:16,  5.54s/it]"
     ]
    },
    {
     "name": "stdout",
     "output_type": "stream",
     "text": [
      "{'verbatim_citations': ['art. 33, LOPJ', 'conforme arts. 1 y 4 Acordada 15/18 SNE', 'Acuerdo Gral. 11/20 del 23-6-2020, Punto 4°']}\n",
      "{'verbatim_citations': ['art. 288 L.C.Q.']}\n",
      "{'verbatim_citations': ['art. 288 L.C.Q.']}\n",
      "{'verbatim_citations': ['art. 14 del CPCC', 'art. 288 L.C.Q.', 'art. 33 de la LOPJ', 'ley 10.704']}\n"
     ]
    },
    {
     "name": "stderr",
     "output_type": "stream",
     "text": [
      "Procesando con LLM:  37%|███▋      | 110/296 [14:18<16:30,  5.32s/it]"
     ]
    },
    {
     "name": "stdout",
     "output_type": "stream",
     "text": [
      "{'verbatim_citations': ['art. 33, LOPJ', 'conforme arts. 1 y 4 Acordada 15/18 SNE', 'Acuerdo Gral. 11/20 del 23-6-2020, Punto 4°']}\n",
      "{'verbatim_citations': []}\n",
      "{'verbatim_citations': []}\n",
      "{'verbatim_citations': ['Acuerdo General del Superior Tribunal de Justicia Nº 28/15 de fecha 22/9/2015, Punto 5º)', 'art. 79 de L.O.P.J.', 'art. 33 de la LOPJ, texto según ley 10.704', 'Resolución Nº 3320 de Caja Forense de fecha 1/7/2023']}\n"
     ]
    },
    {
     "name": "stderr",
     "output_type": "stream",
     "text": [
      "Procesando con LLM:  38%|███▊      | 111/296 [14:23<15:45,  5.11s/it]"
     ]
    },
    {
     "name": "stdout",
     "output_type": "stream",
     "text": [
      "{'verbatim_citations': ['Acuerdo Gral. 11/20 del 23-6-2020']}\n",
      "{'verbatim_citations': []}\n",
      "{'verbatim_citations': []}\n",
      "{'verbatim_citations': ['Acuerdo General del Superior Tribunal de Justicia Nº 28/15 de fecha 22/9/2015, Punto 5º)', 'art. 79 de L.O.P.J.', 'art. 33 de la LOPJ, texto según ley 10.704', 'Resolución 3282 de Caja Forense de fecha 1/1/2023', 'Resolución 3320 del 1/7/2023 de Caja Forense']}\n"
     ]
    },
    {
     "name": "stderr",
     "output_type": "stream",
     "text": [
      "Procesando con LLM:  38%|███▊      | 112/296 [14:27<14:55,  4.87s/it]"
     ]
    },
    {
     "name": "stdout",
     "output_type": "stream",
     "text": [
      "{'verbatim_citations': ['Acuerdo Gral. 11/20 del 23-6-2020']}\n",
      "{'verbatim_citations': []}\n",
      "{'verbatim_citations': []}\n",
      "{'verbatim_citations': ['Acuerdo General del Superior Tribunal de Justicia Nº 28/15 de fecha 22/9/2015, Punto 5º)', 'art. 79 de L.O.P.J.', 'art. 33 de la LOPJ, texto según ley 10.704', 'Resolución Nº 3320 de Caja Forense de fecha 1/7/2023']}\n"
     ]
    },
    {
     "name": "stderr",
     "output_type": "stream",
     "text": [
      "Procesando con LLM:  38%|███▊      | 113/296 [14:33<15:27,  5.07s/it]"
     ]
    },
    {
     "name": "stdout",
     "output_type": "stream",
     "text": [
      "{'verbatim_citations': ['Acuerdo Gral. 11/20 del 23-6-2020']}\n",
      "{'verbatim_citations': []}\n",
      "{'verbatim_citations': []}\n",
      "{'verbatim_citations': ['Acuerdo General del Superior Tribunal de Justicia Nº 28/15 de fecha 22/9/2015, Punto 5º)', 'art. 79 de L.O.P.J.', 'art. 33 de la LOPJ, texto según ley 10.704', 'Resolución Nº 3320 de Caja Forense de fecha 1/7/2023']}\n"
     ]
    },
    {
     "name": "stderr",
     "output_type": "stream",
     "text": [
      "Procesando con LLM:  39%|███▊      | 114/296 [14:37<14:40,  4.84s/it]"
     ]
    },
    {
     "name": "stdout",
     "output_type": "stream",
     "text": [
      "{'verbatim_citations': ['Acuerdo Gral. 11/20 del 23-6-2020']}\n",
      "{'verbatim_citations': []}\n",
      "{'verbatim_citations': []}\n",
      "{'verbatim_citations': ['Acuerdo General del Superior Tribunal de Justicia Nº 28/15 de fecha 22/9/2015, Punto 5º)', 'art. 79 de L.O.P.J.', 'art. 33 de la LOPJ, texto según ley 10.704', 'Resolución Nº 3320 de Caja Forense de fecha 1/7/2023']}\n"
     ]
    },
    {
     "name": "stderr",
     "output_type": "stream",
     "text": [
      "Procesando con LLM:  39%|███▉      | 115/296 [14:41<13:55,  4.61s/it]"
     ]
    },
    {
     "name": "stdout",
     "output_type": "stream",
     "text": [
      "{'verbatim_citations': ['Acuerdo Gral. 11/20 del 23-6-2020']}\n",
      "{'verbatim_citations': []}\n",
      "{'verbatim_citations': []}\n",
      "{'verbatim_citations': ['Acuerdo General del Superior Tribunal de Justicia Nº 28/15 de fecha 22/9/2015, Punto 5º)', 'art. 79 de L.O.P.J.', 'art. 33 de la LOPJ, texto según ley 10.704', 'Resolución 3320 de Caja Forense de fecha 1/7/2023']}\n"
     ]
    },
    {
     "name": "stderr",
     "output_type": "stream",
     "text": [
      "Procesando con LLM:  39%|███▉      | 116/296 [14:46<14:06,  4.70s/it]"
     ]
    },
    {
     "name": "stdout",
     "output_type": "stream",
     "text": [
      "{'verbatim_citations': ['Acuerdo Gral. 11/20 del 23-6-2020']}\n",
      "{'verbatim_citations': []}\n",
      "{'verbatim_citations': []}\n",
      "{'verbatim_citations': ['Acuerdo General del Superior Tribunal de Justicia Nº 28/15 de fecha 22/9/2015, Punto 5º)', 'art. 79 de L.O.P.J.', 'art. 33 de la LOPJ, texto según ley 10.704']}\n"
     ]
    },
    {
     "name": "stderr",
     "output_type": "stream",
     "text": [
      "Procesando con LLM:  40%|███▉      | 117/296 [14:51<14:38,  4.91s/it]"
     ]
    },
    {
     "name": "stdout",
     "output_type": "stream",
     "text": [
      "{'verbatim_citations': ['Acuerdo Gral. 11/20 del 23-6-2020']}\n",
      "{'verbatim_citations': []}\n",
      "{'verbatim_citations': []}\n",
      "{'verbatim_citations': ['art. 280 del CPCC', 'cfr. art. 276, ss. y concs. del CPCC', 'art. 33 de la LOPJ', 'ley 10.704']}\n"
     ]
    },
    {
     "name": "stderr",
     "output_type": "stream",
     "text": [
      "Procesando con LLM:  40%|███▉      | 118/296 [14:56<14:14,  4.80s/it]"
     ]
    },
    {
     "name": "stdout",
     "output_type": "stream",
     "text": [
      "{'verbatim_citations': ['arts. 1 y 4 del SNE', 'Acuerdo Gral. 11/20 del 23-6-2020']}\n",
      "{'verbatim_citations': []}\n",
      "{'verbatim_citations': []}\n",
      "{'verbatim_citations': ['art. 10 del Reglamento Nº 1 de Presentaciones Electrónicas', 'art. 10 del Reglamento Nº 1 de Presentaciones Electrónicas', 'art. 33 de la LOPJ', 'texto según ley 10.704']}\n"
     ]
    },
    {
     "name": "stderr",
     "output_type": "stream",
     "text": [
      "Procesando con LLM:  40%|████      | 119/296 [15:00<13:48,  4.68s/it]"
     ]
    },
    {
     "name": "stdout",
     "output_type": "stream",
     "text": [
      "{'verbatim_citations': ['conforme arts. 1º y 4º Ac. Gral. 15/18 SNE', 'Acuerdo Gral. 11/20 del 23-6-2020']}\n",
      "{'verbatim_citations': []}\n",
      "{'verbatim_citations': []}\n",
      "{'verbatim_citations': ['arts. 166 y ss. del CPCC', 'art. 250, del mismo cuerpo legal', 'art. 285, CPCC', 'art. 2, CCC', 'art. 33 de la LOPJ', 'texto según ley 10.704']}\n"
     ]
    },
    {
     "name": "stderr",
     "output_type": "stream",
     "text": [
      "Procesando con LLM:  41%|████      | 120/296 [15:05<13:24,  4.57s/it]"
     ]
    },
    {
     "name": "stdout",
     "output_type": "stream",
     "text": [
      "{'verbatim_citations': ['arts. 1º y 4º Ac. Gral. 15/18 SNE', 'Acuerdo Gral. 11/20 del 23-6-2020']}\n",
      "{'verbatim_citations': []}\n",
      "{'verbatim_citations': ['art. 14 inc. 7 del CPCC', 'art. 33 de la LOPJ', 'ley 10.704']}\n"
     ]
    },
    {
     "name": "stderr",
     "output_type": "stream",
     "text": [
      "Procesando con LLM:  41%|████      | 121/296 [15:08<12:32,  4.30s/it]"
     ]
    },
    {
     "name": "stdout",
     "output_type": "stream",
     "text": [
      "{'verbatim_citations': ['art. 33, LOPJ', 'arts. 1 y 4 Acordada 15/18 SNE', 'Acuerdo Gral. 11/20 del 23-6-2020, Punto 4°']}\n",
      "{'verbatim_citations': []}\n",
      "{'verbatim_citations': ['Expte. Nº 9073']}\n",
      "{'verbatim_citations': ['art. 33 de la LOPJ, texto según ley 10.704']}\n"
     ]
    },
    {
     "name": "stderr",
     "output_type": "stream",
     "text": [
      "Procesando con LLM:  41%|████      | 122/296 [15:12<12:01,  4.15s/it]"
     ]
    },
    {
     "name": "stdout",
     "output_type": "stream",
     "text": [
      "{'verbatim_citations': ['arts. 1º y 4º Ac. Gral. 15/18 SNE', 'Acuerdo Gral. 11/20 del 23-6-2020']}\n",
      "{'verbatim_citations': []}\n",
      "{'verbatim_citations': []}\n",
      "{'verbatim_citations': ['art. 14 inc. 7º del CPCC', 'arts. 14 inc. 7º y 27 del CPCC', 'art. 33 de la LOPJ', 'ley 10.704']}\n"
     ]
    },
    {
     "name": "stderr",
     "output_type": "stream",
     "text": [
      "Procesando con LLM:  42%|████▏     | 123/296 [15:18<13:50,  4.80s/it]"
     ]
    },
    {
     "name": "stdout",
     "output_type": "stream",
     "text": [
      "{'verbatim_citations': ['art. 33, LOPJ', 'conforme arts. 1° y 4° Ac. Gral. 15/18 SNE', 'Acuerdo Gral. 11/20 del 23-6-2020, Punto 4°']}\n",
      "{'verbatim_citations': []}\n",
      "{'verbatim_citations': []}\n",
      "{'verbatim_citations': ['Fallos: 310:819; 311:870 y 1810; 312:555 y 891; 325:2275', 'arts. 13, inc. 19, y 29, LPF', 'art. 33 de la LOPJ, texto según ley 10.704']}\n"
     ]
    },
    {
     "name": "stderr",
     "output_type": "stream",
     "text": [
      "Procesando con LLM:  42%|████▏     | 124/296 [15:25<15:01,  5.24s/it]"
     ]
    },
    {
     "name": "stdout",
     "output_type": "stream",
     "text": [
      "{'verbatim_citations': ['Acuerdo Gral. 11/20 del 23-6-2020']}\n",
      "{'verbatim_citations': []}\n",
      "{'verbatim_citations': ['Expte. N° 9081']}\n",
      "{'verbatim_citations': ['art. 280 del CPCC', 'art. 280 del CPCC', 'art. 33 de la LOPJ', 'ley 10.704']}\n"
     ]
    },
    {
     "name": "stderr",
     "output_type": "stream",
     "text": [
      "Procesando con LLM:  42%|████▏     | 125/296 [15:29<14:34,  5.11s/it]"
     ]
    },
    {
     "name": "stdout",
     "output_type": "stream",
     "text": [
      "{'verbatim_citations': ['art. 280 del CPCC', 'conforme arts. 1º y 4º Ac. Gral. 15/18 SNE', 'Acuerdo Gral. 11/20 del 23-6-2020']}\n",
      "{'verbatim_citations': []}\n",
      "{'verbatim_citations': []}\n",
      "{'verbatim_citations': ['arts. 1722 y 1729 CCC', 'art. 103 inc. a) del CCC', 'art. 280, segundo párrafo del CPCC', 'arts. 65, CPCC']}\n",
      "{'verbatim_citations': ['arts. 3, 64 y 94 de la ley 7046 modif. por ley 11.141', 'art. 33 de la LOPJ', 'texto según ley 10.704']}\n",
      "{'verbatim_citations': ['IENO JESUS JOSE LUIS y OTROS C/ GONZALEZ HUGO RAMON y OTRO S/ ORDINARIO DAÑOS Y PERJUICIOS', 'Expte. Nº 9086']}\n"
     ]
    },
    {
     "name": "stderr",
     "output_type": "stream",
     "text": [
      "Procesando con LLM:  43%|████▎     | 126/296 [15:39<17:58,  6.34s/it]"
     ]
    },
    {
     "name": "stdout",
     "output_type": "stream",
     "text": [
      "{'verbatim_citations': ['art. 65 del CPCC', 'arts. 3, 64 y 94 de la ley 7046 modif. por ley 11.141', 'conforme arts. 1º y 4º Ac. Gral. 15/18 SNE', 'Acuerdo Gral. 11/20 del 23-6-2020, Punto 4°']}\n",
      "{'verbatim_citations': []}\n",
      "{'verbatim_citations': []}\n",
      "{'verbatim_citations': ['ley 22172', 'art. 2336 CCC', 'art. 33 de la LOPJ', 'TAMAÑO NELIDA JUANA S/ SUCESORIO AB INTESTATO (COMPETENCIA) - Expte. N° 9087', 'art. 2336 del CCC', 'Juzgado Civil y Comercial N° 1 de Paraná', 'Juzgado de Primera Instancia en lo Civil, Comercial y Laboral de Federal']}\n"
     ]
    },
    {
     "name": "stderr",
     "output_type": "stream",
     "text": [
      "Procesando con LLM:  43%|████▎     | 127/296 [15:43<16:18,  5.79s/it]"
     ]
    },
    {
     "name": "stdout",
     "output_type": "stream",
     "text": [
      "{'verbatim_citations': ['Acuerdo Gral. 11/20 del 23-6-2020']}\n",
      "{'verbatim_citations': ['art. 288 L.C.Q.']}\n",
      "{'verbatim_citations': ['art. 288 L.C.Q.']}\n",
      "{'verbatim_citations': ['art. 14 del CPCC', 'art. 288 L.C.Q.', 'art. 33 de la LOPJ', 'ley 10.704']}\n"
     ]
    },
    {
     "name": "stderr",
     "output_type": "stream",
     "text": [
      "Procesando con LLM:  43%|████▎     | 128/296 [15:48<15:34,  5.56s/it]"
     ]
    },
    {
     "name": "stdout",
     "output_type": "stream",
     "text": [
      "{'verbatim_citations': ['art. 33, LOPJ', 'conforme arts. 1 y 4 Acordada 15/18 SNE', 'Acuerdo Gral. 11/20 del 23-6-2020, Punto 4°']}\n",
      "{'verbatim_citations': []}\n",
      "{'verbatim_citations': []}\n",
      "{'verbatim_citations': ['art. 56 LS', 'art. 68 LNT', 'art. 118, párr. 3, de la Ley 17.148', 'art. 68 de la Ley 24.449', 'arts. 277, 280 y ccs. del CPCC', 'art. 70 de la LS', 'art. 65 del CPCC']}\n",
      "{'verbatim_citations': []}\n",
      "{'verbatim_citations': ['art. 30 de la ley arancelaria local', 'art. 64 de la ley 7046 modif. por ley 11.141', 'arts. 3, 30, 63, 64 y 94 de la ley 7046', 'art. 33 de la LOPJ, texto según ley 10.704']}\n",
      "{'verbatim_citations': []}\n"
     ]
    },
    {
     "name": "stderr",
     "output_type": "stream",
     "text": [
      "Procesando con LLM:  44%|████▎     | 129/296 [15:59<19:31,  7.02s/it]"
     ]
    },
    {
     "name": "stdout",
     "output_type": "stream",
     "text": [
      "{'verbatim_citations': ['art. 65 del CPCC', 'arts. 3, 30, 63, 64 y 94 de la ley 7046', 'arts. 1º y 4º Ac. Gral. 15/18 SNE', 'Acuerdo Gral. 11/20 del 23-6-2020', 'art. 28', 'art. 114', 'art. 29']}\n",
      "{'verbatim_citations': []}\n",
      "{'verbatim_citations': []}\n",
      "{'verbatim_citations': ['art. 1103 del CC', 'art. 1044 CC', 'art. 1045 CC', 'art. 1777 del CCC', 'art. 172 del Código Penal', 'art. 363 del CPCC', 'arts. 65, 2° párrafo, y 66, CPCC', 'ASCAR MARIA ANDREA C/ AHIBE ROSA ARGENTINA Y OTROS S/ ORDINARIO DAÑOS Y PERJUICIOS - Expte. Nº 8941']}\n",
      "{'verbatim_citations': ['art. 1103 del Código Civil', 'art. 1777 del Código Civil y Comercial', 'ley 24.441', 'artículos 276, 280 y 281 del código procesal civil y comercial', 'ASCAR MARIA ANDREA C/ AHIBE ROSA ARGENTINA Y OTROS S/ ORDINARIO DAÑOS Y PERJUICIOS - Expte. Nº 8941', 'Expte. Nº 8254', 'sentencia del 23/11/2015', 'sentencia del 15/3/2017', 'sentencia del 4/11/2019', 'artículo 280, segundo párrafo, del código procesal civil y comercial']}\n",
      "{'verbatim_citations': []}\n",
      "{'verbatim_citations': ['arts. 3, 64 y 94 de la ley 7046 modif. por ley 11.141']}\n",
      "{'verbatim_citations': []}\n"
     ]
    },
    {
     "name": "stderr",
     "output_type": "stream",
     "text": [
      "Procesando con LLM:  44%|████▍     | 130/296 [16:10<23:29,  8.49s/it]"
     ]
    },
    {
     "name": "stdout",
     "output_type": "stream",
     "text": [
      "{'verbatim_citations': ['art. 65 del CPCC', 'arts. 3, 64 y 94 de la ley 7046 modif. por ley 11.141', 'conforme arts. 1º y 4º Ac. Gral. 15/18 SNE', 'Acuerdo Gral. 11/20 del 23-6-2020']}\n",
      "{'verbatim_citations': []}\n",
      "{'verbatim_citations': []}\n",
      "{'verbatim_citations': ['artículo 52 ley de defensa del consumidor', 'artículos 276, 280 y 281 del código procesal civil y comercial', 'artículo 280, segundo párrafo, del código procesal civil y comercial', 'artículo 31, inciso 4, del código procesal civil y comercial', 'BASUALDO JULIA MIRTA C/ BANCO HIPOTECARIO S.A. S/ SUMARISIMO (CIVIL) - Expte. Nº 8992', 'De la Cruz, Nº 6014']}\n",
      "{'verbatim_citations': ['art. 280, segunda parte del párrafo primero, del CPCC', 'art. 53, Ley 24.240', 'art. 160, inc. 6, CPCC']}\n",
      "{'verbatim_citations': []}\n",
      "{'verbatim_citations': ['arts. 3, 64 y 94 de la ley 7046 modif. por ley 11.141']}\n",
      "{'verbatim_citations': []}\n"
     ]
    },
    {
     "name": "stderr",
     "output_type": "stream",
     "text": [
      "Procesando con LLM:  44%|████▍     | 131/296 [16:24<27:38, 10.05s/it]"
     ]
    },
    {
     "name": "stdout",
     "output_type": "stream",
     "text": [
      "{'verbatim_citations': ['art. 65 del CPCC', 'arts. 3, 64 y 94 de la ley 7046 modif. por ley 11.141', 'conforme arts. 1º y 4º Ac. Gral. 15/18 SNE', 'Acuerdo Gral. 11/20 del 23-6-2020, Punto 4°)']}\n",
      "{'verbatim_citations': []}\n",
      "{'verbatim_citations': []}\n",
      "{'verbatim_citations': ['art. 65 del CPCC', 'artículos 17 y 18 de la Constitución Nacional', 'art. 1997 del CCC', 'in re: \"Arocena de González Nidya Esther c/ Angel Jorge Luis - Desalojo\", 17/3/1983, L.A.S. 1983, Fº 37', '\"Fernández Mónica Alejandra c/Transportes Mariano Moreno S.A. - Sumario por daño Moral y extrapatrimonial\", 28/05/93, L.A.S. 1993, F° 417', '\"Beheran Florentina c/ Woodbine Parish Sonia Elizabeth s/ ordinario\", Expte. Nº 6123, sentencia del 14/02/2012', 'cfr. esta Sala en autos \"Delaloye Hugo Luis y otra c/ Asociación Argentina de Los Adventistas del Séptimo Día s/ Ordinario Daños y Perjuicios\", sentencia del 15/03/2024', 'art. 65 del CPCC']}\n",
      "{'verbatim_citations': ['arts. 3, 64 y 94 de la ley 7046 modif. por ley 11.141', 'art. 33 de la LOPJ, texto según ley 10.704']}\n",
      "{'verbatim_citations': []}\n"
     ]
    },
    {
     "name": "stderr",
     "output_type": "stream",
     "text": [
      "Procesando con LLM:  45%|████▍     | 132/296 [16:34<27:17,  9.99s/it]"
     ]
    },
    {
     "name": "stdout",
     "output_type": "stream",
     "text": [
      "{'verbatim_citations': ['art. 65 del CPCC', 'arts. 3, 64 y 94 de la ley 7046 modif. por ley 11.141', 'conforme arts. 1º y 4º Ac. Gral. 15/18 SNE', 'Acuerdo Gral. 11/20 del 23-6-2020']}\n",
      "{'verbatim_citations': []}\n",
      "{'verbatim_citations': []}\n",
      "{'verbatim_citations': ['art. 3987 del CC', 'art. 280 del CPCC', 'arts. 65 y 66, CPCC', '\"ARRUA FELIX ROGELIO C/ ALLE DANIEL ELIAS Y DANNA MARCOS ISMAEL S/ ORDINARIO ACCION DE PETICION DE HERENCIA\" - Expte. Nº 9008']}\n",
      "{'verbatim_citations': ['arts. 3, 64 y 94 de la ley 7046 modif. por ley 11.141', 'art. 33 de la LOPJ, texto según ley 10.704']}\n",
      "{'verbatim_citations': []}\n"
     ]
    },
    {
     "name": "stderr",
     "output_type": "stream",
     "text": [
      "Procesando con LLM:  45%|████▍     | 133/296 [16:42<25:35,  9.42s/it]"
     ]
    },
    {
     "name": "stdout",
     "output_type": "stream",
     "text": [
      "{'verbatim_citations': ['arts. 65 y 66 del CPCC', 'arts. 3, 64 y 94 de la ley 7046 modif. por ley 11.141', 'conforme arts. 1º y 4º Ac. Gral. 15/18 SNE', 'Acuerdo Gral. 11/20 del 23-6-2020, Punto 4°']}\n",
      "{'verbatim_citations': []}\n",
      "{'verbatim_citations': []}\n",
      "{'verbatim_citations': ['art. 52 LDC', 'art. 31, inciso 4, 160, 161, 363 y 372 del Código Procesal Civil y Comercial', 'art. 1722, 1723 y 1729 del Código Civil y Comercial', 'art. 17, 18 y 19 de la Constitución Nacional', 'art. 5 de la Ley 25.506', 'Comunicación. A 6679 del BCRA', 'artículo 52 de la ley de defensa del consumidor', 'artículo 280, segundo párrafo, del código procesal civil y comercial', 'artículo 28 de la Constitución Nacional', 'artículo 65 del código procesal civil y comercial', 'TAJLEABUE PETRONA DELFINA C/ NUEVO BANCO DE ENTRE RIOS S/ SUMARISIMO - Expte. Nº 9009']}\n",
      "{'verbatim_citations': []}\n",
      "{'verbatim_citations': ['arts. 3, 30, 63, 64 y 94 de la ley 7046 modif. por ley 11.141', 'art. 33 de la LOPJ, texto según ley 10.704']}\n",
      "{'verbatim_citations': []}\n"
     ]
    },
    {
     "name": "stderr",
     "output_type": "stream",
     "text": [
      "Procesando con LLM:  45%|████▌     | 134/296 [16:53<26:38,  9.86s/it]"
     ]
    },
    {
     "name": "stdout",
     "output_type": "stream",
     "text": [
      "{'verbatim_citations': ['art. 65 del CPCC', 'arts. 3, 30, 63, 64 y 94 de la ley 7046 modif. por ley 11.141', 'conforme arts. 1º y 4º Ac. Gral. 15/18 SNE', 'Acuerdo Gral. 11/20 del 23-6-2020', 'art. 28', 'art. 114', 'art. 29']}\n",
      "{'verbatim_citations': ['art. 288 L.C.Q.']}\n",
      "{'verbatim_citations': ['art. 288 L.C.Q.']}\n",
      "{'verbatim_citations': ['art. 288 L.C.Q.', 'art. 240 LCQ', 'arts. 273 inc. 3º y 285 de LA LCQ', 'art. 88 inc. 9, LCQ', 'arts. 8, 25 de la Corte Interamericana de Derechos Humanos', 'arts. 14 bis., 15, 17 y 18 de la Constitución Nacional', '2, 3, 4, 8, 2537, 2562, 2563, 2566, 2567 del CCC', 'art. 273 de la LCQ', 'art. 280 del CPCC']}\n",
      "{'verbatim_citations': ['art. 33 de la LOPJ', 'ley 10.704']}\n",
      "{'verbatim_citations': []}\n"
     ]
    },
    {
     "name": "stderr",
     "output_type": "stream",
     "text": [
      "Procesando con LLM:  46%|████▌     | 135/296 [17:01<24:54,  9.29s/it]"
     ]
    },
    {
     "name": "stdout",
     "output_type": "stream",
     "text": [
      "{'verbatim_citations': ['art. 288 L.C.Q.', 'conforme arts. 1º y 4º Ac. Gral. 15/18 SNE', 'Acuerdo Gral. 11/20 del 23-6-2020']}\n",
      "{'verbatim_citations': []}\n",
      "{'verbatim_citations': []}\n",
      "{'verbatim_citations': ['art. 1928 del CCC', 'arts. 3984, 3986, 3988 y 3989 del Código Civil', 'art. 280, segundo párrafo del CPCC', 'art. 2545, CCC', 'art. 65 \"BORDON, JORGE LUIS C/ CAMINO, HERNAN LUIS - QUIEBRA S/ USUCAPION\" - Expte. Nº 9071']}\n",
      "{'verbatim_citations': ['arts. 3, 64 y 94 de la ley 7046 modif. por ley 11.141', 'art. 33 de la LOPJ, texto según ley 10.704']}\n",
      "{'verbatim_citations': []}\n"
     ]
    },
    {
     "name": "stderr",
     "output_type": "stream",
     "text": [
      "Procesando con LLM:  46%|████▌     | 136/296 [17:09<23:38,  8.87s/it]"
     ]
    },
    {
     "name": "stdout",
     "output_type": "stream",
     "text": [
      "{'verbatim_citations': ['art. 65 del CPCC', 'arts. 3, 64 y 94 de la ley 7046 modif. por ley 11.141', 'conforme arts. 1º y 4º Ac. Gral. 15/18 SNE', 'Acuerdo Gral. 11/20 del 23-6-2020, Punto 4°']}\n",
      "{'verbatim_citations': ['RACAGNI BIANCA MICAELA S/ RESTRICCIONES A LA CAPACIDAD', 'Expte. N° 9074 PARANÁ, 30 de julio de 2024']}\n",
      "{'verbatim_citations': ['art. 14 inc. 7 del CPCC', 'art. 14 inc. 7 del CPCC']}\n"
     ]
    },
    {
     "name": "stderr",
     "output_type": "stream",
     "text": [
      "Procesando con LLM:  46%|████▋     | 137/296 [17:13<19:47,  7.47s/it]"
     ]
    },
    {
     "name": "stdout",
     "output_type": "stream",
     "text": [
      "{'verbatim_citations': ['arts. 1 y 4 Acordada 15/18 SNE', 'Acuerdo Gral. 11/20 del 23-6-2020']}\n",
      "{'verbatim_citations': []}\n",
      "{'verbatim_citations': ['art. 14 inc. 7 del CPCC', 'art. 33 de la LOPJ', 'ley 10.704']}\n"
     ]
    },
    {
     "name": "stderr",
     "output_type": "stream",
     "text": [
      "Procesando con LLM:  47%|████▋     | 138/296 [17:17<16:40,  6.33s/it]"
     ]
    },
    {
     "name": "stdout",
     "output_type": "stream",
     "text": [
      "{'verbatim_citations': ['arts. 1 y 4 Acordada 15/18 SNE', 'Acuerdo Gral. 11/20 del 23-6-2020, Punto 4°']}\n",
      "{'verbatim_citations': []}\n",
      "{'verbatim_citations': ['art. 14 inc. 7 del CPCC', 'art. 14 inc. 7 del CPCC']}\n"
     ]
    },
    {
     "name": "stderr",
     "output_type": "stream",
     "text": [
      "Procesando con LLM:  47%|████▋     | 139/296 [17:21<14:39,  5.60s/it]"
     ]
    },
    {
     "name": "stdout",
     "output_type": "stream",
     "text": [
      "{'verbatim_citations': ['arts. 1 y 4 Acordada 15/18 SNE', 'Acuerdo Gral. 11/20 del 23-6-2020']}\n",
      "{'verbatim_citations': []}\n",
      "{'verbatim_citations': ['art. 14 inc. 7 del CPCC', 'art. 33 de la LOPJ', 'ley 10.704']}\n"
     ]
    },
    {
     "name": "stderr",
     "output_type": "stream",
     "text": [
      "Procesando con LLM:  47%|████▋     | 140/296 [17:24<13:04,  5.03s/it]"
     ]
    },
    {
     "name": "stdout",
     "output_type": "stream",
     "text": [
      "{'verbatim_citations': ['art. 33, ley 10.704', 'conforme arts. 1 y 4 Acordada 15/18 SNE', 'Acuerdo Gral. 11/20 del 23-6-2020']}\n",
      "{'verbatim_citations': []}\n",
      "{'verbatim_citations': ['art. 30 de la ley arancelaria local', 'arts. 3, 14, 30, 39, 63, 64 y 94 de la ley 7046 modif. por ley11.141', 'art. 33 de la LOPJ, texto según ley 10.704']}\n"
     ]
    },
    {
     "name": "stderr",
     "output_type": "stream",
     "text": [
      "Procesando con LLM:  48%|████▊     | 141/296 [17:29<12:31,  4.85s/it]"
     ]
    },
    {
     "name": "stdout",
     "output_type": "stream",
     "text": [
      "{'verbatim_citations': ['conforme arts. 1º y 4º Ac. Gral. 15/18 SNE', 'ley 7046', 'Art. 28', 'art. 114', 'art. 29']}\n",
      "{'verbatim_citations': []}\n",
      "{'verbatim_citations': ['artículos 14 inc. 7 y 27 del CPCC', 'artículo 14 inciso 7 del CPCC']}\n"
     ]
    },
    {
     "name": "stderr",
     "output_type": "stream",
     "text": [
      "Procesando con LLM:  48%|████▊     | 142/296 [17:34<12:33,  4.89s/it]"
     ]
    },
    {
     "name": "stdout",
     "output_type": "stream",
     "text": [
      "{'verbatim_citations': ['art. 33 LOPJ', 'conforme arts. 1° y 4° Acordada 15/18 SNE', 'Acuerdo Gral. 11/20 del 23-6-2020, Punto 4°']}\n",
      "{'verbatim_citations': []}\n",
      "{'verbatim_citations': ['art. 30 de la ley arancelaria', 'art. 70 de la ley 7046', 'art. 12 de la ley 7046', 'art. 33 de la LOPJ', 'texto según ley 10.704']}\n"
     ]
    },
    {
     "name": "stderr",
     "output_type": "stream",
     "text": [
      "Procesando con LLM:  48%|████▊     | 143/296 [17:38<11:52,  4.66s/it]"
     ]
    },
    {
     "name": "stdout",
     "output_type": "stream",
     "text": [
      "{'verbatim_citations': ['Notifíquese conforme arts. 1º y 4º Ac. Gral. 15/18 SNE', 'ley 7046', 'Art. 28', 'art. 114', 'art. 29']}\n",
      "{'verbatim_citations': []}\n",
      "{'verbatim_citations': ['art. 14 inc. 7 del CPCC']}\n"
     ]
    },
    {
     "name": "stderr",
     "output_type": "stream",
     "text": [
      "Procesando con LLM:  49%|████▊     | 144/296 [17:42<11:07,  4.39s/it]"
     ]
    },
    {
     "name": "stdout",
     "output_type": "stream",
     "text": [
      "{'verbatim_citations': ['arts. 1 y 4 Acordada 15/18 SNE', 'Acuerdo Gral. 11/20 del 23-6-2020, Punto 4°']}\n",
      "{'verbatim_citations': []}\n",
      "{'verbatim_citations': ['art. 30 de la ley arancelaria', 'art. 71', 'art. 33 de la LOPJ', 'ley 10.704']}\n"
     ]
    },
    {
     "name": "stderr",
     "output_type": "stream",
     "text": [
      "Procesando con LLM:  49%|████▉     | 145/296 [17:45<10:35,  4.21s/it]"
     ]
    },
    {
     "name": "stdout",
     "output_type": "stream",
     "text": [
      "{'verbatim_citations': ['conforme arts. 1º y 4º Ac. Gral. 15/18 SNE', 'ley 7046', 'Art. 28', 'art. 114', 'art. 29']}\n",
      "{'verbatim_citations': []}\n",
      "{'verbatim_citations': ['art. 30 de la ley arancelaria', 'art. 33 de la LOPJ', 'ley 10.704']}\n"
     ]
    },
    {
     "name": "stderr",
     "output_type": "stream",
     "text": [
      "Procesando con LLM:  49%|████▉     | 146/296 [17:49<09:47,  3.91s/it]"
     ]
    },
    {
     "name": "stdout",
     "output_type": "stream",
     "text": [
      "{'verbatim_citations': ['conforme arts. 1º y 4º Ac. Gral. 15/18 SNE', 'ley 7046', 'Art. 28', 'art. 114', 'art. 29']}\n",
      "{'verbatim_citations': []}\n",
      "{'verbatim_citations': ['art. 71 de la ley arancelaria', 'art. 30', 'art. 33 de la LOPJ', 'ley 10.704']}\n"
     ]
    },
    {
     "name": "stderr",
     "output_type": "stream",
     "text": [
      "Procesando con LLM:  50%|████▉     | 147/296 [17:53<09:58,  4.02s/it]"
     ]
    },
    {
     "name": "stdout",
     "output_type": "stream",
     "text": [
      "{'verbatim_citations': ['conforme arts. 1º y 4º Ac. Gral. 15/18 SNE', 'ley 7046', 'Art. 28', 'art. 114', 'art. 29']}\n",
      "{'verbatim_citations': []}\n",
      "{'verbatim_citations': ['arts. 3, 14, 63, 64 y 94 de la ley 7046 modif. por ley 11.141']}\n"
     ]
    },
    {
     "name": "stderr",
     "output_type": "stream",
     "text": [
      "Procesando con LLM:  50%|█████     | 148/296 [17:57<10:20,  4.19s/it]"
     ]
    },
    {
     "name": "stdout",
     "output_type": "stream",
     "text": [
      "{'verbatim_citations': ['conforme arts. 1º y 4º Ac. Gral. 15/18 SNE', 'Acuerdo Gral. 11/20 del 23-6-2020', 'ley 7046', 'Art. 28', 'art. 114', 'art. 29']}\n",
      "{'verbatim_citations': []}\n",
      "{'verbatim_citations': ['artículos 14 inc. 7 y 27 del CPCC', 'artículo 14 inciso 7 del CPCC', 'art. 33 de la LOPJ, texto según ley 10.704']}\n"
     ]
    },
    {
     "name": "stderr",
     "output_type": "stream",
     "text": [
      "Procesando con LLM:  50%|█████     | 149/296 [18:02<10:16,  4.19s/it]"
     ]
    },
    {
     "name": "stdout",
     "output_type": "stream",
     "text": [
      "{'verbatim_citations': ['art. 33 LOPJ', 'conforme arts. 1° y 4° Acordada 15/18 SNE', 'Acuerdo Gral. 11/20 del 23-6-2020, Punto 4°']}\n",
      "{'verbatim_citations': []}\n",
      "{'verbatim_citations': []}\n",
      "{'verbatim_citations': ['art. 6, CPCC', 'art. 46 LS', 'art. 56 de la LS', 'arts. 75, 959 y 960, CCC', 'art. 16, párrafo 2do, Ley 17.418', 'arts, 959, 963 inc. b) y 1717 del CCC', 'art. 1724, CCC', 'art. 961 CCC', 'art. 10 CCC', 'art. 118, LS', 'art. 280, segundo párrafo del CPCC', 'art. 269 del CPCC', 'CSJN, Fallos: 252:323', 'arts. 56 de la Ley de Seguros, 1, 3, 4, y cc. de la Ley de Defensa al Consumidor', 'arts. 1092, 1094 y 1095 y cc. del CCC', 'art. 257, CPCC', 'arts. 65, CPCC']}\n",
      "{'verbatim_citations': ['arts. 3, 64 y 94 de la ley 7046 modif. por ley 11.141', 'art. 33 de la LOPJ, texto según ley 10.704']}\n",
      "{'verbatim_citations': []}\n"
     ]
    },
    {
     "name": "stderr",
     "output_type": "stream",
     "text": [
      "Procesando con LLM:  51%|█████     | 150/296 [18:11<13:36,  5.59s/it]"
     ]
    },
    {
     "name": "stdout",
     "output_type": "stream",
     "text": [
      "{'verbatim_citations': ['art. 65 del CPCC', 'arts. 3, 64 y 94 de la ley 7046 modif. por ley 11.141', 'conforme arts. 1º y 4º Ac. Gral. 15/18 SNE', 'Acuerdo Gral. 11/20 del 23-6-2020, Punto 4°']}\n",
      "{'verbatim_citations': []}\n",
      "{'verbatim_citations': ['art. 30 de la ley arancelaria', 'art. 33 de la LOPJ', 'ley 10.704']}\n"
     ]
    },
    {
     "name": "stderr",
     "output_type": "stream",
     "text": [
      "Procesando con LLM:  51%|█████     | 151/296 [18:14<12:10,  5.04s/it]"
     ]
    },
    {
     "name": "stdout",
     "output_type": "stream",
     "text": [
      "{'verbatim_citations': ['arts. 3, 14, 30, 63, 64 y 94 de la ley 7046 modif. por ley 11.141', 'conforme arts. 1º y 4º Ac. Gral. 15/18 SNE', 'Acuerdo Gral. 11/20 del 23-6-2020', 'art. 28', 'art. 114', 'art. 29']}\n",
      "{'verbatim_citations': []}\n",
      "{'verbatim_citations': []}\n",
      "{'verbatim_citations': ['art. 163 inc. 2 del CPCC', 'art. 33 de la LOPJ', 'texto según ley 10.704']}\n"
     ]
    },
    {
     "name": "stderr",
     "output_type": "stream",
     "text": [
      "Procesando con LLM:  51%|█████▏    | 152/296 [18:18<11:22,  4.74s/it]"
     ]
    },
    {
     "name": "stdout",
     "output_type": "stream",
     "text": [
      "{'verbatim_citations': ['arts. 1º y 4º Ac. Gral. 15/18 SNE', 'Acuerdo Gral. 11/20 del 23-6-2020']}\n",
      "{'verbatim_citations': []}\n",
      "{'verbatim_citations': []}\n",
      "{'verbatim_citations': ['artículo 257 del código procesal civil y comercial', 'artículos 1 y 2 del decreto Dirección Nacional de los Registros Nacionales de la Propiedad Automotor y de Créditos Prendarios, Registros Nacionales de la Propiedad del Automotor, disposición 607/98', 'artículos 276, 280 y 281 del código procesal civil y comercial', 'artículo 280, segundo párrafo, del ordenamiento de rito', 'artículos 65 y 66 del código procesal civil y comercial']}\n",
      "{'verbatim_citations': []}\n",
      "{'verbatim_citations': ['arts. 3, 64 y 94 de la ley 7046 modif. por ley 11.141', 'art. 33 de la LOPJ, texto según ley 10.704']}\n",
      "{'verbatim_citations': []}\n"
     ]
    },
    {
     "name": "stderr",
     "output_type": "stream",
     "text": [
      "Procesando con LLM:  52%|█████▏    | 153/296 [18:28<14:54,  6.25s/it]"
     ]
    },
    {
     "name": "stdout",
     "output_type": "stream",
     "text": [
      "{'verbatim_citations': ['art. 65 y 66 del CPCC', 'arts. 3, 64 y 94 de la ley 7046 modif. por ley 11.141', 'conforme arts. 1º y 4º Ac. Gral. 15/18 SNE', 'Acuerdo Gral. 11/20 del 23-6-2020']}\n",
      "{'verbatim_citations': []}\n",
      "{'verbatim_citations': []}\n",
      "{'verbatim_citations': ['art. 52 bis incorporado por Ley 26.361', 'art. 1067 del CCC', 'arts. 1092, 1094 y 1384 del mismo cuerpo legal', 'art. 8 bis de la ley 24.240', 'art. 1098 del CCC', 'art. 6 inc. m) de la ley 25.065', 'arts. 10, 1092, 1094, 1384 CCC', 'art. 42 CN', 'arts. 4 y 8 bis de la LDC', 'art. 65 del CPCC', 'SARLI GISELA N. C/ BANCO PATAGONIA S.A. S/ SUMARISIMO - Expte. Nº 8956', 'art. 53']}\n",
      "{'verbatim_citations': []}\n",
      "{'verbatim_citations': ['arts. 3, 64 y 94 de la ley 7046 modif. por ley 11.141', 'art. 33 de la LOPJ, texto según ley 10.704']}\n",
      "{'verbatim_citations': []}\n"
     ]
    },
    {
     "name": "stderr",
     "output_type": "stream",
     "text": [
      "Procesando con LLM:  52%|█████▏    | 154/296 [18:37<16:49,  7.11s/it]"
     ]
    },
    {
     "name": "stdout",
     "output_type": "stream",
     "text": [
      "{'verbatim_citations': ['art. 53 LDC', 'arts. 3, 64 y 94 de la ley 7046 modif. por ley 11.141', 'conforme arts. 1º y 4º Ac. Gral. 15/18 SNE', 'Acuerdo Gral. 11/20 del 23-6-2020, Punto 4°']}\n",
      "{'verbatim_citations': []}\n",
      "{'verbatim_citations': []}\n",
      "{'verbatim_citations': ['art. 65 CPCC', 'SCHIMPF ESTELA ERCILIA C/ INFANTE JUAN BAUTISTA Y OTROS S/ USUCAPION - Expte. Nº 8993', 'Moisset de Espanés, Luis, “Accesión de posesiones y actividad notarial”, Foro de Córdoba, año XII, No 72, p. 43', 'Kozak de Valdéz, Verónica, Tratado teórico-práctico del condominio, Ed. Cathedra Jurídica, Buenos Aires, 2010, p. 255', 'Ventura, Gabriel B., “Usucapión por el condómino y demás comuneros”, Anales de la Academia de Derecho de Córdoba']}\n",
      "{'verbatim_citations': ['artículos 276 y 277 del código', 'artículo 670 de dicho ordenamiento', 'artículo 65 del código procesal civil y comercial']}\n",
      "{'verbatim_citations': []}\n",
      "{'verbatim_citations': ['arts. 3, 64 y 94 de la ley 7046 modif. por ley 11.141', 'art. 33 de la LOPJ', 'texto según ley 10.704']}\n",
      "{'verbatim_citations': []}\n"
     ]
    },
    {
     "name": "stderr",
     "output_type": "stream",
     "text": [
      "Procesando con LLM:  52%|█████▏    | 155/296 [18:48<19:20,  8.23s/it]"
     ]
    },
    {
     "name": "stdout",
     "output_type": "stream",
     "text": [
      "{'verbatim_citations': ['art. 65 del CPCC', 'arts. 3, 64 y 94 de la ley 7046 modif. por ley 11.141', 'conforme arts. 1º y 4º Ac. Gral. 15/18 SNE', 'Acuerdo Gral. 11/20 del 23-6-2020']}\n",
      "{'verbatim_citations': []}\n",
      "{'verbatim_citations': []}\n",
      "{'verbatim_citations': ['artículo 329 del código procesal civil y comercial', 'artículo 2255 del Código Civil', 'artículo 2565 del Código Civil', 'artículo 1533', 'artículos 276, 280 y 281 del código procesal civil y comercial', 'artículo 670 del código procesal civil y comercial', 'artículo 318, inciso 4, del código procesal civil y comercial', 'artículo 9, Ley 7046', 'artículo 65 del código procesal civil y comercial', 'GODOY HUGO ALBERTO C/ SOTO GENARO RAMON y sus herederos, sus sucesores y/o quien o quienes se consideren con derecho sobre el inmueble S/ USUCAPION - Expte. Nº 9007']}\n",
      "{'verbatim_citations': ['art. 670 del CPCC', '2.546 del CCC', 'autos \"Gonzalez Oscar Ricardo c/ Lopez Luis Javier y/o sus Herederos y/o quienes se consideren con derechos s/ Usucapión, 29/06/2020\"', 'Expte. Nº 9007', 'Camps, Carlos E. El juicio de usucapión de inmuebles en el Código Civil y Comercial, RCC y C, 2017, febrero, pp. 3/11', 'Lapalma Bovier, Néstor, El Proceso de Usucapión, 2da. Edic., Rubinzal Culzoni, Santa Fe, 1979, p. 207', 'Leviatán, ob.cit., pp. 264/265', 'Guasp, Jaime, Derecho procesal civil, 3ra. edic., Instituto de Estudios Políticos, Madrid, 1968, T. I., p. 562']}\n",
      "{'verbatim_citations': []}\n",
      "{'verbatim_citations': ['arts. 3, 64 y 94 de la ley 7046 modif. por ley 11.141']}\n",
      "{'verbatim_citations': []}\n"
     ]
    },
    {
     "name": "stderr",
     "output_type": "stream",
     "text": [
      "Procesando con LLM:  53%|█████▎    | 156/296 [19:01<22:41,  9.73s/it]"
     ]
    },
    {
     "name": "stdout",
     "output_type": "stream",
     "text": [
      "{'verbatim_citations': ['artículo 9, Ley 7046', 'art. 65 del CPCC', 'arts. 3, 64 y 94 de la ley 7046 modif. por ley 11.141', 'conforme arts. 1º y 4º Ac. Gral. 15/18 SNE', 'Acuerdo Gral. 11/20 del 23-6-2020, Punto 4°']}\n",
      "{'verbatim_citations': []}\n",
      "{'verbatim_citations': []}\n",
      "{'verbatim_citations': ['art. 2532', 'arts. 2532 y 2560 CCC', 'art. 28 de la Constitución Nacional', 'art. 77 del Código Fiscal de la Provincia', 'art. 173 del Código Fiscal', 'art. 80 del mismo cuerpo legal', 'ARTÍCULO 57 - Comenzará a correr el término de prescripción del poder fiscal para determinar el impuesto y facultades accesorias del mismo, así como la acción para exigir el pago, desde el 1º de enero siguiente al año en que se produzca el vencimiento de los plazos generales para la presentación de declaraciones juradas e ingreso del gravamen', 'art. 2562', 'art. 280 del CPCC', 'art. 75, inc. 30 y 121 Constitución Nacional', 'art. 8', 'art. 75, inc. 12, primera parte, Const. Nac.', 'art. 56']}\n",
      "{'verbatim_citations': ['expte. Nº 8667', 'sentencia del 29/12/2022']}\n",
      "{'verbatim_citations': ['art. 71 de la ley 7046', 'art. 30 de la ley arancelaria', 'arts. 3, 14, 30, 71, 63, 64 y 94 de la ley 7046 modif. por ley 11.141', 'art. 33 de la LOPJ, texto según ley 10.704']}\n",
      "{'verbatim_citations': []}\n"
     ]
    },
    {
     "name": "stderr",
     "output_type": "stream",
     "text": [
      "Procesando con LLM:  53%|█████▎    | 157/296 [19:12<23:10, 10.00s/it]"
     ]
    },
    {
     "name": "stdout",
     "output_type": "stream",
     "text": [
      "{'verbatim_citations': ['arts. 65 y 66 del CPCC', 'arts. 3, 14, 30, 71, 63, 64 y 94 de la ley 7046 modif. por ley 11.141', 'conforme arts. 1º y 4º Ac. Gral. 15/18 SNE', 'Acuerdo Gral. 11/20 del 23-6-2020']}\n",
      "{'verbatim_citations': []}\n",
      "{'verbatim_citations': []}\n",
      "{'verbatim_citations': ['art. 119 LCQ', 'art. 124 de igual normativa', 'art. 277 LCQ', 'arts. 116, 119 y ccs. de la Ley 24.522', 'arts. 17 y 18 de la Constitución Nacional', 'arts. 333 incs. 2 y 3 CPCC', 'art. 263 CCC', 'art. 280 del CPCC', 'art. 119 LCQ', 'art. 124 LCQ', 'art. 116 de la LCQ']}\n",
      "{'verbatim_citations': ['art. 280, CPC y C']}\n",
      "{'verbatim_citations': ['arts. 3, 64 y 94 de la ley 7046 modif. por ley 11.141', 'art. 33 de la LOPJ, texto según ley 10.704']}\n",
      "{'verbatim_citations': []}\n"
     ]
    },
    {
     "name": "stderr",
     "output_type": "stream",
     "text": [
      "Procesando con LLM:  53%|█████▎    | 158/296 [19:21<22:23,  9.74s/it]"
     ]
    },
    {
     "name": "stdout",
     "output_type": "stream",
     "text": [
      "{'verbatim_citations': ['art. 65 del CPCC', 'arts. 3, 64 y 94 de la ley 7046 modif. por ley 11.141', 'conforme arts. 1º y 4º Ac. Gral. 15/18 SNE', 'Acuerdo Gral. 11/20 del 23-6-2020, Punto 4°']}\n",
      "{'verbatim_citations': []}\n",
      "{'verbatim_citations': ['Expte. Nº 9046']}\n",
      "{'verbatim_citations': ['art. 579 del CCC', 'art. 462 CPCC', 'art. 587 del CCC', 'arts. 587, 1737/1739 y 1749 CCC', 'GALEANO, Guillermo Ignacio C/ KOLLN, Daniel Roberto, sus sucesores y/o herederos S/ ORDINARIO FILIACION E INDEMNIZACION DE DAÑOS - Expte. Nº 9046', 'art. 280 del CPCC', 'art. 65 CPCC']}\n",
      "{'verbatim_citations': ['arts. 3, 64 y 94 de la ley 7046 modif. por ley 11.141', 'art. 33 de la LOPJ, texto según ley 10.704']}\n",
      "{'verbatim_citations': []}\n"
     ]
    },
    {
     "name": "stderr",
     "output_type": "stream",
     "text": [
      "Procesando con LLM:  54%|█████▎    | 159/296 [19:32<23:16, 10.20s/it]"
     ]
    },
    {
     "name": "stdout",
     "output_type": "stream",
     "text": [
      "{'verbatim_citations': ['art. 65 del CPCC', 'arts. 3, 64 y 94 de la ley 7046 modif. por ley 11.141', 'conforme arts. 1º y 4º Ac. Gral. 15/18 SNE']}\n",
      "{'verbatim_citations': []}\n",
      "{'verbatim_citations': []}\n",
      "{'verbatim_citations': ['arts. 4 y 338 del CPCC', 'art. 205, inc. 2º, ap. c) de la Constitución Provincial', 'arts. 1 y 2 de la ley 7061', 'art. 18 de la Constitución Nacional', 'arts. 1251 a 1261 CCC', 'art. 3°, inciso 3° del Código Procesal Administrativo', 'art. 12 del CPCC', 'art. 173 del CPCC', 'art. 4 del CPCC', 'art. 239 del CPCC', 'art. 65 del CPCC', '', 'PATTERER MARIA SILVINA C/ MUNICIPALIDAD DE VALLE MARIA Y OTRO S/ COBRO DE PESOS - Expte. Nº 9062', 'Asociación mutual del personal del IAPV c/ Estado Provincial - sumario s/ recurso de queja interpuesto por la Dra. Zaccagnini de Gambino, Expte. Nº 4914, sent. 21/12/2006', 'Sasia Aniceto c/ Superior Gobierno de la Provincia s/ recurso de queja, Expte. Nº 5476, 5/32009', 'Rodríguez Juan Ramón y otros c/ Superior Gobierno de la provincia de Entre Ríos y otro s/ acción de inconstitucionalidad s/ recurso de queja s/ competencia, Expte. Nº 4051, sent. del 9/2/2023']}\n",
      "{'verbatim_citations': ['artículo 277 del CPCC', 'PATTERER MARIA SILVINA C/ MUNICIPALIDAD DE VALLE MARIA Y OTRO S/ COBRO DE PESOS']}\n",
      "{'verbatim_citations': []}\n",
      "{'verbatim_citations': ['arts. 3, 64 y 94 de la ley 7046 modif. por ley 11.141']}\n",
      "{'verbatim_citations': []}\n"
     ]
    },
    {
     "name": "stderr",
     "output_type": "stream",
     "text": [
      "Procesando con LLM:  54%|█████▍    | 160/296 [19:44<24:15, 10.70s/it]"
     ]
    },
    {
     "name": "stdout",
     "output_type": "stream",
     "text": [
      "{'verbatim_citations': ['art. 65 del CPCC', 'arts. 3, 64 y 94 de la ley 7046 modif. por ley 11.141', 'conforme arts. 1º y 4º Ac. Gral. 15/18 SNE', 'Acuerdo Gral. 11/20 del 23-6-2020, Punto 4°']}\n",
      "{'verbatim_citations': []}\n",
      "{'verbatim_citations': []}\n",
      "{'verbatim_citations': ['art. 904 del CCC', 'arts. 31 inc. 4º, y art. 160 incs. 5° y 6º del CPCC', 'arts. 17 y 18 de la Constitución Nacional', 'inc. c del art. 904 del CCC', 'art. 7 del Estatuto del Sindicato (SUOYEM)', 'art. 904 CCC', 'art. 757 del derogado Código Civil', 'inc. b) del art. 904 del CCC', 'art. 17 y conc. de la Ley 23.551', 'art. 65 y 66, CPCC']}\n",
      "{'verbatim_citations': ['art. 731 y 880 CCC', 'art. 904 del CCC', 'art. 10, CCC']}\n",
      "{'verbatim_citations': ['arts. 3, 64 y 94 de la ley 7046 modif. por ley 11.141', 'art. 33 de la LOPJ, texto según ley 10.704']}\n",
      "{'verbatim_citations': []}\n"
     ]
    },
    {
     "name": "stderr",
     "output_type": "stream",
     "text": [
      "Procesando con LLM:  54%|█████▍    | 161/296 [19:55<24:14, 10.78s/it]"
     ]
    },
    {
     "name": "stdout",
     "output_type": "stream",
     "text": [
      "{'verbatim_citations': ['art. 65 y 66 del CPCC', 'arts. 3, 64 y 94 de la ley 7046 modif. por ley 11.141', 'conforme arts. 1º y 4º Ac. Gral. 15/18 SNE', 'Acuerdo Gral. 11/20 del 23-6-2020', 'art. 114', 'art. 29']}\n",
      "{'verbatim_citations': []}\n",
      "{'verbatim_citations': []}\n",
      "{'verbatim_citations': ['art. 280, segundo párrafo del CPCC', 'arts. 65 y 66, CPCC', 'CAPIAQUI LELIA E. Y OTROS C/ MICRO OMNIBUS PRIMERA JUNTA S.A. Y OTROS S/ ORDINARIO - Expte. Nº 9068']}\n",
      "{'verbatim_citations': ['art. 30 de la ley arancelaria', 'arts. 3, 14, 30, 63, 64 y 94 de la ley 7046 modif. por ley 11.141', 'art. 33 de la LOPJ, texto según ley 10.704']}\n",
      "{'verbatim_citations': []}\n"
     ]
    },
    {
     "name": "stderr",
     "output_type": "stream",
     "text": [
      "Procesando con LLM:  55%|█████▍    | 162/296 [20:03<22:03,  9.88s/it]"
     ]
    },
    {
     "name": "stdout",
     "output_type": "stream",
     "text": [
      "{'verbatim_citations': ['arts. 65 y 66 del CPCC', 'arts. 3, 14, 30, 63, 64 y 94 de la ley 7046 modif. por ley 11.141', 'conforme arts. 1º y 4º Ac. Gral. 15/18 SNE', 'Acuerdo Gral. 11/20 del 23-6-2020', 'art. 28', 'art. 114', 'art. 29']}\n",
      "{'verbatim_citations': []}\n",
      "{'verbatim_citations': ['art. 14 inc. 7 del CPCC', 'art. 33 de la LOPJ', 'ley 10.704']}\n"
     ]
    },
    {
     "name": "stderr",
     "output_type": "stream",
     "text": [
      "Procesando con LLM:  55%|█████▌    | 163/296 [20:07<17:50,  8.05s/it]"
     ]
    },
    {
     "name": "stdout",
     "output_type": "stream",
     "text": [
      "{'verbatim_citations': ['art. 33, LOPJ', 'conforme arts. 1 y 4 Acordada 15/18 SNE', 'Acuerdo Gral. 11/20 del 23-6-2020, Punto 4°']}\n",
      "{'verbatim_citations': []}\n",
      "{'verbatim_citations': ['art. 14 inc. 7 del CPCC', 'art. 33 de la LOPJ', 'ley 10.704']}\n"
     ]
    },
    {
     "name": "stderr",
     "output_type": "stream",
     "text": [
      "Procesando con LLM:  55%|█████▌    | 164/296 [20:10<14:46,  6.72s/it]"
     ]
    },
    {
     "name": "stdout",
     "output_type": "stream",
     "text": [
      "{'verbatim_citations': ['art. 33, LOPJ', 'conforme arts. 1 y 4 Acordada 15/18 SNE', 'Acuerdo Gral. 11/20 del 23-6-2020, Punto 4°']}\n",
      "{'verbatim_citations': []}\n",
      "{'verbatim_citations': ['art. 14 inc. 7 del CPCC', 'art. 33 de la LOPJ', 'ley 10.704']}\n"
     ]
    },
    {
     "name": "stderr",
     "output_type": "stream",
     "text": [
      "Procesando con LLM:  56%|█████▌    | 165/296 [20:14<12:36,  5.77s/it]"
     ]
    },
    {
     "name": "stdout",
     "output_type": "stream",
     "text": [
      "{'verbatim_citations': ['art. 33, LOPJ', 'conforme arts. 1 y 4 Acordada 15/18 SNE', 'Acuerdo Gral. 11/20 del 23-6-2020, Punto 4°']}\n",
      "{'verbatim_citations': []}\n",
      "{'verbatim_citations': []}\n",
      "{'verbatim_citations': ['arts. 112 y 113 de la LA', 'art. 31 ap. 2do de la Ley 7046', 'art. 71 de la Ley 7046', 'art 280 del CPCC', 'arts. 31 y 71 ley arancelaria', 'art. 31 de la LA', 'art. 71 de la LA', 'art. 30', 'art. 71 de la ley 7046', 'MUNICIPALIDAD DE PARANA C/ GALIZZI INES S/ MONITORIO APREMIO - Expte. Nº 9085', 'art. 33 de la LOPJ', 'ley 10.704']}\n",
      "{'verbatim_citations': []}\n"
     ]
    },
    {
     "name": "stderr",
     "output_type": "stream",
     "text": [
      "Procesando con LLM:  56%|█████▌    | 166/296 [20:20<13:02,  6.02s/it]"
     ]
    },
    {
     "name": "stdout",
     "output_type": "stream",
     "text": [
      "{'verbatim_citations': ['arts. 1º y 4º Ac. Gral. 15/18 SNE', 'Acuerdo Gral. 11/20 del 23-6-2020']}\n",
      "{'verbatim_citations': []}\n",
      "{'verbatim_citations': ['art. 14 inc. 7 del CPCC', 'art. 33 de la LOPJ', 'ley 10.704']}\n"
     ]
    },
    {
     "name": "stderr",
     "output_type": "stream",
     "text": [
      "Procesando con LLM:  56%|█████▋    | 167/296 [20:24<11:12,  5.21s/it]"
     ]
    },
    {
     "name": "stdout",
     "output_type": "stream",
     "text": [
      "{'verbatim_citations': ['art. 33, LOPJ', 'arts. 1 y 4 Acordada 15/18 SNE', 'Acuerdo Gral. 11/20 del 23-6-2020, Punto 4°']}\n",
      "{'verbatim_citations': []}\n",
      "{'verbatim_citations': ['art. 14 inc. 7 del CPCC', 'art. 33 de la LOPJ', 'ley 10.704']}\n"
     ]
    },
    {
     "name": "stderr",
     "output_type": "stream",
     "text": [
      "Procesando con LLM:  57%|█████▋    | 168/296 [20:28<10:32,  4.94s/it]"
     ]
    },
    {
     "name": "stdout",
     "output_type": "stream",
     "text": [
      "{'verbatim_citations': ['art. 33, LOPJ', 'conforme arts. 1 y 4 Acordada 15/18 SNE', 'Acuerdo Gral. 11/20 del 23-6-2020, Punto 4°']}\n",
      "{'verbatim_citations': []}\n",
      "{'verbatim_citations': []}\n",
      "{'verbatim_citations': ['arts. 3, 14, 15, 29 y 64 Ley 7.046', 'art. 64 de la Ley 7.046', 'art. 5, Ley 7.046']}\n",
      "{'verbatim_citations': ['ley 7.046']}\n",
      "{'verbatim_citations': ['art. 5 de la ley 7.046', 'art. 64 LA', 'ley 7.046']}\n",
      "{'verbatim_citations': []}\n"
     ]
    },
    {
     "name": "stderr",
     "output_type": "stream",
     "text": [
      "Procesando con LLM:  57%|█████▋    | 169/296 [20:36<12:23,  5.85s/it]"
     ]
    },
    {
     "name": "stdout",
     "output_type": "stream",
     "text": [
      "{'verbatim_citations': ['conforme arts. 1º y 4º Ac. Gral. 15/18 SNE', 'Acuerdo Gral. 11/20 del 23-6-2020, Punto 4°)']}\n",
      "{'verbatim_citations': []}\n",
      "{'verbatim_citations': []}\n",
      "Error processing section GISELA N. SCHUMACHER DIJO: 1 validation error for SubsectionCitations\n",
      "  Invalid JSON: EOF while parsing a string at line 1 column 35896 [type=json_invalid, input_value='{\"verbatim_citations\":[\"...,\"informe del 11/11/202', input_type=str]\n",
      "    For further information visit https://errors.pydantic.dev/2.11/v/json_invalid\n",
      "{'verbatim_citations': []}\n",
      "{'verbatim_citations': []}\n",
      "{'verbatim_citations': ['arts. 16 CN y 15 CP.', 'art. 18, primer párrafo', 'art. 15, segundo párrafo de la CP', 'art. 33 de la Constitución Nacional', 'V., R. S/ DECLARACION JUDICIAL DE SITUACION DE ADOPTABILIDAD - Expte. Nº 9096']}\n",
      "{'verbatim_citations': ['arts. 3, 64 y 94 de la ley 7046 modif. por ley 11.141']}\n",
      "{'verbatim_citations': []}\n"
     ]
    },
    {
     "name": "stderr",
     "output_type": "stream",
     "text": [
      "Procesando con LLM:  57%|█████▋    | 170/296 [23:11<1:46:08, 50.55s/it]"
     ]
    },
    {
     "name": "stdout",
     "output_type": "stream",
     "text": [
      "{'verbatim_citations': ['art. 65 del CPCC', 'arts. 3, 64 y 94 de la ley 7046 modif. por ley 11.141', 'conforme arts. 1º y 4º Ac. Gral. 15/18 SNE', 'Acuerdo Gral. 11/20 del 23-6-2020, Punto 4°)']}\n",
      "{'verbatim_citations': []}\n",
      "{'verbatim_citations': ['art. 14 inc. 7 del CPCC', 'art. 33 de la LOPJ', 'ley 10.704']}\n"
     ]
    },
    {
     "name": "stderr",
     "output_type": "stream",
     "text": [
      "Procesando con LLM:  58%|█████▊    | 171/296 [23:15<1:16:05, 36.52s/it]"
     ]
    },
    {
     "name": "stdout",
     "output_type": "stream",
     "text": [
      "{'verbatim_citations': ['art. 33, LOPJ', 'conforme arts. 1 y 4 Acordada 15/18 SNE', 'Acuerdo Gral. 11/20 del 23-6-2020']}\n",
      "{'verbatim_citations': []}\n",
      "{'verbatim_citations': []}\n",
      "{'verbatim_citations': ['art. 64 de la ley arancelaria', 'art 3 CCC', 'art. 31, inc. 4, CPCC', 'art. 5 de la Ley 7.046', 'art. 65, Const. Prov.', 'art. 1, de la Ley 7.046']}\n",
      "{'verbatim_citations': ['art. 33 de la LOPJ', 'ley 10.704']}\n",
      "{'verbatim_citations': []}\n"
     ]
    },
    {
     "name": "stderr",
     "output_type": "stream",
     "text": [
      "Procesando con LLM:  58%|█████▊    | 172/296 [23:22<57:08, 27.65s/it]  "
     ]
    },
    {
     "name": "stdout",
     "output_type": "stream",
     "text": [
      "{'verbatim_citations': ['arts. 1º y 4º Ac. Gral. 15/18 SNE', 'Acuerdo Gral. 11/20 del 23-6-2020']}\n",
      "{'verbatim_citations': []}\n",
      "{'verbatim_citations': []}\n",
      "{'verbatim_citations': ['artículo 280, tercer párrafo, del Código Procesal Civil y Comercial', 'artículo 281 de la Ley Procesal de Familia', 'artículo 65 del Código Procesal Civil y Comercial', 'artículo 138 de la Ley Procesal de Familia']}\n",
      "{'verbatim_citations': ['art. 65 y 66 CPCC']}\n",
      "{'verbatim_citations': ['art. 50 de la ley arancelaria', 'art. 30 de la ley 7046', 'arts. 3, 64 y 94 de la ley 7046 modif. por ley 11.141', 'arts. 3, 50, 63, 64 y 64 de la ley 7046 modif. por ley 11.141']}\n",
      "{'verbatim_citations': []}\n"
     ]
    },
    {
     "name": "stderr",
     "output_type": "stream",
     "text": [
      "Procesando con LLM:  58%|█████▊    | 173/296 [23:31<45:24, 22.15s/it]"
     ]
    },
    {
     "name": "stdout",
     "output_type": "stream",
     "text": [
      "{'verbatim_citations': ['arts. 3, 50, 63, 64 y 64 de la ley 7046 modif. por ley 11.141', 'conforme arts. 1º y 4º Ac. Gral. 15/18 SNE', 'Acuerdo Gral. 11/20 del 23-6-2020', 'art. 28', 'art. 114', 'art. 29']}\n",
      "{'verbatim_citations': []}\n",
      "{'verbatim_citations': []}\n",
      "{'verbatim_citations': ['art. 277 del CPCC', 'art. 539 CPCC', 'art. 539 del CPCC', 'arts. 537, 545, 576 y 577 del CPCC', 'art. 2582 ss. y cc. del Código Civil y Comercial', 'arts. 486 inc. 3) del CPCC', 'art. 118 de la ley 7046', 'art. 33 de la LOPJ', 'texto según ley 10.704']}\n"
     ]
    },
    {
     "name": "stderr",
     "output_type": "stream",
     "text": [
      "Procesando con LLM:  59%|█████▉    | 174/296 [23:36<34:25, 16.93s/it]"
     ]
    },
    {
     "name": "stdout",
     "output_type": "stream",
     "text": [
      "{'verbatim_citations': ['conforme arts. 1º y 4º Ac. Gral. 15/18 SNE', 'Acuerdo Gral. 11/20 del 23-6-2020, Punto 4°']}\n",
      "{'verbatim_citations': []}\n",
      "{'verbatim_citations': []}\n",
      "{'verbatim_citations': ['artículo 118 del Código Fiscal de Entre Ríos', 'Acuerdo General del Superior Tribunal de Justicia Nº 28/15 de fecha 22/09/2015', 'Acordada Nº 28/15', 'Acuerdo General del S.T.J. N° 28/15', 'art. 33 de la LOPJ', 'ley 10.704']}\n"
     ]
    },
    {
     "name": "stderr",
     "output_type": "stream",
     "text": [
      "Procesando con LLM:  59%|█████▉    | 175/296 [23:41<26:51, 13.32s/it]"
     ]
    },
    {
     "name": "stdout",
     "output_type": "stream",
     "text": [
      "{'verbatim_citations': ['Acuerdo Gral. 11/20 del 23-6-2020']}\n",
      "{'verbatim_citations': []}\n",
      "{'verbatim_citations': []}\n",
      "{'verbatim_citations': ['arts. 8, 11, 12 y cc. de la LPF', 'art. 706 CCC', 'art. 12º de la LPF', 'art. 3 inc. f)', 'art. 716 del CCC', 'art. 706 del Código Civil y Comercial de la Nación', 'CSJN, Fallos: 332:238; 323:2021; 324:908; 23/4/13, “B. F. c/C. S.”, JA, 2013-III-106', 'CSJ 1681/2017/CS1, \"C., R. c/ P., N. R. s/ medida cautelar\", del 13/11/2018', 'CSJ 917/2019/CS1, \"W., S. J. c/ D., L. D. s/ medida provisional urgente cuidado personal\", del 1/10/2020', 'CSJN 1172/2020/CS1, \" C., A. G. c/ C., C. J. s/ reintegro de hijo)', '\"ESCOBAR Armando Rafael C/ HERMAN María Mercedes S/ MEDIDA CAUTELAR (FAMILIA) (COMPETENCIA)\" - Expte. Nº 9118']}\n",
      "{'verbatim_citations': ['artículo 716', 'art. 3º, inc. f, de la Ley 26.061', 'art. 706', 'art. 33 de la LOPJ', 'ley 10.704', 'Fallos: 310:819; 311:870 y 1810; 312:555 y 891; 325:2275']}\n",
      "{'verbatim_citations': []}\n"
     ]
    },
    {
     "name": "stderr",
     "output_type": "stream",
     "text": [
      "Procesando con LLM:  59%|█████▉    | 176/296 [23:50<23:59, 12.00s/it]"
     ]
    },
    {
     "name": "stdout",
     "output_type": "stream",
     "text": [
      "{'verbatim_citations': ['conforme arts. 1º y 4º Ac. Gral. 15/18 SNE', 'Acuerdo Gral. 11/20 del 23-6-2020']}\n",
      "{'verbatim_citations': []}\n",
      "{'verbatim_citations': ['art. 14 inc. 7 del CPCC', 'art. 33 de la LOPJ', 'ley 10.704']}\n"
     ]
    },
    {
     "name": "stderr",
     "output_type": "stream",
     "text": [
      "Procesando con LLM:  60%|█████▉    | 177/296 [23:53<18:58,  9.57s/it]"
     ]
    },
    {
     "name": "stdout",
     "output_type": "stream",
     "text": [
      "{'verbatim_citations': ['art. 33, LOPJ', 'conforme arts. 1 y 4 Acordada 15/18 SNE', 'Acuerdo Gral. 11/20 del 23-6-2020, Punto 4°']}\n",
      "{'verbatim_citations': []}\n",
      "{'verbatim_citations': ['art. 71 de la ley 7046', 'art. 30', 'art. 70 de la ley 7046', 'art. 33 de la LOPJ, texto según ley 10.704']}\n"
     ]
    },
    {
     "name": "stderr",
     "output_type": "stream",
     "text": [
      "Procesando con LLM:  60%|██████    | 178/296 [23:58<15:35,  7.93s/it]"
     ]
    },
    {
     "name": "stdout",
     "output_type": "stream",
     "text": [
      "{'verbatim_citations': ['arts. 3, 14, 30, 63, 64, 70, 71 y 94 de la ley 7046 modif. por ley 11.141', 'conforme arts. 1º y 4º Ac. Gral. 15/18 SNE', 'Acuerdo Gral. 11/20 del 23-6-2020, Punto 4°', 'art. 28', 'art. 114', 'art. 29']}\n",
      "{'verbatim_citations': []}\n",
      "{'verbatim_citations': ['art. 30 de la ley arancelaria', 'art. 71 de esa norma', 'arts. 3, 14, 30, 63, 64, 71 y 94 de la ley 7046', 'art. 33 de la LOPJ', 'texto según ley 10.704']}\n"
     ]
    },
    {
     "name": "stderr",
     "output_type": "stream",
     "text": [
      "Procesando con LLM:  60%|██████    | 179/296 [24:02<13:34,  6.96s/it]"
     ]
    },
    {
     "name": "stdout",
     "output_type": "stream",
     "text": [
      "{'verbatim_citations': ['conforme arts. 1º y 4º Ac. Gral. 15/18 SNE', 'Acuerdo Gral. 11/20 del 23-6-2020', 'ley 7046', 'Art. 28', 'art. 114', 'art. 29']}\n",
      "{'verbatim_citations': []}\n",
      "{'verbatim_citations': ['art. 71 de la ley 7046', 'art. 30', 'art. 33 de la LOPJ', 'texto según ley 10.704']}\n"
     ]
    },
    {
     "name": "stderr",
     "output_type": "stream",
     "text": [
      "Procesando con LLM:  61%|██████    | 180/296 [24:07<12:12,  6.32s/it]"
     ]
    },
    {
     "name": "stdout",
     "output_type": "stream",
     "text": [
      "{'verbatim_citations': ['arts. 3, 30, 64, 71 y 94 de la ley 7046 modif. por ley 11.141', 'conforme arts. 1º y 4º Ac. Gral. 15/18 SNE', 'Acuerdo Gral. 11/20 del 23-6-2020, Punto 4°', 'art. 114', 'art. 29']}\n",
      "{'verbatim_citations': []}\n",
      "{'verbatim_citations': ['art. 30 de la ley arancelaria', 'arts. 3, 14, 30, 63, 64 y 94 de la ley 7046 modif. por ley 11.141', 'art. 33 de la LOPJ, texto según ley 10.704']}\n"
     ]
    },
    {
     "name": "stderr",
     "output_type": "stream",
     "text": [
      "Procesando con LLM:  61%|██████    | 181/296 [24:11<10:42,  5.59s/it]"
     ]
    },
    {
     "name": "stdout",
     "output_type": "stream",
     "text": [
      "{'verbatim_citations': ['conforme arts. 1º y 4º Ac. Gral. 15/18 SNE', 'Acuerdo Gral. 11/20 del 23-6-2020', 'ley 7046', 'Art. 28', 'art. 114', 'art. 29']}\n",
      "{'verbatim_citations': []}\n",
      "{'verbatim_citations': []}\n",
      "{'verbatim_citations': ['art. 2248 CCC', 'art. 2256 del CCC', 'art. 160, inc. 5, CPCC', 'art. 160 inc. 6º del CPCC', 'art. 2256 inc. b', 'arts. 3, 64 y 94 de la ley 7046 modif. por ley 11.141', 'FRANK RICHARD DAMIAN C/ CASCO AYALA NORMA E. Y OTRO S/ ORDINARIO ACCION REIVINDICATORIA - Expte. Nº 8981']}\n",
      "{'verbatim_citations': ['art. 33 de la LOPJ, texto según ley 10.704']}\n",
      "{'verbatim_citations': []}\n"
     ]
    },
    {
     "name": "stderr",
     "output_type": "stream",
     "text": [
      "Procesando con LLM:  61%|██████▏   | 182/296 [24:18<11:34,  6.09s/it]"
     ]
    },
    {
     "name": "stdout",
     "output_type": "stream",
     "text": [
      "{'verbatim_citations': ['art. 65 del CPCC', 'arts. 3, 64 y 94 de la ley 7046 modif. por ley 11.141', 'conforme arts. 1º y 4º Ac. Gral. 15/18 SNE', 'Acuerdo Gral. 11/20 del 23-6-2020, Punto 4°']}\n",
      "{'verbatim_citations': []}\n",
      "{'verbatim_citations': []}\n",
      "{'verbatim_citations': ['artículo 329 del Código Procesal Civil y Comercial', 'artículo 669, inciso 2, del Código Procesal Civil y Comercial', 'artículos 276, 280 y 281 del Código Procesal Civil y Comercial', 'artículo 670', 'artículo 65 del código procesal civil y comercial', 'GRIMBERG, Juana Rosa C/ BORAGLIO, Celestina Rosa y Otros S/ USUCAPION - Expte. Nº 8982']}\n",
      "{'verbatim_citations': ['artículo 277 del CPCC', 'art. 33 de la LOPJ', 'ley 10.704']}\n",
      "{'verbatim_citations': ['arts. 3, 64 y 94 de la ley 7046 modif. por ley 11.141']}\n",
      "{'verbatim_citations': []}\n"
     ]
    },
    {
     "name": "stderr",
     "output_type": "stream",
     "text": [
      "Procesando con LLM:  62%|██████▏   | 183/296 [24:28<13:38,  7.25s/it]"
     ]
    },
    {
     "name": "stdout",
     "output_type": "stream",
     "text": [
      "{'verbatim_citations': ['art. 65 del CPCC', 'arts. 3, 64 y 94 de la ley 7046 modif. por ley 11.141', 'conforme arts. 1º y 4º Ac. Gral. 15/18 SNE', 'Acuerdo Gral. 11/20 del 23-6-2020, Punto 4°']}\n",
      "{'verbatim_citations': []}\n",
      "{'verbatim_citations': []}\n",
      "{'verbatim_citations': ['art. 2541 del Código Civil y Comercial', 'art. 280 del CPCC', 'art. 257 CPCC', 'art. 80 del Código Fiscal', 'artículos 2532 y 2560', 'art. 121 de la Constitución Nacional', 'artículo 82 del Código Fiscal', 'artículo 21 del Código Fiscal', 'artículo 108 inciso h) del CF', 'artículo 7 de la resolución', 'art. 65 del CPCC', 'Fallos: 311:100; 314:312; 322:2817', 'Fallos: 304:1186; 320:619', 'ADMINISTRADORA TRIBUTARIA DE ENTRE RIOS C/ COVRE JORGE ENRIQUE S/ MONITORIO EJECUTIVO - Expte. Nº 8990', 'MUNICIPALIDAD DE PARANÁ C/ GENNEIA S.A. S/ MONITORIO APREMIO', 'ADMINISTRADORA TRIBUTARIA DE ENTRE RÍOS C/ EL NUEVO SOLAR SRL S/ MONITORIO APREMIO']}\n",
      "{'verbatim_citations': ['art. 33 de la LOPJ', 'ley 10.704']}\n",
      "{'verbatim_citations': ['arts. 1, 2, 3, 30, 64, 94 y concs. ley 7046, texto s/ Ley 11141']}\n",
      "{'verbatim_citations': []}\n"
     ]
    },
    {
     "name": "stderr",
     "output_type": "stream",
     "text": [
      "Procesando con LLM:  62%|██████▏   | 184/296 [24:39<15:32,  8.33s/it]"
     ]
    },
    {
     "name": "stdout",
     "output_type": "stream",
     "text": [
      "{'verbatim_citations': ['art. 65 del CPCC', 'arts. 1, 2, 3, 30, 64, 94 y concs. ley 7046, texto s/ Ley 11141', 'conforme arts. 1º y 4º Ac. Gral. 15/18 SNE', 'Acuerdo Gral. 11/20 del 23-6-2020, Punto 4°']}\n",
      "{'verbatim_citations': []}\n",
      "{'verbatim_citations': []}\n",
      "{'verbatim_citations': ['artículo 38 de la Ley 23661', 'Ley de Obras Sociales Nº 23.660', 'resolución 201/2002', 'artículos 1794/1795', 'artículos 276, 280 y 281 del Código Procesal Civil y Comercial', 'artículo 280, segundo párrafo, del código procesal civil y comercial', 'Ley 26529, artículo 2', 'artículo 65 del código procesal civil y comercial']}\n",
      "{'verbatim_citations': ['art. 33 de la LOPJ, texto según ley 10.704']}\n",
      "{'verbatim_citations': ['art. 30 de la ley arancelaria', 'arts. 3, 30, 64 y 94 de la ley 7046 modif. por ley 11.141']}\n",
      "{'verbatim_citations': []}\n"
     ]
    },
    {
     "name": "stderr",
     "output_type": "stream",
     "text": [
      "Procesando con LLM:  62%|██████▎   | 185/296 [24:48<15:55,  8.61s/it]"
     ]
    },
    {
     "name": "stdout",
     "output_type": "stream",
     "text": [
      "{'verbatim_citations': ['art. 65 del CPCC', 'arts. 3, 30, 64 y 94 de la ley 7046 modif. por ley 11.141', 'conforme arts. 1º y 4º Ac. Gral. 15/18 SNE', 'Acuerdo Gral. 11/20 del 23-6-2020', 'art. 28', 'art. 114', 'art. 29']}\n",
      "{'verbatim_citations': []}\n",
      "{'verbatim_citations': []}\n",
      "{'verbatim_citations': ['art. 3980', 'art. 3980 del derogado CC', 'arts. 2550, 2554 y 2560 del CCC', 'art. 333, último párrafo, CPCC', 'art. 1080, CCC', 'arts. 65 y 66, CPCC', 'arts. 3, 64 y 94 de la ley 7046 modif. por ley 11.141', 'DALZOTTO Matilde Rosana C/ DALZOTTO Jorge Darío S/ ORDINARIO RESOLUCION DE CONTRATO (Y COBRO DE PESOS ENRIQUECIMIENTO SIN CAUSA EN SUBSIDIO) - Expte. Nº 9036', 'DALZOTTO Maricel c/DALZOTTO Jorge Darío', 'DALZOTTO Matilde Rosana C/ DALZOTTO Jorge Darío S/ ORDINARIO RESOLUCION DE CONTRATO (Y COBRO DE PESOS ENRIQUECIMIENTO SIN CAUSA EN SUBSIDIO) - Expte. Nº 9036 Otros- ORDINARIO ACCIÓN DE NULIDAD (Expte. Nº 4423/16)']}\n",
      "{'verbatim_citations': ['art. 33 de la LOPJ, texto según ley 10.704']}\n",
      "{'verbatim_citations': []}\n"
     ]
    },
    {
     "name": "stderr",
     "output_type": "stream",
     "text": [
      "Procesando con LLM:  63%|██████▎   | 186/296 [24:57<16:02,  8.75s/it]"
     ]
    },
    {
     "name": "stdout",
     "output_type": "stream",
     "text": [
      "{'verbatim_citations': ['arts. 65 y 66 del CPCC', 'arts. 3, 64 y 94 de la ley 7046 modif. por ley 11.141', 'conforme arts. 1º y 4º Ac. Gral. 15/18 SNE', 'Acuerdo Gral. 11/20 del 23-6-2020, Punto 4°']}\n",
      "{'verbatim_citations': []}\n",
      "{'verbatim_citations': []}\n",
      "{'verbatim_citations': ['artículo 279 del Código Procesal Civil y Comercial', 'artículo 3º de la resolución', 'artículo 160, inciso 6', 'artículo 33, inciso d', 'artículo 163 también inciso 6', 'INSTITUTO AUTARQUICO DE PLANEAMIENTO Y VIVIENDA DE ENTRE RIOS C/ CASAS PABLO S/ DESALOJO - Expte. Nº 9039', 'resolución de Directorio IAPV nº 5055, dictada en el expediente 214249/22, fechada el 4/12/2023']}\n",
      "{'verbatim_citations': ['art. 65, párrafo primero, del CPCC', 'art. 65, párrafo segundo, CPCC']}\n",
      "{'verbatim_citations': []}\n",
      "{'verbatim_citations': ['arts. 3, 64 y 94 de la ley 7046 modif. por ley 11.141']}\n",
      "{'verbatim_citations': []}\n",
      "{'verbatim_citations': []}\n"
     ]
    },
    {
     "name": "stderr",
     "output_type": "stream",
     "text": [
      "Procesando con LLM:  63%|██████▎   | 187/296 [25:09<17:35,  9.69s/it]"
     ]
    },
    {
     "name": "stdout",
     "output_type": "stream",
     "text": [
      "{'verbatim_citations': ['art. 65, párrafo segundo, del CPCC', 'arts. 3, 64 y 94 de la ley 7046 modif. por ley 11.141', 'conforme arts. 1º y 4º Ac. Gral. 15/18 SNE', 'Acuerdo Gral. 11/20 del 23-6-2020, Punto 4°']}\n",
      "{'verbatim_citations': []}\n",
      "{'verbatim_citations': []}\n",
      "{'verbatim_citations': ['arts. 276 y 277 del CPCC', 'arts. 16, 17 y 18 de la Constitución Nacional (CN)', 'art. 34 de la ley 7046 de transacción', 'art. 78 de división de \"MARCOLINI JUAN JOSE Y MARCOLINI ADRIAN AGUSTIN C SEPOLD GRACIELA BEATRIZ y EHRLICH ANIBAL ARNOLDO S INCIDENTE S/ QUEJA (QUEJA INTERPUESTA POR LOS DRES. JUAN JOSE MARCOLINI Y AGUSTIN ADRIAN MARCOLINI)\" - Expte. Nº 9042 sociedad conyugal', 'art. 18, CN', 'art. 14 de la ley 48', 'art. 14 de la ley 48', 'art. 33 de la LOPJ, texto según ley 10.704']}\n"
     ]
    },
    {
     "name": "stderr",
     "output_type": "stream",
     "text": [
      "Procesando con LLM:  64%|██████▎   | 188/296 [25:30<23:35, 13.11s/it]"
     ]
    },
    {
     "name": "stdout",
     "output_type": "stream",
     "text": [
      "{'verbatim_citations': ['conforme arts. 1º y 4º Ac. Gral. 15/18 SNE', 'Acuerdo Gral. 11/20 del 23-6-2020']}\n",
      "{'verbatim_citations': []}\n",
      "{'verbatim_citations': ['Expte. Nº 9047']}\n",
      "{'verbatim_citations': ['arts. 138 y 326 del CPCC', 'art. 280 del CPCC', 'art. 167 , segundo párrafo del CPCC', 'art. 65 CPCC', 'arts. 3, 63, 64, 70 y 94 de la ley 7046 modif. por ley 11.141']}\n",
      "{'verbatim_citations': ['art. 280 del CPCC', 'art. 33 de la LOPJ', 'ley 10.704']}\n",
      "{'verbatim_citations': []}\n"
     ]
    },
    {
     "name": "stderr",
     "output_type": "stream",
     "text": [
      "Procesando con LLM:  64%|██████▍   | 189/296 [25:39<21:01, 11.79s/it]"
     ]
    },
    {
     "name": "stdout",
     "output_type": "stream",
     "text": [
      "{'verbatim_citations': ['art. 65 del CPCC', 'arts. 3, 63, 64, 70 y 94 de la ley 7046 modif. por ley 11.141', 'conforme arts. 1º y 4º Ac. Gral. 15/18 SNE', 'Acuerdo Gral. 11/20 del 23-6-2020']}\n",
      "{'verbatim_citations': []}\n",
      "{'verbatim_citations': ['Expte. Nº 9059']}\n",
      "{'verbatim_citations': ['artículo 31, inciso b del Código Civil y Comercial', 'artículo 23 de la Convención sobre los Derechos de las Personas con Discapacidad', 'artículos 570, 571, 572, 573 y concordantes del Código Civil y Comercial', 'ley de salud mental (26.657)', 'artículo 18 de la Constitución Nacional', 'artículo 23 del Código Civil y Comercial', 'artículos 276, 280 y 281 del código procesal civil y comercial', 'artículo 32 del código civil y comercial', 'artículo 3 ley 26.657', 'inciso e) del preámbulo de la Convención sobre los Derechos de las Personas con Discapacidad', 'inciso f)', 'artículos 3, incisos a y b, y 23']}\n",
      "{'verbatim_citations': ['art. 31, inc. b), del CCC', 'art. 38 del mismo cuerpo legal', 'Ley 26378', 'arts. 3, 31, 38 y 51, CCC', 'art. 33 de la LOPJ', 'ley 10.704']}\n",
      "{'verbatim_citations': []}\n"
     ]
    },
    {
     "name": "stderr",
     "output_type": "stream",
     "text": [
      "Procesando con LLM:  64%|██████▍   | 190/296 [25:48<19:24, 10.98s/it]"
     ]
    },
    {
     "name": "stdout",
     "output_type": "stream",
     "text": [
      "{'verbatim_citations': ['conforme arts. 1º y 4º Ac. Gral. 15/18 SNE', 'Acuerdo Gral. 11/20 del 23-6-2020, Punto 4°']}\n",
      "{'verbatim_citations': []}\n",
      "{'verbatim_citations': []}\n",
      "{'verbatim_citations': ['artículo 730 del Código Civil y Comercial', 'artículo 730 del Código Civil y Comercial', 'artículo 730 del Código Civil y Comercial', 'artículos 276, 280 y 281 del Código Procesal Civil y Comercial', 'artículo 280, segundo párrafo, del código procesal civil y comercial', 'artículo 65 del código procesal civil y comercial', 'arts. 3, 64 y 94 de la ley 7046 modif. por ley 11.141', 'art. 33 de la LOPJ, texto según ley 10.704']}\n",
      "{'verbatim_citations': []}\n"
     ]
    },
    {
     "name": "stderr",
     "output_type": "stream",
     "text": [
      "Procesando con LLM:  65%|██████▍   | 191/296 [25:55<17:04,  9.76s/it]"
     ]
    },
    {
     "name": "stdout",
     "output_type": "stream",
     "text": [
      "{'verbatim_citations': ['art. 65 del CPCC', 'arts. 3, 64 y 94 de la ley 7046 modif. por ley 11.141', 'conforme arts. 1º y 4º Ac. Gral. 15/18 SNE', 'Acuerdo Gral. 11/20 del 23-6-2020, Punto 4°)']}\n",
      "{'verbatim_citations': []}\n",
      "{'verbatim_citations': []}\n",
      "{'verbatim_citations': ['-art. 65 CPCC-', 'art. 86 ss. y ccdtes. del CPCC', 'art. 91 CPCC', 'art. 40 de la Ley 24240', 'art. 91 del CPCC', 'art. 86 del CPCC', 'art. 93 del CPCC', 'arts. 825 y 833, CCC', 'art. 840, CCC', 'arts. 65 y 66, CPCC', 'arts. 3, 64 y 94 de la ley 7046 modif. por ley 11.141', 'art. 33 de la LOPJ, texto según ley 10.704']}\n",
      "{'verbatim_citations': []}\n"
     ]
    },
    {
     "name": "stderr",
     "output_type": "stream",
     "text": [
      "Procesando con LLM:  65%|██████▍   | 192/296 [26:05<17:02,  9.83s/it]"
     ]
    },
    {
     "name": "stdout",
     "output_type": "stream",
     "text": [
      "{'verbatim_citations': ['art. 65 y 66 del CPCC', 'arts. 3, 64 y 94 de la ley 7046 modif. por ley 11.141', 'conforme arts. 1º y 4º Ac. Gral. 15/18 SNE', 'Acuerdo Gral. 11/20 del 23-6-2020, Punto 4°']}\n",
      "{'verbatim_citations': []}\n",
      "{'verbatim_citations': []}\n",
      "{'verbatim_citations': ['arts. 1197 y 1198 CC', 'art. 280, segundo párrafo del CPCC', 'art. 257, CPCC', 'arts. 65, CPCC']}\n",
      "{'verbatim_citations': ['art. 30 de la ley arancelaria', 'arts. 3, 30, 63, 64 y 94 de la ley 7046 modif. por ley 11.141', 'art. 33 de la LOPJ, texto según ley 10.704']}\n",
      "{'verbatim_citations': []}\n"
     ]
    },
    {
     "name": "stderr",
     "output_type": "stream",
     "text": [
      "Procesando con LLM:  65%|██████▌   | 193/296 [26:13<16:01,  9.34s/it]"
     ]
    },
    {
     "name": "stdout",
     "output_type": "stream",
     "text": [
      "{'verbatim_citations': ['art. 65 del CPCC', 'conforme arts. 1º y 4º Ac. Gral. 15/18 SNE', 'ley 7046', 'Art. 28', 'art. 114', 'art. 29']}\n",
      "{'verbatim_citations': []}\n",
      "{'verbatim_citations': []}\n",
      "{'verbatim_citations': ['art. 3 del CCC', 'art. 280 2º párrafo, CPCC', 'recurso de inaplicabilidad de ley', 'CABALLERO GÁLVEZ MARÍA FLORA C/ GIACHERO RAMÓN OSCAR S/ TUTELA ANTICIPADA DE URGENCIA']}\n",
      "{'verbatim_citations': ['artículo 280, segundo párrafo, del código procesal civil y comercial', 'artículo 13, inciso 12, de la ley procesal de familia', 'artículo 44 de la ley procesal de familia', 'artículo 3 Convención de los Derechos del Niño', 'artículo 3 de la Ley 26061', 'artículos 1 y 13 de la Ley Procesal de Familia', 'artículo 1, incisos 3 y 4, de la ley procesal de familia', 'artículo 302 de la ley procesal de familia']}\n",
      "{'verbatim_citations': ['CABALLERO GÁLVEZ MARÍA FLORA C/ GIACHERO RAMÓN OSCAR S/ TUTELA ANTICIPADA DE URGENCIA']}\n",
      "{'verbatim_citations': []}\n"
     ]
    },
    {
     "name": "stderr",
     "output_type": "stream",
     "text": [
      "Procesando con LLM:  66%|██████▌   | 194/296 [26:23<16:07,  9.49s/it]"
     ]
    },
    {
     "name": "stdout",
     "output_type": "stream",
     "text": [
      "{'verbatim_citations': ['arts. 1º y 4º Ac. Gral. 15/18 SNE', 'Acuerdo Gral. 11/20 del 23-6-2020']}\n",
      "{'verbatim_citations': []}\n",
      "{'verbatim_citations': []}\n",
      "{'verbatim_citations': ['art. 280, párrafo segundo del CPCC', 'art. 123 inc. e) del Código Fiscal', 'art. 530 inc. 8 del CPCC', 'art. 124 del CF', 'art. 280 del CPCC', 'art. 117 del CF concordante con el art. 684 del CPCC', 'art. 33 de la LOPJ', 'texto según ley 10.704']}\n"
     ]
    },
    {
     "name": "stderr",
     "output_type": "stream",
     "text": [
      "Procesando con LLM:  66%|██████▌   | 195/296 [26:36<17:41, 10.51s/it]"
     ]
    },
    {
     "name": "stdout",
     "output_type": "stream",
     "text": [
      "{'verbatim_citations': ['arts. 1 y 4 Ac. Gral 15/18 SNE', 'Acuerdo Gral. 11/20 del 23-6-2020']}\n",
      "{'verbatim_citations': ['Expte. N° 7351']}\n",
      "{'verbatim_citations': ['art. 14 inc. 7 del CPCC']}\n"
     ]
    },
    {
     "name": "stderr",
     "output_type": "stream",
     "text": [
      "Procesando con LLM:  66%|██████▌   | 196/296 [26:40<14:30,  8.71s/it]"
     ]
    },
    {
     "name": "stdout",
     "output_type": "stream",
     "text": [
      "{'verbatim_citations': ['conforme arts. 1 y 4 Acordada 15/18 SNE', 'Acuerdo Gral. 11/20 del 23-6-2020, Punto 4°']}\n",
      "{'verbatim_citations': []}\n",
      "{'verbatim_citations': []}\n",
      "{'verbatim_citations': ['arts. 65 y 66 CPCC', 'arts. 3, 64 y 94 de la ley 7046 modif. por ley 11.141']}\n",
      "{'verbatim_citations': ['artículo 53 de la Ley de Defensa del Consumidor', 'artículo 65 del Código Procesal Civil y Comercial', 'art. 33 de la LOPJ', 'ley 10.704']}\n",
      "{'verbatim_citations': []}\n"
     ]
    },
    {
     "name": "stderr",
     "output_type": "stream",
     "text": [
      "Procesando con LLM:  67%|██████▋   | 197/296 [26:48<13:54,  8.43s/it]"
     ]
    },
    {
     "name": "stdout",
     "output_type": "stream",
     "text": [
      "{'verbatim_citations': ['art. 65 del CPCC', 'arts. 3, 64 y 94 de la ley 7046 modif. por ley 11.141', 'conforme arts. 1º y 4º Ac. Gral. 15/18 SNE', 'Acuerdo Gral. 11/20 del 23-6-2020, Punto 4°)']}\n",
      "{'verbatim_citations': []}\n",
      "{'verbatim_citations': ['arts. 3, 29, 30, 64, 70, 71 y 94 de la ley 7046', 'art. 33 de la LOPJ, texto según ley 10.704']}\n"
     ]
    },
    {
     "name": "stderr",
     "output_type": "stream",
     "text": [
      "Procesando con LLM:  67%|██████▋   | 198/296 [26:52<11:23,  6.98s/it]"
     ]
    },
    {
     "name": "stdout",
     "output_type": "stream",
     "text": [
      "{'verbatim_citations': ['conforme arts. 1º y 4º Ac. Gral. 15/18 SNE', 'ley 7046', 'Art. 28', 'artículo 114', 'Art. 29 de esta ley']}\n",
      "{'verbatim_citations': []}\n",
      "{'verbatim_citations': ['art. 30 de la ley arancelaria', 'arts. 3, 14, 63, 64 y 94 de la ley 7046', 'art. 33 de la LOPJ, texto según ley 10.704']}\n"
     ]
    },
    {
     "name": "stderr",
     "output_type": "stream",
     "text": [
      "Procesando con LLM:  67%|██████▋   | 199/296 [26:56<09:52,  6.11s/it]"
     ]
    },
    {
     "name": "stdout",
     "output_type": "stream",
     "text": [
      "{'verbatim_citations': ['conforme arts. 1º y 4º Ac. Gral. 15/18 SNE', 'ley 7046', 'Art. 28', 'art. 114', 'Art. 29 de esta ley']}\n",
      "{'verbatim_citations': []}\n",
      "{'verbatim_citations': ['art. 30 de la ley arancelaria', 'arts. 63, 64 y 94 de la ley 7046', 'art. 33 de la LOPJ', 'texto según ley 10.704']}\n"
     ]
    },
    {
     "name": "stderr",
     "output_type": "stream",
     "text": [
      "Procesando con LLM:  68%|██████▊   | 200/296 [27:00<08:37,  5.39s/it]"
     ]
    },
    {
     "name": "stdout",
     "output_type": "stream",
     "text": [
      "{'verbatim_citations': ['conforme arts. 1º y 4º Ac. Gral. 15/18 SNE', 'ley 7046', 'Art. 28', 'artículo 114', 'Art. 29 de esta ley']}\n",
      "{'verbatim_citations': []}\n",
      "{'verbatim_citations': []}\n",
      "{'verbatim_citations': ['art. 280, segundo párrafo, del código procesal civil y comercial (CPCC)', 'arts. 18 y 17 de la Constitución Nacional', 'art. 1103 del Código Civil de la Nación (CC)', 'arts. 1, 3, 25 inc. b y 73 de la ley 24.441', 'art. 1103 del CC', 'art. 18 de la CN', 'art. 285 bis CPCC', 'art. 103 inc. a) del CPCC', 'art. 14 de la ley 48', 'arts. 3, 64 y 94 de la ley 7046 modif. por ley 11.141', '']}\n",
      "{'verbatim_citations': ['arts. 276, 280 y concs. del CPCCER', 'art. 14 de la ley 48', 'art. 1103 del CC', 'Fallos 299:268', 'Fallos 300:436', 'Fallos 295:420', 'Fallos 304:268']}\n",
      "{'verbatim_citations': ['art. 33, LOPJ']}\n",
      "{'verbatim_citations': []}\n"
     ]
    },
    {
     "name": "stderr",
     "output_type": "stream",
     "text": [
      "Procesando con LLM:  68%|██████▊   | 201/296 [27:12<12:02,  7.61s/it]"
     ]
    },
    {
     "name": "stdout",
     "output_type": "stream",
     "text": [
      "{'verbatim_citations': ['arts. 3, 64 y 94 de la ley 7046 modif. por ley 11.141', 'conforme arts. 1º y 4º Ac. Gral. 15/18 SNE', 'Acuerdo Gral. 11/20 del 23-6-2020']}\n",
      "{'verbatim_citations': ['Expte. Nº 8961']}\n",
      "{'verbatim_citations': []}\n",
      "{'verbatim_citations': ['arts. 7, 8 y 10 bis, LDC', 'arts. 240, inc. 19 y concs. de la Constitución Provincial y Ley Orgánica de Municipios Nº 10.027', 'Art.93 CPCC', 'art. 1686, CCC', 'art. 240 inc. 19º y 231 de la Constitución de Entre Ríos', 'arts, 1 y 5, Const. Nac. y art. 1, Const. Prov.', 'art. 257 del CPCC', 'art. 55, LDC', 'arts. 1, 2 y 3 de la Ley 24240', 'art. 1093 del CCC', 'art. 41, Const. Nac. y art. 22, Const. Prov.', 'arts. 4, 7, 8 y 8 bis, LDC - arts. 1100 y 1101, CCC', 'art. 54 de LDC', 'arts. 162, CPCC y art. 1740, CCC', 'arts. 1724, in fine, CCC', 'arts. 162 y 499, CPCC', 'art. 65, párrafo segundo, y 66, CPCC', 'ASOCIACION DE DEFENSA DE CONSUMIDORES ENTRERRIANOS (ADECEN) C/ ESCO SOCIEDAD ANONIMA DE CAPITALIZACION Y AHORRO Y OTRO S/ SUMARISIMO - Expte. Nº 8961']}\n",
      "{'verbatim_citations': ['artículo 280, segundo párrafo, del Código Procesal Civil y Comercial', 'art. 33 de la LOPJ, texto según ley 10.704']}\n",
      "{'verbatim_citations': ['arts. 3, 64 y 94 de la ley 7046 modif. por ley 11.141']}\n",
      "{'verbatim_citations': []}\n"
     ]
    },
    {
     "name": "stderr",
     "output_type": "stream",
     "text": [
      "Procesando con LLM:  68%|██████▊   | 202/296 [27:32<17:43, 11.32s/it]"
     ]
    },
    {
     "name": "stdout",
     "output_type": "stream",
     "text": [
      "{'verbatim_citations': ['art. 55, LDC - arts. 65, párrafo segundo, y 66, CPCC', 'arts. 3, 64 y 94 de la ley 7046 modif. por ley 11.141', 'conforme arts. 1º y 4º Ac. Gral. 15/18 SNE', 'Acuerdo Gral. 11/20 del 23-6-2020, Punto 4°)']}\n",
      "{'verbatim_citations': []}\n",
      "{'verbatim_citations': []}\n",
      "{'verbatim_citations': ['artículo 17, inciso b, de la Ley de Defensa del Consumidor (24.240)', 'artículo 17, inciso b, de la Ley 24.240', 'artículos 276, 280 y 281 del Código Procesal Civil y Comercial', 'artículo 280, segundo párrafo, del Código Procesal Civil y Comercial', 'artículo 53 de la Ley de Defensa del Consumidor', 'arts. 3, 64 y 94 de la ley 7046 modif. por ley 11.141']}\n",
      "{'verbatim_citations': ['art. 33 de la LOPJ', 'ley 10.704']}\n",
      "{'verbatim_citations': []}\n"
     ]
    },
    {
     "name": "stderr",
     "output_type": "stream",
     "text": [
      "Procesando con LLM:  69%|██████▊   | 203/296 [27:41<16:11, 10.44s/it]"
     ]
    },
    {
     "name": "stdout",
     "output_type": "stream",
     "text": [
      "{'verbatim_citations': ['art. 53 de la Ley de Defensa del Consumidor', 'arts. 3, 64 y 94 de la ley 7046 modif. por ley 11.141', 'conforme arts. 1º y 4º Ac. Gral. 15/18 SNE', 'Acuerdo Gral. 11/20 del 23-6-2020, Punto 4°)']}\n",
      "{'verbatim_citations': []}\n",
      "{'verbatim_citations': ['Expte. Nº 8980']}\n",
      "{'verbatim_citations': ['conforme escrito de demanda del 25/8/2021', '2/2/2023', '6/2/2023 y escrito de expresión de agravios del 20/3/2023', '4/10/2023', 'BURGARTD JORGE LINO C/ BURGARTD JUAN PEDRO Y/O SUCESORES Y/O HEREDEROS Y/O QUIEN O QUIENES SE CONSIDEREN CON DERECHO S/ USUCAPION - Expte. Nº 8980', 'conforme expediente \"Burgardt o Purgardt Jorge, Bach Josefina María, Holzmeister Ana María y Burgartt Juan Pedro s/ sucesorios\", Expte. Nº S1-263, Fº 254, año 1994', '19/10/2023', 'BURGARTD JORGE LINO C/ BURGARTD JUAN PEDRO Y/O SUCESORES Y/O HEREDEROS Y/O QUIEN O QUIENES SE CONSIDEREN CON DERECHO S/ USUCAPION - Expte. Nº 8980', 'artículos 372 y 669 del Código Procesal Civil y Comercial', 'artículos 2384, 4015, 4016 y concordantes del Código Civil', 'artículo 24 de la Ley 14159', 'artículos 1897, 1899, 1905 del Código Civil y Comercial', 'artículos 17 y 18 de la Constitución Nacional', 'artículos 160, inciso 6 y 269 del Código Procesal Civil y Comercial', 'artículos 276, 280 y 281 del \"BURGARTD JORGE LINO C/ BURGARTD JUAN PEDRO Y/O SUCESORES Y/O HEREDEROS Y/O QUIEN O QUIENES SE CONSIDEREN CON DERECHO S/ USUCAPION\" - Expte. Nº 8980 Código Procesal Civil y Comercial', 'artículo 65 del código procesal civil y comercial', 'arts. 3, 64 y 94 de la ley 7046 modif. por ley 11.141']}\n",
      "{'verbatim_citations': ['art. 33 de la LOPJ', 'ley 10.704']}\n",
      "{'verbatim_citations': []}\n"
     ]
    },
    {
     "name": "stderr",
     "output_type": "stream",
     "text": [
      "Procesando con LLM:  69%|██████▉   | 204/296 [27:51<15:49, 10.32s/it]"
     ]
    },
    {
     "name": "stdout",
     "output_type": "stream",
     "text": [
      "{'verbatim_citations': ['art. 65 del CPCC', 'arts. 3, 64 y 94 de la ley 7046 modif. por ley 11.141', 'conforme arts. 1º y 4º Ac. Gral. 15/18 SNE', 'Acuerdo Gral. 11/20 del 23-6-2020']}\n",
      "{'verbatim_citations': []}\n",
      "{'verbatim_citations': []}\n",
      "{'verbatim_citations': ['arts. 289, 298, 304 del CPF', 'art. 160 inc. 6º y 65 del CPCC', 'arts. 16, 17, 18 y 19 de la CN', 'art. 65 CP', 'arts. 441 y 442 del CCC', 'art. 441 del CCC', 'art. 442 del CCC', 'arts. 3, 64 y 94 de la ley 7046 modif. por ley 11.141']}\n",
      "{'verbatim_citations': ['arts. 441, 442 y 524 del Código Civil y Comercial (CCC)', 'art. 442 del CCC', 'arts. 65, 2 párrafo, 66 y 68, CPCC', 'in re \"Correa Uriburu Maria Luz c/ Zuleiman Cesar Darío s/ Beneficio de Litigar sin gastos\" - Expte. Nº 8991 sentencia del 3/5/2024', '\"NEUWIRT VANINA GISELE C/ SANCHEZ RODRIGO SEBASTIAN S/ INCIDENTE (DE LIQUIDACION DE BIENES DE LA SOCIEDAD CONYUGAL, COMPENSACION ECONOMICA Y ATRIBUCIÓN DEL HOGAR CONYUGAL\" - Expte. Nº 9057']}\n",
      "{'verbatim_citations': []}\n",
      "{'verbatim_citations': []}\n",
      "{'verbatim_citations': ['art. 33 de la LOPJ', 'ley 10.704']}\n",
      "{'verbatim_citations': []}\n"
     ]
    },
    {
     "name": "stderr",
     "output_type": "stream",
     "text": [
      "Procesando con LLM:  69%|██████▉   | 205/296 [28:03<16:35, 10.94s/it]"
     ]
    },
    {
     "name": "stdout",
     "output_type": "stream",
     "text": [
      "{'verbatim_citations': ['art. 65 del CPCC', 'arts. 3, 64 y 94 de la ley 7046 modif. por ley 11.141', 'conforme arts. 1º y 4º Ac. Gral. 15/18 SNE', 'Acuerdo Gral. 11/20 del 23-6-2020, Punto 4°']}\n",
      "{'verbatim_citations': []}\n",
      "{'verbatim_citations': []}\n",
      "{'verbatim_citations': ['artículo 52 bis de la Ley de Defensa del Consumidor', 'artículo 47, inciso b de la ley 24.240', 'artículo 7 del Código Civil y Comercial', 'artículo 18 de la Constitución', 'artículos 276, 280 y 281 del Código Procesal Civil y Comercial', 'artículos 277 y 280 del código procesal civil y comercial', 'art. 31, inc. 4º', 'art. 161 al art. 160, inc. 6º', 'art. 263', 'artículo 53 de la ley de defensa del consumidor', 'art. 33 de la LOPJ', 'ley 10.704']}\n",
      "{'verbatim_citations': []}\n"
     ]
    },
    {
     "name": "stderr",
     "output_type": "stream",
     "text": [
      "Procesando con LLM:  70%|██████▉   | 206/296 [28:10<14:38,  9.76s/it]"
     ]
    },
    {
     "name": "stdout",
     "output_type": "stream",
     "text": [
      "{'verbatim_citations': ['artículo 53 de la ley de defensa del consumidor', 'conforme arts. 1º y 4º Ac. Gral. 15/18 SNE', 'Acuerdo Gral. 11/20 del 23-6-2020, Punto 4°)']}\n",
      "{'verbatim_citations': []}\n",
      "{'verbatim_citations': []}\n",
      "{'verbatim_citations': ['artículo 485 del código procesal civil y comercial', 'artículos 276, 280 y 281 del Código Procesal Civil y Comercial', 'artículo 280, tercer párrafo, del código procesal civil y comercial', 'artículo 65 del código procesal civil y comercial', 'VILLANOVA JULIA TERESA C/ VILLANOVA JULIO ANTONIO Y OTROS S- EJECUCION DE SENTENCIA S/ INCIDENTE LEGAJO APELACION EFECTO DEVOLUTIVO - Expte. Nº 9075']}\n",
      "{'verbatim_citations': ['art. 33 de la LOPJ, texto según ley 10.704']}\n",
      "{'verbatim_citations': ['arts. 3, 64 y 94 de la ley 7046 modif. por ley 11.141']}\n",
      "{'verbatim_citations': []}\n"
     ]
    },
    {
     "name": "stderr",
     "output_type": "stream",
     "text": [
      "Procesando con LLM:  70%|██████▉   | 207/296 [28:22<15:10, 10.23s/it]"
     ]
    },
    {
     "name": "stdout",
     "output_type": "stream",
     "text": [
      "{'verbatim_citations': ['art. 65 del CPCC', 'arts. 3, 64 y 94 de la ley 7046 modif. por ley 11.141', 'conforme arts. 1º y 4º Ac. Gral. 15/18 SNE', 'Acuerdo Gral. 11/20 del 23-6-2020, Punto 4°']}\n",
      "{'verbatim_citations': []}\n",
      "{'verbatim_citations': []}\n",
      "{'verbatim_citations': ['Ley de Defensa al Consumidor y de Seguros', 'art. 160, inc. 6º, del CPCC', 'arts. 8 bis y 52 bis', 'arts. 1º y 118 de la Ley de Seguros', 'art. 1746 del CCCN', 'art. 31 inc. 4º, 160 incisos 5º y 6º y 161 del CPCC', 'art. 42 de la Constitución Nacional', 'art. 250, CPCC', 'art. 53, LDC', 'arts. 68, CPCC', 'arts. 3, 64 y 94 de la ley 7046 modif. por ley 11.141', 'WALTER VICTOR RAMON C/ FEDERACION PATRONAL SEGUROS S.A. S/ ORDINARIO DAÑOS Y PERJUICIOS - Expte. Nº 9089']}\n",
      "{'verbatim_citations': ['arts. 1, 118 de la LS', 'art. 1746 del CCC', 'arts. 31, inc. 4º, art. 160 incs. 5º y 6º y art. 161 del CPCC', 'art. 162, primer párrafo del CPCC', 'art. 1716 ss. y cc.', 'art. 163, inc. 2º del CPCC', 'art. 163 inc. 2 del CPCC', 'art. 65 del CPCC', 'Berón Julio Augusto y Otra c/ Lapido Walter Alfredo y Otro s/ Ordinario Daños y Perjuicios - Expte. Nº 7101 sentencia de fecha 2/3/2016', 'Irigoyen María de los Ángeles c/ Aguiar Juan Carlos y otros s/ Ordinario Daños y Perjuicios - Expte. Nº 6468, sentencia del 9/12/0214', 'Maldonado Vda. de Pretz Marta Beatriz c/ Abasto Tolentino Francisco Amado y Otros s/ Sumario - Expte. Nº 6597, sentencia de fecha 7/5/2014', 'Tentor c/ Schegtel y otro s/ ordinario accidentes de tránsito, Expte. Nº 8525, sentencia del 28/4/2022', 'WALTER VICTOR RAMON C/ FEDERACION PATRONAL SEGUROS S.A. S/ ORDINARIO DAÑOS Y PERJUICIOS - Expte. Nº 9089', 'Superior Gobierno de la provincia de Entre Ríos c/ Gorbeña José Luis s/ ordinario daños y perjuicios - Expte. Nº 8893, sent. del 26/10/2023']}\n",
      "{'verbatim_citations': []}\n",
      "{'verbatim_citations': []}\n"
     ]
    },
    {
     "name": "stderr",
     "output_type": "stream",
     "text": [
      "Procesando con LLM:  70%|███████   | 208/296 [28:36<17:02, 11.61s/it]"
     ]
    },
    {
     "name": "stdout",
     "output_type": "stream",
     "text": [
      "{'verbatim_citations': ['art. 65 del CPCC', 'arts. 3, 64 y 94 de la ley 7046 modif. por ley 11.141', 'conforme arts. 1º y 4º Ac. Gral. 15/18 SNE', 'Acuerdo Gral. 11/20 del 23-6-2020, Punto 4°)']}\n",
      "❌ Error processing /Users/brunocr/Documents/UDESA/NLP/TP_NLP/datasets/fallos_json/10/9093.json: Expecting value: line 73 column 5 (char 16919)\n",
      "{'verbatim_citations': []}\n",
      "{'verbatim_citations': ['Expte. Nº 9096']}\n",
      "{'verbatim_citations': ['S/ DECLARACION JUDICIAL DE SITUACION DE ADOPTABILIDAD', 'Expte. Nº 9096', 'sentencia dictada en fecha 26/8/2024', 'fecha, 19/9/2024', 'fecha, 20/9/2024', 'sentencia dictada en fecha 26/8/2024']}\n"
     ]
    },
    {
     "name": "stderr",
     "output_type": "stream",
     "text": [
      "Procesando con LLM:  71%|███████   | 210/296 [28:42<10:45,  7.51s/it]"
     ]
    },
    {
     "name": "stdout",
     "output_type": "stream",
     "text": [
      "{'verbatim_citations': ['conforme arts. 1º y 4º Ac. Gral. 15/18 SNE', 'Acuerdo Gral. 11/20 del 23-6-2020']}\n",
      "{'verbatim_citations': []}\n",
      "{'verbatim_citations': []}\n",
      "{'verbatim_citations': ['art. 8 bis de la ley 24.240', 'art. 52 bis de la ley 24.240', 'arts. 5, 6, 40, 52 bis de la ley 24.240', 'arts. 1719 y 129 del CCC', 'arts. 318 y 160 inc.6 del CPCC', 'arts. 16,17,18 19 y 42 de la Constitución Nacional', 'art. 280 del CPCC', 'arts. 3, 64 y 94 de la ley 7046 modif. por ley 11.141', 'art. 33 de la LOPJ']}\n",
      "{'verbatim_citations': []}\n"
     ]
    },
    {
     "name": "stderr",
     "output_type": "stream",
     "text": [
      "Procesando con LLM:  71%|███████▏  | 211/296 [28:48<10:16,  7.25s/it]"
     ]
    },
    {
     "name": "stdout",
     "output_type": "stream",
     "text": [
      "{'verbatim_citations': ['art. 65 del CPCC', 'arts. 3, 64 y 94 de la ley 7046 modif. por ley 11.141', 'conforme arts. 1º y 4º Ac. Gral. 15/18 SNE', 'Acuerdo Gral. 11/20 del 23-6-2020, Punto 4°']}\n",
      "{'verbatim_citations': []}\n",
      "{'verbatim_citations': []}\n",
      "{'verbatim_citations': ['artículo 660 del Código Civil y Comercial', 'artículos 276, 280 y 281 del Código Procesal Civil y Comercial', 'artículos 138 de la Ley Procesal de Familia, y 65, segundo párrafo, del Código Procesal Civil y Comercial']}\n",
      "{'verbatim_citations': ['art. 33 de la LOPJ, texto según ley 10.704']}\n",
      "{'verbatim_citations': ['art. 50 de la ley arancelaria', 'arts. 3, 63, 64 y 94 de la ley 7046 modif. por ley 11.141']}\n",
      "{'verbatim_citations': []}\n"
     ]
    },
    {
     "name": "stderr",
     "output_type": "stream",
     "text": [
      "Procesando con LLM:  72%|███████▏  | 212/296 [28:58<11:07,  7.95s/it]"
     ]
    },
    {
     "name": "stdout",
     "output_type": "stream",
     "text": [
      "{'verbatim_citations': ['artículos 138 de la Ley Procesal de Familia', '65, segundo párrafo, del Código Procesal Civil y Comercial', 'conforme arts. 1º y 4º Ac. Gral. 15/18 SNE', 'Acuerdo Gral. 11/20 del 23-6-2020', 'ley 7046', 'Art. 28', 'artículo 114', 'Art. 29 de esta ley']}\n",
      "{'verbatim_citations': []}\n",
      "{'verbatim_citations': []}\n",
      "{'verbatim_citations': ['art. 52 bis de la LDC', 'arts. 31, inc. 4; 160, inc.6; 258, 269 y 318 del CPCC', 'arts. 14, 17 y 18 de la Constitución Nacional', 'art. 31, inc. 4º', 'art. 161 al art. 160, inc. 6º', 'art. 263', 'art. 53, LDC, 2° párrafo', 'arts. 3, 64 y 94 de la ley 7046 modif. por ley 11.141', 'art. 33 de la LOPJ']}\n",
      "{'verbatim_citations': []}\n"
     ]
    },
    {
     "name": "stderr",
     "output_type": "stream",
     "text": [
      "Procesando con LLM:  72%|███████▏  | 213/296 [29:05<10:35,  7.65s/it]"
     ]
    },
    {
     "name": "stdout",
     "output_type": "stream",
     "text": [
      "{'verbatim_citations': ['art. 53, LDC, 2° párrafo', 'arts. 3, 64 y 94 de la ley 7046 modif. por ley 11.141', 'conforme arts. 1º y 4º Ac. Gral. 15/18 SNE', 'Acuerdo Gral. 11/20 del 23-6-2020, Punto 4°)']}\n",
      "{'verbatim_citations': []}\n",
      "{'verbatim_citations': []}\n",
      "{'verbatim_citations': ['art. 1745, inc. b) del CCC', 'art. 269 del CPCC', 'art. 160, inc. 6º, CPCC', 'art. 1741, CCC', 'art. 3 CCCN', 'art. 2, CCC', 'arts. 284 y 285, CPCC', 'arts. 65, segundo párrafo, y 68 CPCC', 'arts. 3, 63, 64 y 94 de la ley 7046 modif. por ley 11.141', 'Leyes 23.928 y 25.561', 'art. 3 CCC']}\n",
      "{'verbatim_citations': ['artículos 284 y 285 del código procesal civil y comercial', 'artículo 63 de la Convención Americana de los Derechos Humanos', 'artículos 1740 del Código Civil y Comercial; 65, 284 y 285 del Código Procesal Civil y Comercial', 'Ley 25.561']}\n",
      "{'verbatim_citations': ['art. 118 de la ley 17418', 'Cfr.: \"Rojas Walter Gastón c/ Maiztegui Héctor Ariel y otros s/ ordinario daños y perjuicios\", Expte. Nº 6784/C, sentencia del 30/4/2020', 'Cfr. \"Faure Omar Abel y otros c/ Castro Hugo Roberto y otros s/ ordinario\", Expte. Nº 8633, sentencia del 10/11/2022 y sus citas', 'Cfr. \"Ilarregui Luis Alberto c/ Río Uruguay Cooperativa de Seguros Limitada s/ ordinario\", Expte. Nº 8620, sent. del 25 de junio de 2024', '\"BERNHARDT ROY ALFREDO y OTROS C/ ROCCUZO FRANCO y OTRA S/ ORDINARIO DAÑOS Y PERJUICIOS\" - Expte. Nº 9109']}\n",
      "{'verbatim_citations': []}\n",
      "{'verbatim_citations': []}\n"
     ]
    },
    {
     "name": "stderr",
     "output_type": "stream",
     "text": [
      "Procesando con LLM:  72%|███████▏  | 214/296 [29:19<12:58,  9.49s/it]"
     ]
    },
    {
     "name": "stdout",
     "output_type": "stream",
     "text": [
      "{'verbatim_citations': ['arts. 3, 63, 64 y 94 de la ley 7046 modif. por ley 11.141', 'conforme arts. 1º y 4º Ac. Gral. 15/18 SNE', 'Acuerdo Gral. 11/20 del 23-6-2020, Punto 4°']}\n",
      "{'verbatim_citations': []}\n",
      "{'verbatim_citations': []}\n",
      "{'verbatim_citations': ['art. 62 inc. a)', 'art. 36 de la Ley de Aranceles', 'art. 112 y 113 Ley de aranceles', 'art. 58 de la Ley de Aranceles', 'arts. 3, 30, 31, 34 y concs. Ley 7046', 'art. 30 de la ley 7046', 'art. 36 de la LA', 'VERONESI MARTIN NELIO S/ SUCESORIO AB INTESTATO (Y TESTAMENTARIO) - Expte. Nº 9110']}\n",
      "{'verbatim_citations': ['art. 36 de la ley 7046']}\n",
      "{'verbatim_citations': ['ver considerando IV de la sentencia homologatoria del 28 de noviembre de 2023']}\n",
      "{'verbatim_citations': []}\n"
     ]
    },
    {
     "name": "stderr",
     "output_type": "stream",
     "text": [
      "Procesando con LLM:  73%|███████▎  | 215/296 [29:34<14:45, 10.93s/it]"
     ]
    },
    {
     "name": "stdout",
     "output_type": "stream",
     "text": [
      "{'verbatim_citations': ['arts. 1º y 4º Ac. Gral. 15/18 SNE', 'Acuerdo Gral. 11/20 del 23-6-2020']}\n",
      "{'verbatim_citations': ['Expte. Nº 9111']}\n",
      "{'verbatim_citations': []}\n",
      "{'verbatim_citations': ['arts. 2252 y ss. del CCC', 'art. 1078 del CCC', 'art. 1081 CCC', 'arts. 276, 280 y 281 del CPCC', 'arts. 1077, 1078 inc. f) y h), 1086 y ccs. del CCC', 'art. 2247, primer párrafo CCC', 'arts. 2248 y 2255 CCC', 'arts. 3, 64 y 94 de la ley 7046 modif. por ley 11.141', 'PÉREZ, Eusebio Antonio C/ ZAMPEDRI, Adrián Edgardo S/ ORDINARIO ACCION REIVINDICATORIA- Expte. Nº 9111']}\n",
      "{'verbatim_citations': ['art. 33 de la LOPJ, texto según ley 10.704']}\n",
      "{'verbatim_citations': []}\n"
     ]
    },
    {
     "name": "stderr",
     "output_type": "stream",
     "text": [
      "Procesando con LLM:  73%|███████▎  | 216/296 [29:43<14:04, 10.55s/it]"
     ]
    },
    {
     "name": "stdout",
     "output_type": "stream",
     "text": [
      "{'verbatim_citations': ['art. 65 del CPCC', 'arts. 3, 64 y 94 de la ley 7046 modif. por ley 11.141', 'conforme arts. 1º y 4º Ac. Gral. 15/18 SNE', 'Acuerdo Gral. 11/20 del 23-6-2020, Punto 4°']}\n",
      "{'verbatim_citations': []}\n",
      "{'verbatim_citations': []}\n",
      "{'verbatim_citations': ['art. 2280 CCCN', 'Título V de los deberes formales de los Contribuyentes, Responsables y terceros del Código Fiscal', 'Título I \"ADMINISTRADORA TRIBUTARIA DE ENTRE RIOS C/ GAZZANO KELLY URSULA SILVIA Y / O HEREDEROS S/ MONITORIO APREMIO\" - Expte. Nº 9113', 'artículos 276 y 277', 'art. 277 del CPCC', 'art. 65 CPCC']}\n",
      "{'verbatim_citations': ['artículos 276 y 277 del código procesal civil y comercial', 'art. 33 de la LOPJ', 'ley 10.704']}\n",
      "{'verbatim_citations': []}\n"
     ]
    },
    {
     "name": "stderr",
     "output_type": "stream",
     "text": [
      "Procesando con LLM:  73%|███████▎  | 217/296 [29:52<13:13, 10.04s/it]"
     ]
    },
    {
     "name": "stdout",
     "output_type": "stream",
     "text": [
      "{'verbatim_citations': ['art. 65 del CPCC', 'art. 15 de la ley 7046', 'conforme arts. 1º y 4º Ac. Gral. 15/18 SNE', 'Acuerdo Gral. 11/20 del 23-6-2020']}\n",
      "{'verbatim_citations': []}\n",
      "{'verbatim_citations': []}\n",
      "{'verbatim_citations': ['art 42 de la CN', 'art. 1094 del CCC', 'art 53 de la LDC', 'artículo 277 del CPCC', 'Ley de Defensa del Consumidor 24.240', 'Leyes 23660, 23661, 26862 - y su Decreto reglamentario 956/2013', 'art. 38, Ley 23.661', 'art. 53, LDC', 'arts. 65 y 66, CPCC', 'art. 33 de la LOPJ', 'texto según ley 10.704', 'arts. 3, 64 y 94 de la ley 7046 modif. por ley 11.141']}\n",
      "{'verbatim_citations': []}\n"
     ]
    },
    {
     "name": "stderr",
     "output_type": "stream",
     "text": [
      "Procesando con LLM:  74%|███████▎  | 218/296 [29:59<11:43,  9.01s/it]"
     ]
    },
    {
     "name": "stdout",
     "output_type": "stream",
     "text": [
      "{'verbatim_citations': ['art. 53, LDC', 'arts. 65 y 66, CPCC', 'arts. 3, 64 y 94 de la ley 7046 modif. por ley 11.141', 'conforme arts. 1º y 4º Ac. Gral. 15/18 SNE', 'Acuerdo Gral. 11/20 del 23-6-2020, Punto 4°']}\n",
      "{'verbatim_citations': []}\n",
      "{'verbatim_citations': []}\n",
      "{'verbatim_citations': ['artículo 277 del CPCC', 'art. 603 de ese cuerpo normativo', 'art. 604', 'arts. 65 y 66, CPCC', 'arts. 3, 63, 64 y 94 de la ley 7046 modif. por ley 11.141', 'art. 33 de la LOPJ, texto según ley 10.704']}\n",
      "{'verbatim_citations': []}\n"
     ]
    },
    {
     "name": "stderr",
     "output_type": "stream",
     "text": [
      "Procesando con LLM:  74%|███████▍  | 219/296 [30:06<10:42,  8.35s/it]"
     ]
    },
    {
     "name": "stdout",
     "output_type": "stream",
     "text": [
      "{'verbatim_citations': ['arts. 65 y 66 del CPCC', 'arts. 3, 64 y 94 de la ley 7046 modif. por ley 11.141', 'conforme arts. 1º y 4º Ac. Gral. 15/18 SNE', 'Acuerdo Gral. 11/20 del 23-6-2020']}\n",
      "{'verbatim_citations': []}\n",
      "{'verbatim_citations': ['art. 14 inc. 7 del CPCC']}\n"
     ]
    },
    {
     "name": "stderr",
     "output_type": "stream",
     "text": [
      "Procesando con LLM:  74%|███████▍  | 220/296 [30:09<08:48,  6.96s/it]"
     ]
    },
    {
     "name": "stdout",
     "output_type": "stream",
     "text": [
      "{'verbatim_citations': ['conforme arts. 1 y 4 Acordada 15/18 SNE', 'Acuerdo Gral. 11/20 del 23-6-2020']}\n",
      "{'verbatim_citations': []}\n",
      "{'verbatim_citations': ['art. 14 inc. 7 del CPCC', 'artículo 14 inciso 7 del CPCC']}\n"
     ]
    },
    {
     "name": "stderr",
     "output_type": "stream",
     "text": [
      "Procesando con LLM:  75%|███████▍  | 221/296 [30:14<07:42,  6.17s/it]"
     ]
    },
    {
     "name": "stdout",
     "output_type": "stream",
     "text": [
      "{'verbatim_citations': ['art. 33 LOPJ', 'conforme arts. 1 y 4 Acordada 15/18 SNE', 'Acuerdo Gral. 11/20 del 23-6-2020']}\n",
      "{'verbatim_citations': []}\n",
      "{'verbatim_citations': []}\n",
      "{'verbatim_citations': ['art. 491 del Código Procesal Civil y Comercial (CPCC)', 'art. 169 del CCC', 'art. 531', 'art. 528', 'art. 169, párr. 2, del CPCC', 'art. 331, CPCC', 'arts. 65 y 66, CPCC']}\n",
      "{'verbatim_citations': ['arts. 65 y 66 del CPCC', 'art. 33 de la LOPJ, texto según ley 10.704']}\n",
      "{'verbatim_citations': ['arts. 3, 64 y 94 de la ley 7046 modif. por ley 11.141']}\n",
      "{'verbatim_citations': []}\n"
     ]
    },
    {
     "name": "stderr",
     "output_type": "stream",
     "text": [
      "Procesando con LLM:  75%|███████▌  | 222/296 [30:23<08:58,  7.28s/it]"
     ]
    },
    {
     "name": "stdout",
     "output_type": "stream",
     "text": [
      "{'verbatim_citations': ['arts. 65 y 66 del CPCC', 'arts. 3, 64 y 94 de la ley 7046 modif. por ley 11.141', 'conforme arts. 1º y 4º Ac. Gral. 15/18 SNE', 'Acuerdo Gral. 11/20 del 23-6-2020, Punto 4°']}\n",
      "{'verbatim_citations': []}\n",
      "{'verbatim_citations': []}\n",
      "{'verbatim_citations': ['art. 52 de la LDC', 'art. 280, CPCC', 'art. 47 inc. b) (agregado por el art. 119 de la Ley N° 27.701 B.O. 1/12/2022)', 'art. 52 bis del mismo cuerpo legal consumeril (incorporado por el art. 25 de la Ley N° 26.361 B.O. 7/4/2008)', 'art. 3 del CCCN', 'art. 21 de la Ley N° 26.361 - B.O. 7/4/2008 - que modificó el inc. b) del art. 47 de la Ley N° 24.240', 'art. 1740 del CCCN', 'art. 342, inc. 1, CPCC', 'arts. 1, 2, 3, 30, 64, 94 y concs., Dec.-Ley 7046', 'art. 33 de la LOPJ, texto según ley 10.704']}\n",
      "{'verbatim_citations': []}\n"
     ]
    },
    {
     "name": "stderr",
     "output_type": "stream",
     "text": [
      "Procesando con LLM:  75%|███████▌  | 223/296 [30:32<09:12,  7.56s/it]"
     ]
    },
    {
     "name": "stdout",
     "output_type": "stream",
     "text": [
      "{'verbatim_citations': ['art. 65 del CPCC', 'arts. 3, 64 y 94 de la ley 7046 modif. por ley 11.141', 'conforme arts. 1º y 4º Ac. Gral. 15/18 SNE', 'Acuerdo Gral. 11/20 del 23-6-2020, Punto 4°']}\n",
      "{'verbatim_citations': []}\n",
      "{'verbatim_citations': []}\n",
      "{'verbatim_citations': ['art. 5 de la Ley 7046', 'ley N° 11.141', 'arts. 3, 5, 12, 30, 50, 98, sig. y concordantes de la Ley 7046', 'art. 1255 CCC', 'art. 31 C.N.', 'Ley N° 23.928 de Convertibilidad', 'Ley 25.561 de Reforma del Régimen Cambiario', 'art. 2 Ley 7046', 'art. 112 y 113 de la Ley 7046', 'art. 134 de la Ley 7046', 'art. 31 de la CN', 'art. 280 del C.P.C.C.', 'art. 113, LA']}\n",
      "{'verbatim_citations': ['RODRÍGUEZ MATIAS LAUTARO y su acumulado \"BOTTO Brian Joel C/ ACOSTA CARLOS ALBERTO y OTRA S/ ORDINARIO DAÑOS Y PERJUICIOS (ACCIDENTE DE TRANSITO” - Expte. N.º 8182, sentencia del 28/8/2020']}\n",
      "{'verbatim_citations': []}\n",
      "{'verbatim_citations': ['Expte. Nº 9126']}\n"
     ]
    },
    {
     "name": "stderr",
     "output_type": "stream",
     "text": [
      "Procesando con LLM:  76%|███████▌  | 224/296 [30:42<09:55,  8.27s/it]"
     ]
    },
    {
     "name": "stdout",
     "output_type": "stream",
     "text": [
      "{'verbatim_citations': ['arts. 1º y 4º Ac. Gral. 15/18 SNE', 'Acuerdo Gral. 11/20 del 23-6-2020']}\n",
      "{'verbatim_citations': []}\n",
      "{'verbatim_citations': []}\n",
      "{'verbatim_citations': ['(1724 CCC)', 'art. 1726 sgtes. y conc. del CCC', 'art. 280, segundo párrafo del CPCC', 'art. 65 CPCC', 'arts. 3, 64 y 94 de la ley 7046 modif. por ley 11.141', 'art. 33 de la LOPJ, texto según ley 10.704', 'LOKER Ruben Dario C/ ARLETTAZ Claudio Ceferino S/ ORDINARIO DAÑOS Y PERJUICIOS - Expte. Nº 9127']}\n",
      "{'verbatim_citations': []}\n"
     ]
    },
    {
     "name": "stderr",
     "output_type": "stream",
     "text": [
      "Procesando con LLM:  76%|███████▌  | 225/296 [30:49<09:23,  7.94s/it]"
     ]
    },
    {
     "name": "stdout",
     "output_type": "stream",
     "text": [
      "{'verbatim_citations': ['art. 65 del CPCC', 'arts. 3, 64 y 94 de la ley 7046 modif. por ley 11.141', 'conforme arts. 1º y 4º Ac. Gral. 15/18 SNE', 'Acuerdo Gral. 11/20 del 23-6-2020, Punto 4°']}\n",
      "{'verbatim_citations': []}\n",
      "{'verbatim_citations': ['artículo 14 inciso 7 del CPCC']}\n"
     ]
    },
    {
     "name": "stderr",
     "output_type": "stream",
     "text": [
      "Procesando con LLM:  76%|███████▋  | 226/296 [30:52<07:34,  6.49s/it]"
     ]
    },
    {
     "name": "stdout",
     "output_type": "stream",
     "text": [
      "{'verbatim_citations': ['arts. 1 y 4 Acordada 15/18 SNE', 'Acuerdo Gral. 11/20 del 23-6-2020']}\n",
      "{'verbatim_citations': []}\n",
      "{'verbatim_citations': []}\n",
      "{'verbatim_citations': ['Leyes 26892, 23849, 26601, 26206 y 10416', 'artículo 277 del CPCC', 'art. 6 Ley 10956', 'arts. 65 y 66, CPCC']}\n",
      "{'verbatim_citations': ['art. 33 de la LOPJ, texto según ley 10.704']}\n",
      "{'verbatim_citations': []}\n"
     ]
    },
    {
     "name": "stderr",
     "output_type": "stream",
     "text": [
      "Procesando con LLM:  77%|███████▋  | 227/296 [30:59<07:43,  6.72s/it]"
     ]
    },
    {
     "name": "stdout",
     "output_type": "stream",
     "text": [
      "{'verbatim_citations': ['art. 6 Ley 10956', 'arts. 65 y 66, CPCC', 'conforme arts. 1º y 4º Ac. Gral. 15/18 SNE', 'Acuerdo Gral. 11/20 del 23-6-2020, Punto 4°']}\n",
      "{'verbatim_citations': []}\n",
      "{'verbatim_citations': []}\n",
      "{'verbatim_citations': ['art. 20 de la Ley 7046', 'artículo 20 de la norma citada', 'art. 296, CPCC', 'arts. 31 y 34 de la Ley de Aranceles', 'art. 505 del Código Civil', 'art. 20 y 34 ley arancelaria', 'art. 34 del DL 7046', 'art. 63 del DL 7046', 'art. 730 del CCC', 'art. 280, CPCC', 'art. 284 del CPCC', 'art. 75, inc. 12, Const. nac.', 'art. 730 del código unificado', 'art. 31 de la legislación arancelaria', 'art. 34 para el caso de la transacción', 'art. 33 de la LOPJ', 'ley 10.704']}\n",
      "{'verbatim_citations': []}\n"
     ]
    },
    {
     "name": "stderr",
     "output_type": "stream",
     "text": [
      "Procesando con LLM:  77%|███████▋  | 228/296 [31:06<07:46,  6.85s/it]"
     ]
    },
    {
     "name": "stdout",
     "output_type": "stream",
     "text": [
      "{'verbatim_citations': ['conforme arts. 1º y 4º Ac. Gral. 15/18 SNE', 'Acuerdo Gral. 11/20 del 23-6-2020']}\n",
      "{'verbatim_citations': []}\n",
      "{'verbatim_citations': []}\n",
      "{'verbatim_citations': ['arts. 511, 514, 516 y 528 del CCC', 'art. 54 de la LPF', 'arts. 51, 56 y 57 de la LPF', 'arts. 362 y 372 del CPCC', 'art. 342, inc 1), del CPCC', 'arts. 65, 2º párrafo, 68 y 69 del CPCC', 'Ley de Aranceles Profesionales', 'arts. 1, 2, 3, 30, 64, 94 y concs. Ley 7046, texto s/ Ley 11141', 'art. 33 de la LOPJ, texto según ley 10.704']}\n",
      "{'verbatim_citations': []}\n"
     ]
    },
    {
     "name": "stderr",
     "output_type": "stream",
     "text": [
      "Procesando con LLM:  77%|███████▋  | 229/296 [31:13<07:43,  6.92s/it]"
     ]
    },
    {
     "name": "stdout",
     "output_type": "stream",
     "text": [
      "{'verbatim_citations': ['art. 65 del CPCC', 'arts. 3, 64 y 94 de la ley 7046 modif. por ley 11.141', 'conforme arts. 1º y 4º Ac. Gral. 15/18 SNE', 'Acuerdo Gral. 11/20 del 23-6-2020']}\n",
      "{'verbatim_citations': []}\n",
      "{'verbatim_citations': ['art. 14 inc. 7 del CPCC']}\n"
     ]
    },
    {
     "name": "stderr",
     "output_type": "stream",
     "text": [
      "Procesando con LLM:  78%|███████▊  | 230/296 [31:17<06:23,  5.81s/it]"
     ]
    },
    {
     "name": "stdout",
     "output_type": "stream",
     "text": [
      "{'verbatim_citations': ['arts. 1 y 4 Acordada 15/18 SNE', 'Acuerdo Gral. 11/20 del 23-6-2020, Punto 4°']}\n",
      "{'verbatim_citations': []}\n",
      "{'verbatim_citations': []}\n",
      "{'verbatim_citations': ['art. 39 de la Ley de Aranceles', 'art. 39 de la Ley 7046 -modificado por la Ley 11.141-', 'art. 7 del CCC', 'Fallos: 310:819; 311:870 y 1810; 312:555 y 891; 325:2275', 'art. 134 de la Ley 7046', 'inc. a del art. 39', 'Artículo 30']}\n",
      "{'verbatim_citations': ['art. 33 de la LOPJ', 'ley 10.704']}\n",
      "{'verbatim_citations': []}\n"
     ]
    },
    {
     "name": "stderr",
     "output_type": "stream",
     "text": [
      "Procesando con LLM:  78%|███████▊  | 231/296 [31:24<06:55,  6.39s/it]"
     ]
    },
    {
     "name": "stdout",
     "output_type": "stream",
     "text": [
      "{'verbatim_citations': ['arts. 1º y 4º Ac. Gral. 15/18 SNE', 'Acuerdo Gral. 11/20 del 23-6-2020']}\n",
      "{'verbatim_citations': []}\n",
      "{'verbatim_citations': []}\n",
      "{'verbatim_citations': ['art. 3 del Reglamento de Mediación', 'art. 2 inc. b)', 'art. 34 del Reglamento de Mediación Previa Obligatoria (RMPO)', 'art. 34 del RMPO', 'art. 290 del CPCC', 'Acuerdo General Nº 14/24 del 04.06.2024', 'Juzgado Civil y Comercial N° 5 de Paraná', 'Juzgado de Paz Nº 2 de Paraná', 'SUPERIOR GOBIERNO DE LA PROVINCIA DE ENTRE RIOS C/ RUIZ MARIA FELISA S/ CUADERNILLO (CUESTION DE COMPETENCIA) - Expte. N° 9142']}\n"
     ]
    },
    {
     "name": "stderr",
     "output_type": "stream",
     "text": [
      "Procesando con LLM:  78%|███████▊  | 232/296 [31:29<06:18,  5.92s/it]"
     ]
    },
    {
     "name": "stdout",
     "output_type": "stream",
     "text": [
      "{'verbatim_citations': ['Acuerdo Gral. 11/20 del 23-6-2020']}\n",
      "{'verbatim_citations': []}\n",
      "{'verbatim_citations': []}\n",
      "{'verbatim_citations': ['art. 2336 del CCC', 'arts. 2335, 2336 y 2358 CCC', 'art. 3284 del Código Civil', 'art. 3284 inc. 4º del Código Civil', 'art. 7 inc. 1 ley 12008', 'art. 33 de la LOPJ', 'competencia Nº 168. XXV.28/09/1993 Fallos: 316:2138', 'Fallos 323:1735, del 21/06/2000', 'Expte. Nº 12.316', 'Expte. N° 9149', 'Expte. n.º 28598', 'Expte. Nº 8799', 'cfr. fallos: 257:93 y 302:557', 'sentencia del 3/5/2016', 'cfr. in re: \"Direccion General de Renta de la Provincia c/ Fontanini Jose y/o sucesores y/o herederos -Apremio s/ expedientillo art. 12 C.P.C.C. s/ Competencia\" - Expte. Nº 6167, sentencia del 5/9/2011', 'competencia del Juzgado Civil y Comercial Nº 5 de Paraná']}\n"
     ]
    },
    {
     "name": "stderr",
     "output_type": "stream",
     "text": [
      "Procesando con LLM:  79%|███████▊  | 233/296 [31:36<06:30,  6.20s/it]"
     ]
    },
    {
     "name": "stdout",
     "output_type": "stream",
     "text": [
      "{'verbatim_citations': ['conforme arts. 1º y 4º Ac. Gral. 15/18 SNE', 'Acuerdo Gral. 11/20 del 23-6-2020']}\n",
      "{'verbatim_citations': []}\n",
      "{'verbatim_citations': []}\n",
      "{'verbatim_citations': ['art. 1740 del CCC', 'art. 19 CN', 'arts. 280 y 281 del texto ritual', 'art. 280 del CPCC', 'art. 33 de la LOPJ', 'texto según ley 10.704']}\n"
     ]
    },
    {
     "name": "stderr",
     "output_type": "stream",
     "text": [
      "Procesando con LLM:  79%|███████▉  | 234/296 [31:42<06:11,  6.00s/it]"
     ]
    },
    {
     "name": "stdout",
     "output_type": "stream",
     "text": [
      "{'verbatim_citations': ['arts. 1 y 4 Ac. Gral 15/18 SNE', 'Acuerdo Gral. 11/20 del 23-6-2020']}\n",
      "{'verbatim_citations': []}\n",
      "{'verbatim_citations': []}\n",
      "{'verbatim_citations': ['conforme lo acordado por el Superior Tribunal de Justicia por Acuerdo General 28/20 del 25 de noviembre de 2020', 'arts. 11 y 12 del CPCC', 'art. 37 inc. 11 ley 6902', 'art. 5 Reglamento Mesa Unica Informatizada', 'artículo 10 de dicho reglamento', 'Acordada del 22 de septiembre 2015', 'Acordada General Nº 28/15 de fecha 22/09/2015', 'art. 33 de la LOPJ', 'texto según ley 10.704']}\n"
     ]
    },
    {
     "name": "stderr",
     "output_type": "stream",
     "text": [
      "Procesando con LLM:  79%|███████▉  | 235/296 [31:47<05:53,  5.80s/it]"
     ]
    },
    {
     "name": "stdout",
     "output_type": "stream",
     "text": [
      "{'verbatim_citations': ['conforme arts. 1º y 4º Ac. Gral. 15/18 SNE', 'Acuerdo Gral. 11/20 del 23-6-2020, Punto 4°']}\n",
      "{'verbatim_citations': ['Expte. Nº 7351']}\n",
      "{'verbatim_citations': ['Expte. Nº 7351', '20/5/2024', '3/6/2024']}\n",
      "{'verbatim_citations': ['art. 276 y sigts. del CPCC', 'art. 15 de la ley 7.046', 'art. 10 LA', 'art. 34, LA', 'arts. 3, 30, 31, 60, 63 y 69, LA', 'art. 15 de la ley 7.046', 'art. 1255, segundo párrafo in fine, del CCC', 'art. 3 de la ley arancelaria', 'art. 60 de la ley 7.046', 'art. 280, CPCC', 'art. 10 decreto-ley 7.046', 'art. 34 de la ley arancelaria']}\n",
      "{'verbatim_citations': []}\n",
      "{'verbatim_citations': []}\n",
      "{'verbatim_citations': []}\n"
     ]
    },
    {
     "name": "stderr",
     "output_type": "stream",
     "text": [
      "Procesando con LLM:  80%|███████▉  | 236/296 [31:56<06:52,  6.88s/it]"
     ]
    },
    {
     "name": "stdout",
     "output_type": "stream",
     "text": [
      "{'verbatim_citations': ['conforme arts. 1º y 4º Ac. Gral. 15/18 SNE', 'Acuerdo Gral. 11/20 del 23-6-2020']}\n",
      "{'verbatim_citations': []}\n",
      "{'verbatim_citations': []}\n",
      "{'verbatim_citations': ['arts. 271, 272, 338 y concordantes del Código Civil y Comercial', 'art. 271 CCC', 'art. 272 CCC', 'art. 12', 'art. 388 CCC', 'art. 339 del CCC', 'arts. 277, 280 y ccs. del CPCC', 'art. 65 CPCC']}\n",
      "{'verbatim_citations': ['art. 33 de la LOPJ, texto según ley 10.704']}\n",
      "{'verbatim_citations': ['arts. 3, 52, 58, 63, 64 y 94 de la ley 7.046 modif. por ley 11.141']}\n",
      "{'verbatim_citations': []}\n"
     ]
    },
    {
     "name": "stderr",
     "output_type": "stream",
     "text": [
      "Procesando con LLM:  80%|████████  | 237/296 [32:08<08:09,  8.29s/it]"
     ]
    },
    {
     "name": "stdout",
     "output_type": "stream",
     "text": [
      "{'verbatim_citations': ['art. 65 del CPCC', 'conforme arts. 1º y 4º Ac. Gral. 15/18 SNE', 'Acuerdo Gral. 11/20 del 23-6-2020', 'ley 7046', 'Art. 28', 'artículo 114', 'Art. 29 de esta ley']}\n",
      "{'verbatim_citations': []}\n",
      "{'verbatim_citations': []}\n",
      "{'verbatim_citations': ['artículo 765 del Código Civil y Comercial', 'artículo 765 del Código Civil y Comercial', 'artículos 276, 280 y 281 del Código Procesal Civil y Comercial', 'artículo 280, segundo párrafo, del Código Procesal Civil y Comercial', 'arts. 3, 64 y 94 de la ley 7.046 modif. por ley 11.141']}\n",
      "{'verbatim_citations': ['arts. 276, 277, 280 y ccdts., Cód. Proc. Civil y Comercial', 'art. 765, Cód. Civil y Comercial', 'art. 869, Cód. Civil y Comercial', 'art. 1794, Cód. Civil y Comercial', 'arts. 64 y 94, dec. ley 7046/82, ratif. por Ley 7503 y modif. por ley 11141']}\n",
      "{'verbatim_citations': []}\n",
      "{'verbatim_citations': []}\n"
     ]
    },
    {
     "name": "stderr",
     "output_type": "stream",
     "text": [
      "Procesando con LLM:  80%|████████  | 238/296 [32:19<08:43,  9.03s/it]"
     ]
    },
    {
     "name": "stdout",
     "output_type": "stream",
     "text": [
      "{'verbatim_citations': ['art. 65 del CPCC', 'arts. 3, 64 y 94 de la ley 7046 modif. por ley 11.141', 'conforme arts. 1º y 4º Ac. Gral. 15/18 SNE', 'Acuerdo Gral. 11/20 del 23-6-2020, Punto 4°']}\n",
      "{'verbatim_citations': []}\n",
      "{'verbatim_citations': []}\n",
      "{'verbatim_citations': ['art. 14 inc. 7 del CPCC', 'art. 14 inc. 7 del CPCC', 'art. 33 de la LOPJ', 'texto según ley 10.704']}\n"
     ]
    },
    {
     "name": "stderr",
     "output_type": "stream",
     "text": [
      "Procesando con LLM:  81%|████████  | 239/296 [32:23<07:17,  7.67s/it]"
     ]
    },
    {
     "name": "stdout",
     "output_type": "stream",
     "text": [
      "{'verbatim_citations': ['art. 33 LOPJ', 'arts. 1 y 4 Acordada 15/18 SNE', 'Acuerdo Gral. 11/20 del 23-6-2020']}\n",
      "{'verbatim_citations': []}\n",
      "{'verbatim_citations': ['art. 30 de la ley arancelaria', 'arts. 3, 63, 64 y 94 de la ley 7046', 'art. 33 de la LOPJ, texto según ley 10.704']}\n"
     ]
    },
    {
     "name": "stderr",
     "output_type": "stream",
     "text": [
      "Procesando con LLM:  81%|████████  | 240/296 [32:27<06:11,  6.63s/it]"
     ]
    },
    {
     "name": "stdout",
     "output_type": "stream",
     "text": [
      "{'verbatim_citations': ['conforme arts. 1º y 4º Ac. Gral. 15/18 SNE', 'ley 7046', 'Art. 28', 'artículo 114', 'Art. 29 de esta ley']}\n",
      "{'verbatim_citations': []}\n",
      "{'verbatim_citations': ['artículos 14 inc. 7 y 27 del CPCC', 'artículo 14 inciso 7 del CPCC', 'art. 33 de la LOPJ, texto según ley 10.704']}\n"
     ]
    },
    {
     "name": "stderr",
     "output_type": "stream",
     "text": [
      "Procesando con LLM:  81%|████████▏ | 241/296 [32:32<05:34,  6.08s/it]"
     ]
    },
    {
     "name": "stdout",
     "output_type": "stream",
     "text": [
      "{'verbatim_citations': ['art. 33 LOPJ', 'conforme arts. 1° y 4° Acordada 15/18 SNE', 'Acuerdo Gral. 11/20 del 23-6-2020']}\n",
      "{'verbatim_citations': []}\n",
      "{'verbatim_citations': ['art. 30 de la ley arancelaria', 'arts. 3, 30, 63, 64 y 94 de la ley 7046', 'art. 33 de la LOPJ, texto según ley 10.704']}\n"
     ]
    },
    {
     "name": "stderr",
     "output_type": "stream",
     "text": [
      "Procesando con LLM:  82%|████████▏ | 242/296 [32:36<04:57,  5.52s/it]"
     ]
    },
    {
     "name": "stdout",
     "output_type": "stream",
     "text": [
      "{'verbatim_citations': ['conforme arts. 1º y 4º Ac. Gral. 15/18 SNE', 'ley 7046', 'Art. 28', 'artículo 114', 'Art. 29 de esta ley']}\n",
      "{'verbatim_citations': []}\n",
      "{'verbatim_citations': []}\n",
      "{'verbatim_citations': ['art. 506 del Código Procesal Civil y Comercial', 'art. 1614 del CCC (art. 1434 y ss. del código derogado)', 'art. 2640 del CCC', 'art. 2564 inciso d) del CCC', 'art. 2564 inc. d) del CCC', 'Ley provincial 6.351', 'Decreto reglamentario 958/79 y modificatorios', 'Ley 27.440, art. 217 y ctes.', 'art. 18 CN', 'art. 17 CN', 'art. 280, 6° párr. del CPCC', 'art. 509 y 472 en adelante del CPCC', 'art. 50 del Pliego de Condiciones Generales de la Licitación', 'art. 1838 CCC', 'art. 2560 del CCC', 'arts. 544 y 65 del CPCC', 'arts. 3, 15, 63, 64, 71 y 94 de la ley 7046', 'art. 71 de la ley arancelaria']}\n",
      "{'verbatim_citations': ['arts. 509 y 510 del CPCC', 'art. 52 de la Ley 6.351', 'art. 7, CCC', 'art. 1820, CCC', 'art. 509, inc. 1º, CPCC', 'art. 506 del CPCC', 'arts. 65, 2º párrafo, y 66, CPCC']}\n",
      "{'verbatim_citations': ['art. 2564 inciso d) del CCC', 'sic DL 5.963', 'art. 1, incisos 2 y 6 DL 5.963', 'nuevo art. 52 de la Ley 6.351', 'Ley 11.151', 'art. 33 de la LOPJ', 'texto según ley 10.704']}\n",
      "{'verbatim_citations': []}\n",
      "{'verbatim_citations': []}\n"
     ]
    },
    {
     "name": "stderr",
     "output_type": "stream",
     "text": [
      "Procesando con LLM:  82%|████████▏ | 243/296 [32:49<06:40,  7.55s/it]"
     ]
    },
    {
     "name": "stdout",
     "output_type": "stream",
     "text": [
      "{'verbatim_citations': ['arts. 544 y 65 del CPCC', 'conforme arts. 1º y 4º Ac. Gral. 15/18 SNE', 'ley 7046', 'Art. 28', 'artículo 114', 'Art. 29 de esta ley']}\n",
      "{'verbatim_citations': []}\n",
      "{'verbatim_citations': []}\n",
      "{'verbatim_citations': ['art. 593 CCC', 'art. 269 CPCC', 'art. 2572', 'art. 65 y 66, CPCC - art. 325, LPF', 'TAFFAREL JOSE LUIS RAMON C/ TAFFAREL MARIA LUCRECIA Y OTRO S/ ORDINARIO - Expte. Nº 9060', 'Tulian Jonathan C/Cavalott Antonio D. y otra s/ Ordinario Impugnación de Paternidad, Expte. 13.079', 'ST Jujuy, Sala Civ. y Com. y Fam., 22/10/19, «T., L. y M., F. R. c. C., C. E. s/Impugnación de reconocimiento», RCCyC, 2020 (marzo), 79', 'CIDH, “L.M. Medidas provisionales c. Paraguay”, 1-7-11', 'CSJN, Fallos:330:642, votos de los ministros Maqueda y Argibay', 'Davico, María de los Angeles - Kemelmajer de Carlucci, Aída, “Aspectos constitucionales de la legitimación del presunto padre biológico para impugnar la filiación matrimonial; reflexiones a partir de una sentencia”, LL 2014-E-88']}\n",
      "{'verbatim_citations': ['art. 33 de la LOPJ', 'ley 10.704']}\n",
      "{'verbatim_citations': []}\n"
     ]
    },
    {
     "name": "stderr",
     "output_type": "stream",
     "text": [
      "Procesando con LLM:  82%|████████▏ | 244/296 [32:58<07:03,  8.14s/it]"
     ]
    },
    {
     "name": "stdout",
     "output_type": "stream",
     "text": [
      "{'verbatim_citations': ['arts. 65 y 66 del CPCC', 'art. 325 LPF', 'conforme arts. 1º y 4º Ac. Gral. 15/18 SNE', 'Acuerdo Gral. 11/20 del 23-6-2020, Punto 4°']}\n",
      "{'verbatim_citations': []}\n",
      "{'verbatim_citations': []}\n",
      "{'verbatim_citations': ['artículo 257 del Código Procesal Civil y Comercial', 'artículos 276, 280 y 281 del Código Procesal Civil y Comercial', 'artículo 280, segundo párrafo, del Código Procesal Civil y Comercial', 'artículo 65 del Código Procesal Civil y Comercial', 'artículos 14 bis, 16, 17, 18 y 28, 31, 75 inciso 22 de la Constitución Nacional']}\n",
      "{'verbatim_citations': ['art. 276, CPCC', 'art. 33 de la LOPJ, texto según ley 10.704']}\n",
      "{'verbatim_citations': []}\n"
     ]
    },
    {
     "name": "stderr",
     "output_type": "stream",
     "text": [
      "Procesando con LLM:  83%|████████▎ | 245/296 [33:06<06:45,  7.94s/it]"
     ]
    },
    {
     "name": "stdout",
     "output_type": "stream",
     "text": [
      "{'verbatim_citations': ['art. 65 del CPCC', 'conforme arts. 1º y 4º Ac. Gral. 15/18 SNE', 'Acuerdo Gral. 11/20 del 23-6-2020, Punto 4°']}\n",
      "{'verbatim_citations': []}\n",
      "{'verbatim_citations': []}\n",
      "{'verbatim_citations': ['art. 59 LS', 'art. 280 del CPCC', 'arts. 65 y 66, CPCC', 'arts. 1, 2, 3, 30, 64, 94 y ccs., ley 7046', 'art. 33 de la LOPJ, texto según ley 10.704']}\n",
      "{'verbatim_citations': []}\n"
     ]
    },
    {
     "name": "stderr",
     "output_type": "stream",
     "text": [
      "Procesando con LLM:  83%|████████▎ | 246/296 [33:12<06:18,  7.57s/it]"
     ]
    },
    {
     "name": "stdout",
     "output_type": "stream",
     "text": [
      "{'verbatim_citations': ['art. 65 y 66 del CPCC', 'arts. 1, 2, 3, 30, 64, 94 y ccs., ley 7046', 'conforme arts. 1º y 4º Ac. Gral. 15/18 SNE', 'Acuerdo Gral. 11/20 del 23-6-2020, Punto 4°']}\n",
      "{'verbatim_citations': []}\n",
      "{'verbatim_citations': []}\n",
      "{'verbatim_citations': ['artículo 329 del Código Procesal Civil y Comercial', 'artículos 276, 280, 160 incisos 5 y 6, 161, 264, 372 y siguientes del Código Procesal Civil y Comercial', 'artículo 342 del Código Procesal Civil y Comercial', 'artículos 276, 280 y 281 del Código Procesal Civil y Comercial', 'artículo 280, segundo párrafo, del código procesal civil y comercial', 'artículo 65 del código procesal civil y comercial']}\n",
      "{'verbatim_citations': ['art. 33 de la LOPJ', 'ley 10.704']}\n",
      "{'verbatim_citations': ['arts. 3, 64 y 94 de la ley 7.046 modif. por ley 11.141']}\n",
      "{'verbatim_citations': []}\n"
     ]
    },
    {
     "name": "stderr",
     "output_type": "stream",
     "text": [
      "Procesando con LLM:  83%|████████▎ | 247/296 [33:22<06:44,  8.26s/it]"
     ]
    },
    {
     "name": "stdout",
     "output_type": "stream",
     "text": [
      "{'verbatim_citations': ['art. 65 del CPCC', 'arts. 3, 64 y 94 de la ley 7.046 modif. por ley 11.141', 'conforme arts. 1º y 4º Ac. Gral. 15/18 SNE', 'Acuerdo Gral. 11/20 del 23-6-2020, Punto 4°']}\n",
      "{'verbatim_citations': []}\n",
      "{'verbatim_citations': []}\n",
      "{'verbatim_citations': ['artículo 280, tercer párrafo, del código procesal civil y comercial', 'quinto párrafo de la citada norma', 'art. 280 del CPCC', 'art. 65 del CPCC', 'art. 280 del CPCC', 'art. 280 del CPCC', 'art. 280 del CPCC', 'art. 33 de la LOPJ, texto según ley 10.704']}\n"
     ]
    },
    {
     "name": "stderr",
     "output_type": "stream",
     "text": [
      "Procesando con LLM:  84%|████████▍ | 248/296 [33:27<05:47,  7.23s/it]"
     ]
    },
    {
     "name": "stdout",
     "output_type": "stream",
     "text": [
      "{'verbatim_citations': ['conforme arts. 1º y 4º Ac. Gral. 15/18 SNE', 'Acuerdo Gral. 11/20 del 23-6-2020, Punto 4°']}\n",
      "{'verbatim_citations': []}\n",
      "{'verbatim_citations': []}\n",
      "{'verbatim_citations': ['art. 2344 del CCC', 'art. 754 del CPCC', 'arts. 31, inc 4º, 160, 161 y 461 del CPCC', 'art. 2 del Código Civil y Comercial', 'arts. 18, 19 y 28 de la Constitución Nacional', 'arts. 276, 280 y 281 del CPCC', 'artículo 65 del CPCC', 'arts. 3, 64 y 94 de la ley 7.046 modif. por ley 11.141']}\n",
      "{'verbatim_citations': ['CSJN, Fallos: 307:588', 'CSJN, Fallos: 308:1076', 'CSJN, Fallos: 339:1691', 'CSJN, Fallos: 346:634', 'CSJN, Fallos: 347:1360', 'CSJN, Fallos: 316:224', 'CSJN, Fallos: 330:4903', 'CSJN, Fallos: 344:2835', 'art. 33 de la LOPJ', 'ley 10.704']}\n",
      "{'verbatim_citations': []}\n"
     ]
    },
    {
     "name": "stderr",
     "output_type": "stream",
     "text": [
      "Procesando con LLM:  84%|████████▍ | 249/296 [33:36<06:07,  7.83s/it]"
     ]
    },
    {
     "name": "stdout",
     "output_type": "stream",
     "text": [
      "{'verbatim_citations': ['art. 65 del CPCC', 'arts. 3, 64 y 94 de la ley 7.046 modif. por ley 11.141', 'conforme arts. 1º y 4º Ac. Gral. 15/18 SNE', 'Acuerdo Gral. 11/20 del 23-6-2020']}\n",
      "{'verbatim_citations': []}\n",
      "{'verbatim_citations': []}\n",
      "{'verbatim_citations': ['art. 4023 del CC', 'art. 2537 CCC', 'art. 3956 del CC', 'art. 2554 del CCC', 'arts. 2537, 2541, 2542, 2545, 2554, y 2560 del Código Civil y Comercial', 'arts. 3, 64 y 94 de la ley 7046 modif. por ley 11.141', 'CARDOZO TERESA ELENA C/ ELORRIAGA ANALIA INES S/ ORDINARIO ESCRITURACION (Y DAÑOS Y PERJUICIOS) - Expte. Nº']}\n",
      "{'verbatim_citations': ['art. 3957', 'art. 2560', 'cfme. art. 2541 C.C.y C.', 'art. 2545', 'art. 33 de la LOPJ', 'texto según ley 10.704']}\n",
      "{'verbatim_citations': []}\n"
     ]
    },
    {
     "name": "stderr",
     "output_type": "stream",
     "text": [
      "Procesando con LLM:  84%|████████▍ | 250/296 [33:46<06:23,  8.34s/it]"
     ]
    },
    {
     "name": "stdout",
     "output_type": "stream",
     "text": [
      "{'verbatim_citations': ['art. 65 del CPCC', 'arts. 3, 64 y 94 de la ley 7046 modif. por ley 11.141', 'conforme arts. 1º y 4º Ac. Gral. 15/18 SNE', 'Acuerdo Gral. 11/20 del 23-6-2020']}\n",
      "{'verbatim_citations': []}\n",
      "{'verbatim_citations': []}\n",
      "{'verbatim_citations': ['art. 33 de la LOPJ', 'ley 10.704']}\n"
     ]
    },
    {
     "name": "stderr",
     "output_type": "stream",
     "text": [
      "Procesando con LLM:  85%|████████▍ | 251/296 [33:51<05:31,  7.37s/it]"
     ]
    },
    {
     "name": "stdout",
     "output_type": "stream",
     "text": [
      "{'verbatim_citations': ['arts. 1º y 4º Ac. Gral. 15/18 SNE', 'Acuerdo Gral. 11/20 del 23-6-2020']}\n",
      "{'verbatim_citations': []}\n",
      "{'verbatim_citations': []}\n",
      "{'verbatim_citations': ['artículo 1741 del Código Civil y Comercial', 'artículos 276, 280 y 281 del Código Procesal Civil y Comercial', 'artículo 280, segundo párrafo, del Código Procesal Civil y Comercial', 'artículo 65 del Código Procesal Civil y Comercial']}\n",
      "{'verbatim_citations': []}\n",
      "{'verbatim_citations': ['arts. 3, 64 y 94 de la ley 7046 modif. por ley 11.141']}\n",
      "{'verbatim_citations': ['art. 33 de la LOPJ', 'ley 10.704']}\n",
      "{'verbatim_citations': []}\n"
     ]
    },
    {
     "name": "stderr",
     "output_type": "stream",
     "text": [
      "Procesando con LLM:  85%|████████▌ | 252/296 [34:02<06:07,  8.36s/it]"
     ]
    },
    {
     "name": "stdout",
     "output_type": "stream",
     "text": [
      "{'verbatim_citations': ['art. 65 del CPCC', 'arts. 3, 64 y 94 de la ley 7046 modif. por ley 11.141', 'conforme arts. 1º y 4º Ac. Gral. 15/18 SNE', 'Acuerdo Gral. 11/20 del 23-6-2020, Punto 4°']}\n",
      "{'verbatim_citations': []}\n",
      "{'verbatim_citations': []}\n",
      "{'verbatim_citations': ['artículo 167 y siguientes del Código Procesal', 'artículo 280 del Código Procesal Civil y Comercial', 'artículo 113 de la Ley Arancelaria', 'artículos 279 y 281, última parte, del Código Procesal Civil y Comercial', 'artículo 280, tercer párrafo, del Código Procesal Civil y Comercial', 'artículos 112 y 113 de la ley arancelaria local', 'artículo 65 del Código Procesal Civil y Comercial']}\n",
      "{'verbatim_citations': ['art. 33 de la LOPJ', 'ley 10.704']}\n",
      "{'verbatim_citations': []}\n"
     ]
    },
    {
     "name": "stderr",
     "output_type": "stream",
     "text": [
      "Procesando con LLM:  85%|████████▌ | 253/296 [34:10<05:57,  8.31s/it]"
     ]
    },
    {
     "name": "stdout",
     "output_type": "stream",
     "text": [
      "{'verbatim_citations': ['art. 65 del CPCC', 'conforme arts. 1º y 4º Ac. Gral. 15/18 SNE', 'Acuerdo Gral. 11/20 del 23-6-2020']}\n",
      "{'verbatim_citations': []}\n",
      "{'verbatim_citations': []}\n",
      "{'verbatim_citations': ['art. 32 de la ordenanza nº 180/2020', 'art. 257 CPCC', 'art. 3 LNT', 'art. 4 de la LAD', 'art. 75 incisos 13 y 14 de la Constitución Nacional', 'art. 10 decreto 1185/90, que creó el Fondo Nacional de Telecomunicaciones', 'arts. 277, 280 y concs. del CPCC', 'Fallos: 320:619', 'Fallos: 236:22', 'Fallos: 251:222', 'Fallos: 259:413', 'Fallos: 335:1987', 'Fallos: 251:50', 'Fallos: 312:1575', 'Fallos 258:304', 'Fallos 262:222', 'Fallos 265:301', 'Fallos 272:225', 'Municipalidad de Piedras Blancas c/ Telecom Argentina S.A. s/ monitorio', 'Expte. 9077', 'Expte. Nº 9119', 'Municipalidad de Concordia c/ Telefónica s/ apremio', 'Expte. Nº 8104', 'Fallos: 341:1251', 'Fallos: 293:157, cons. 6°']}\n",
      "{'verbatim_citations': ['art.65, CPCC', 'art. 33 de la LOPJ, texto según ley 10.704']}\n",
      "{'verbatim_citations': ['art. 71 de la ley arancelaria', 'art. 30', 'arts. 3, 63, 64, 71 y 94 de la ley 7046']}\n",
      "{'verbatim_citations': []}\n"
     ]
    },
    {
     "name": "stderr",
     "output_type": "stream",
     "text": [
      "Procesando con LLM:  86%|████████▌ | 254/296 [34:20<06:18,  9.00s/it]"
     ]
    },
    {
     "name": "stdout",
     "output_type": "stream",
     "text": [
      "{'verbatim_citations': ['art. 65 y 544 del CPCC', 'conforme arts. 1º y 4º Ac. Gral. 15/18 SNE', 'ley 7046', 'Art. 28', 'artículo 114', 'Art. 29 de esta ley']}\n",
      "{'verbatim_citations': []}\n",
      "{'verbatim_citations': []}\n",
      "{'verbatim_citations': ['Artículo 42 del CPC y C de la provincia', 'artículo 38 del CPC y C, segundo párrafo', 'artículo 170 del Código Procesal Civil y Comercial', 'artículo 18 de la Constitución Nacional', 'artículos 276, 280 y 281 del Código Procesal Civil y Comercial', 'arts. 3, 64 y 94 de la ley 7.046 modif. por ley', 'MIQUEO LEONEL ESTEBAN C/ CHEREMNOV MARTUSHOV PABLO Y OTRA S/ ORDINARIO DAÑOS Y PERJUICIOS - Expte. Nº 9129']}\n",
      "{'verbatim_citations': ['art. 33 de la LOPJ, texto según ley 10.704']}\n",
      "{'verbatim_citations': []}\n"
     ]
    },
    {
     "name": "stderr",
     "output_type": "stream",
     "text": [
      "Procesando con LLM:  86%|████████▌ | 255/296 [34:28<05:57,  8.71s/it]"
     ]
    },
    {
     "name": "stdout",
     "output_type": "stream",
     "text": [
      "{'verbatim_citations': ['art. 65 del CPCC', 'arts. 3, 64 y 94 de la ley 7.046 modif. por ley 11.141', 'conforme arts. 1º y 4º Ac. Gral. 15/18 SNE', 'Acuerdo Gral. 11/20 del 23-6-2020']}\n",
      "{'verbatim_citations': []}\n",
      "{'verbatim_citations': []}\n",
      "{'verbatim_citations': ['art. 14 del CPCC', 'art. 33 de la LOPJ', 'ley 10.704']}\n"
     ]
    },
    {
     "name": "stderr",
     "output_type": "stream",
     "text": [
      "Procesando con LLM:  86%|████████▋ | 256/296 [34:34<05:14,  7.87s/it]"
     ]
    },
    {
     "name": "stdout",
     "output_type": "stream",
     "text": [
      "{'verbatim_citations': ['art. 33, LOPJ', 'conforme arts. 1 y 4 Acordada 15/18 SNE', 'Acuerdo Gral. 11/20 del 23-6-2020, Punto 4°']}\n",
      "{'verbatim_citations': ['GERALNIK VERONICA C. Y OTROS C/ ECHEVERRIA ANA S/ ORDINARIO (CIVIL)', 'Expte. Nº 9144']}\n",
      "{'verbatim_citations': []}\n",
      "{'verbatim_citations': ['art. 372 del CCC', 'art. 7 del CCC', 'art. 375, inc. e), del CCC', 'art. 375 del CCC', 'art. 1881 del CC', 'arts. 65 y 66, CPCC', 'arts. 1, 2, 3, 30, 64, 94 y concs., Ley 7046']}\n",
      "{'verbatim_citations': ['art. 33 de la LOPJ', 'ley 10.704']}\n",
      "{'verbatim_citations': []}\n"
     ]
    },
    {
     "name": "stderr",
     "output_type": "stream",
     "text": [
      "Procesando con LLM:  87%|████████▋ | 257/296 [34:43<05:13,  8.03s/it]"
     ]
    },
    {
     "name": "stdout",
     "output_type": "stream",
     "text": [
      "{'verbatim_citations': ['art. 65 y 66 del CPCC', 'arts. 1, 2, 3, 30, 64, 94 y concs., Ley 7046', 'conforme arts. 1º y 4º Ac. Gral. 15/18 SNE', 'Acuerdo Gral. 11/20 del 23-6-2020, Punto 4°']}\n",
      "{'verbatim_citations': []}\n",
      "{'verbatim_citations': []}\n",
      "{'verbatim_citations': ['art. 2560, CCC', 'artículo 65 de la Constitución Provincial', 'art. 2562, inc. c, del CCC', 'art. 2560 del CCC', 'art. 1, Ley 7060', 'art. 1796 y ss., CCC', 'art. 2554, CCC', 'arts. 65 y 66, CPCC']}\n",
      "{'verbatim_citations': ['Resolución 3772 M.S. del 24/09/2019', '1 STJER \"Superior Gobierno de la Provincia de Entre Ríos c/ Nuñez, Silvia Liliana s/contencioso administrativo s/recurso de inaplicabilidad de ley\" Expte. N° 4176, del 07/12/23', 'Sala Civil y Comercial del STJER \"Superior Gobierno de la Provincia de Entre Ríos c/ Sánchez Pappalardo Pablo Daniel s/ ordinario cobro de pesos\" Expte. Nº 8837, del 10/08/23', 'art. 33 de la LOPJ, texto según ley 10.704']}\n",
      "{'verbatim_citations': ['arts. 3, 64 y 94 de la ley 7046 modif. por ley 11.141']}\n",
      "{'verbatim_citations': []}\n"
     ]
    },
    {
     "name": "stderr",
     "output_type": "stream",
     "text": [
      "Procesando con LLM:  87%|████████▋ | 258/296 [34:53<05:27,  8.63s/it]"
     ]
    },
    {
     "name": "stdout",
     "output_type": "stream",
     "text": [
      "{'verbatim_citations': ['art. 65 y 66 del CPCC', 'arts. 3, 64 y 94 de la ley 7046 modif. por ley 11.141', 'conforme arts. 1º y 4º Ac. Gral. 15/18 SNE', 'Acuerdo Gral. 11/20 del 23-6-2020, Punto 4°)']}\n",
      "{'verbatim_citations': []}\n",
      "{'verbatim_citations': ['Expte. N° 9158']}\n",
      "{'verbatim_citations': ['art. 33 de la LOPJ', 'ley 10.704']}\n"
     ]
    },
    {
     "name": "stderr",
     "output_type": "stream",
     "text": [
      "Procesando con LLM:  88%|████████▊ | 259/296 [34:57<04:35,  7.46s/it]"
     ]
    },
    {
     "name": "stdout",
     "output_type": "stream",
     "text": [
      "{'verbatim_citations': ['arts. 1º y 4º Ac. Gral. 15/18 SNE', 'Acuerdo Gral. 11/20 del 23-6-2020']}\n",
      "{'verbatim_citations': []}\n",
      "{'verbatim_citations': []}\n",
      "{'verbatim_citations': ['art. 79 incs. 1. y 7 de la ley 6902', 'ratificada por ley 7504', 'Acordada General del S.T.J.E.R. Nro. 7/10', 'Acuerdo General del S.T.J.E.R. Nº. 27/17 (18/09/2017)', 'art. 79, incs. 1 y 7 de la ley 6902', 'ratificada por ley 7.504', 'Acordada General del S.T.J.E.R. Nº 28/15, de fecha 22/9/2015', 'Acordada General Nº 27/17 de fecha 18/9/2017', 'Acuerdo General N° 14/24', 'Acuerdo General N° 28/15 del 22/9/15', 'art. 33 de la LOPJ', 'texto según ley 10.704']}\n"
     ]
    },
    {
     "name": "stderr",
     "output_type": "stream",
     "text": [
      "Procesando con LLM:  88%|████████▊ | 260/296 [35:03<04:13,  7.03s/it]"
     ]
    },
    {
     "name": "stdout",
     "output_type": "stream",
     "text": [
      "{'verbatim_citations': ['conforme arts. 1º y 4º Ac. Gral. 15/18 SNE', 'Acuerdo Gral. 11/20 del 23-6-2020']}\n",
      "{'verbatim_citations': []}\n",
      "{'verbatim_citations': []}\n",
      "{'verbatim_citations': ['art. 112 de la ley 7.046', 'art. 5 de la ley 7.046', 'art. 50 de la ley arancelaria', 'art. 64 de la ley 7.046 reformada por la ley 11.141', 'art. 91 de la ley 7.046', 'art. 109 de la ley 7.046', 'art. 31 de la ley de aranceles', 'art. 39 de la ley de aranceles', 'art. 64 de la ley arancelaria', 'art. 25 de la Ley 7046', 'GONZALEZ NURIA MONICA C/ CASSOTTI JOSE MARIA S/ ALIMENTOS - Expte. Nº 9161', 'ETCHEVEHERE DOLORES C/ LOS VASCOS PROPIEDADES S.A. Y OTROS S/ ORDINARIO NULIDAD DE ASAMBLEA - Expte. Nº 8833', 'ETCHEVEHERE DOLORES C/ LOS VASCOS PROPIEDADES S.A. Y OTROS S/ ORDINARIO NULIDAD DE ASAMBLEA - Expte. 8832', 'ETCHEVEHERE DOLORES C/ LAS MARGARITAS S.A. Y OTROS S/ ORDINARIO NULIDAD DE ASAMBLEA (Y ACCIÓN DE RESPONSABILIDAD) - Expte. Nº 8826', 'B.I.D. COOP. LTDO. (HOY SU QUIEBRA) C/ SEGOVIA JOSE HECTOR Y OTRA- S/ EJECUTIVO - Expte. 7134', 'Gottig Néstor T. y Otro c/Petrogal S.R.L. s/Sumario - Expte. Nº 4140', 'Arrúa Remigio Guillermo c/Pietrantueno Gustavo Armando y Otro s/Daños y Perjuicios - Expte. Nº 4247', 'Maldonado Claudina Amalia c/ Mizawak Cristina Aurora y otro -Sumario', 'Municipalidad de Gualeguaychú c/ Ingeniera Sur S.A. s/ Daños y Perjuicios', 'GIMÉNEZ PAULO GREGORIO Y OTROS C/ SUPERIOR GOBIERNO DE LA PROVINCIA DE ENTRE RÍOS S/ DAÑOS Y PERJUICIOS S/ EJECUCIÓN DE SENTENCIA', 'GONZALEZ NURIA MONICA C/ CASSOTTI JOSE MARIA S/ ALIMENTOS - Expte. Nº 9161']}\n",
      "{'verbatim_citations': ['CSJN, Fallos: 258:304; 262:222; 265:301; 272:225', 'art. 50 del Decr.-ley 7.046', 'art. 64, del mismo cuerpo legal', 'art. 134, Decr.-ley 7.046']}\n",
      "{'verbatim_citations': []}\n",
      "{'verbatim_citations': []}\n"
     ]
    },
    {
     "name": "stderr",
     "output_type": "stream",
     "text": [
      "Procesando con LLM:  88%|████████▊ | 261/296 [35:16<05:02,  8.64s/it]"
     ]
    },
    {
     "name": "stdout",
     "output_type": "stream",
     "text": [
      "{'verbatim_citations': ['conforme arts. 1º y 4º Ac. Gral. 15/18 SNE', 'ley 7046', 'Art. 28', 'Art. 114', 'artículo 114', 'artículo 29 de esta ley']}\n",
      "{'verbatim_citations': []}\n",
      "{'verbatim_citations': []}\n",
      "{'verbatim_citations': ['art. 25, Ley Prov. 9861', 'art. 30, inc. b, la Ley Prov. 9.861', 'art. 18, último párrafo, de la ley 26.657', 'arts. 3, incs. 11 y 14, y 13, inc. 5, LPF y 60, Ley Prov. 9.861', 'arts. 7, inc. a, y 9', 'art. 25, Ley 9.861', 'conf. art. 8.1, del reglamento “Guía de Buenas Prácticas en Procesos con Actuación Conjunta de Órganos Judiciales con Competencia Material en Familia COPNAF y Ministerio Público de la Defensa”', 'arts. 3, 26 y 706, inc. c, CCC; 13, inc. 15, LPF y 17, Ley Prov. 9.861', 'arts. 65, 2do. párrafo, CPCC - 325, LPF']}\n",
      "{'verbatim_citations': ['art. 33 de la LOPJ', 'ley 10.704']}\n",
      "{'verbatim_citations': []}\n"
     ]
    },
    {
     "name": "stderr",
     "output_type": "stream",
     "text": [
      "Procesando con LLM:  89%|████████▊ | 262/296 [35:25<04:56,  8.72s/it]"
     ]
    },
    {
     "name": "stdout",
     "output_type": "stream",
     "text": [
      "{'verbatim_citations': ['art. 65 del CPCC', '325 LPF', 'conforme arts. 1º y 4º Ac. Gral. 15/18 SNE', 'Acuerdo Gral. 11/20 del 23-6-2020, Punto 4°']}\n",
      "{'verbatim_citations': []}\n",
      "{'verbatim_citations': ['MUNICIPALIDAD DE NOGOYA C/ WARD RICARDO TOMAS EUGENIO S- APREMIO S/ INCIDENTE TERCERIA DE DOMINIO', 'Expte. N° 9165']}\n",
      "{'verbatim_citations': ['art. 14 del CPCC', 'art. 33 de la LOPJ', 'ley 10.704']}\n"
     ]
    },
    {
     "name": "stderr",
     "output_type": "stream",
     "text": [
      "Procesando con LLM:  89%|████████▉ | 263/296 [35:30<04:14,  7.70s/it]"
     ]
    },
    {
     "name": "stdout",
     "output_type": "stream",
     "text": [
      "{'verbatim_citations': ['art. 33, LOPJ', 'arts. 1 y 4 Acordada 15/18 SNE', 'Acuerdo Gral. 11/20 del 23-6-2020, Punto 4°']}\n",
      "{'verbatim_citations': []}\n",
      "{'verbatim_citations': []}\n",
      "{'verbatim_citations': ['art. 112 de la ley 7.046', 'art. 1255 del CCC', 'art. 58 de la ley 7046', 'artículo 25 de la ley 7046', 'arts. 1, 3, 5, 25, 29/32, 50, 63, 64, 71 de la ley 7.046', 'art. 280, segundo párrafo, del Código Procesal Civil y Comercial', 'artículo 113 de le ley 7.046', 'art. 29 de la ley arancelaria']}\n",
      "{'verbatim_citations': ['art. 33 de la LOPJ', 'ley 10.704']}\n",
      "{'verbatim_citations': []}\n"
     ]
    },
    {
     "name": "stderr",
     "output_type": "stream",
     "text": [
      "Procesando con LLM:  89%|████████▉ | 264/296 [35:38<04:08,  7.77s/it]"
     ]
    },
    {
     "name": "stdout",
     "output_type": "stream",
     "text": [
      "{'verbatim_citations': ['arts. 1º y 4º Ac. Gral. 15/18 SNE', 'Acuerdo Gral. 11/20 del 23-6-2020']}\n",
      "{'verbatim_citations': []}\n",
      "{'verbatim_citations': []}\n",
      "{'verbatim_citations': ['arts. 16 y 18 de la CN', 'art. 372 del CPCC', 'artículo 47 de la Ley Nº 9234', 'RAFFO CAROLINA ANDREA C RAFFO EDUARDO OMAR Y OTROS S ORDINARIO CUMPLIMIENTO DE CONTRATO S/ QUEJA (QUEJA INTERPUESTA POR LA DRA. MARIA AMELIA ANGEROSA DE CESPEDES) - Expte. Nº 9172', 'Alasino Claudio Fernando c/ ABG. S.R.L. y Otros -Ordinario Recurso de Queja (interp. por el Dr. Eduardo Fabián Ballesteros)', 'Expte. Nº 4641, sentencia del 13/02/2006', 'Casenave José Benito c/ Casenave Pedro Isabelino - Ordinario s/ Recurso de Queja, Interpuesta por la Dra. Alejandra B. Nuñez', 'Expte. Nº 6301, sentencia del 29/03/2012', 'CAINO MARCELO DANIEL C/ CAINO IRMA SUSANA EVELYN S/ ORDINARIO ACCION DE NULIDAD - Expte. Nº 8337 19/2/2021 - SALA CC STJ ENTRE RIOS', 'ALARCON JOSE GABRIEL S-PEDIDO DE QUIEBRA PROMOVIDO POR ACREEDOR S- QUIEBRA (Promovido por COOPERATIVA AGRÍCOLA GANADERA LTDA. GUILLERMO LEHMANN) S/ INCIDENTE REVISION - Expte. Nº 8189 - 07/07/2020 - SALA CC STJ ENTRE RIOS']}\n",
      "{'verbatim_citations': ['art. 280, CPCC', 'art. 33 de la LOPJ, texto según ley 10.704']}\n",
      "{'verbatim_citations': []}\n"
     ]
    },
    {
     "name": "stderr",
     "output_type": "stream",
     "text": [
      "Procesando con LLM:  90%|████████▉ | 265/296 [35:47<04:15,  8.25s/it]"
     ]
    },
    {
     "name": "stdout",
     "output_type": "stream",
     "text": [
      "{'verbatim_citations': ['conforme arts. 1º y 4º Ac. Gral. 15/18 SNE', 'Acuerdo Gral. 11/20 del 23-6-2020, Punto 4°']}\n",
      "{'verbatim_citations': []}\n"
     ]
    },
    {
     "name": "stderr",
     "output_type": "stream",
     "text": [
      "Procesando con LLM:  90%|████████▉ | 266/296 [35:54<03:49,  7.64s/it]"
     ]
    },
    {
     "name": "stdout",
     "output_type": "stream",
     "text": [
      "{'verbatim_citations': ['arts. 14, 15 y 16 de la Ley 48', 'arts. 16º de la Ley 48', 'arts. 285 bis del CPCC', 'Acordadas Nº 02/2007 y 04/2007 de la Excma. Corte Suprema de Justicia de la Nación', 'art. 955 del Código Civil y Comercial', 'art. 163 del rito provincial', 'arts. 17, 18, 19 y 28', 'arts. 17 y 18 de la CN', 'arts. 240, inc. 19 y concs. de la Constitución Provincial y Ley Orgánica de Municipios Nº 10.027', 'arts. 1 y 5, Const. Nac. y art. 1, Const. Prov.', 'arts. 955 y 956 del Código Civil y Comercial -CCC', 'art. 1 de la Acordada 04/2007', 'art. 54 de la LDC', '162 del CPCC', '1740 del CCC', 'art. 93 CPCC', 'art. 33 y concordantes del CPCC', 'Fallos: 328: 3864', 'Fallos: 332: 885', 'Fallos: 331: 636', 'Fallos: 331:373', 'Fallos: 344:1930', 'Fallos: 344:378', 'Fallos: 315:1026', 'Fallos: 339:1615', 'Fallos: 319:2333', 'Fallos: 308:568', 'Fallos: 250:152', 'Fallos: 252:40', 'Fallos: 314:1764', 'Fallos: 326:3180', 'Fallos: 311:955', 'Fallos: 284:115', 'Fallos: 237:328', 'Fallos: 310:2709', 'Fallos: 327:1607', 'Fallos: 344:1266', 'Fallos: 344:545', 'Fallos: 321:1642']}\n",
      "{'verbatim_citations': []}\n",
      "{'verbatim_citations': ['Expte. Nº 6424']}\n",
      "{'verbatim_citations': ['arts. 268 (2), 22 bis y 20 ter del Código Penal', 'art. 23 (t.o. ley 23077)', 'art. 2248 CCC', 'art. 2610 del CC (aplicable en razón del art. 7 del CCC)', 'art. 2 de la ley 19550', 'art. 143 del CCC', 'arts. 276, 280 y 281 del CPCC', 'art. 65 del CPCC', 'arts. 3, 64 y 94 de la ley 7046 modif. por ley 11.141']}\n",
      "{'verbatim_citations': ['art. 33 de la LOPJ', 'ley 10.704']}\n",
      "{'verbatim_citations': []}\n"
     ]
    },
    {
     "name": "stderr",
     "output_type": "stream",
     "text": [
      "Procesando con LLM:  90%|█████████ | 267/296 [36:02<03:52,  8.00s/it]"
     ]
    },
    {
     "name": "stdout",
     "output_type": "stream",
     "text": [
      "{'verbatim_citations': ['art. 65 del CPCC', 'arts. 3, 64 y 94 de la ley 7046 modif. por ley 11.141', 'conforme arts. 1º y 4º Ac. Gral. 15/18 SNE', 'Acuerdo Gral. 11/20 del 23-6-2020, Punto 4°']}\n",
      "{'verbatim_citations': []}\n",
      "{'verbatim_citations': ['artículos 14 inc. 7 y 27 del CPCC', 'artículo 14 inciso 7 del CPCC']}\n"
     ]
    },
    {
     "name": "stderr",
     "output_type": "stream",
     "text": [
      "Procesando con LLM:  91%|█████████ | 268/296 [36:07<03:11,  6.83s/it]"
     ]
    },
    {
     "name": "stdout",
     "output_type": "stream",
     "text": [
      "{'verbatim_citations': ['art. 33 LOPJ', 'arts. 1° y 4° Acordada 15/18 SNE', 'Acuerdo Gral. 11/20 del 23-6-2020']}\n",
      "{'verbatim_citations': []}\n",
      "{'verbatim_citations': []}\n",
      "{'verbatim_citations': ['artículo 460 del Código Procesal Civil y Comercial', 'artículo 285 del Código Procesal Civil y Comercial', 'artículo 68 del Código Procesal Civil y Comercial', 'artículo 161 del Código Procesal Civil y Comercial', 'artículo 160 del mismo cuerpo legal', 'artículo 31, inciso 4 de dicho ordenamiento', 'artículos 276, 280 y 281 del Código Procesal Civil y Comercial', 'artículos 276 y 277 del código procesal civil y comercial', 'artículo 772 del Código Civil y Comercial', 'artículos 112 y 113 de la Ley 7.046']}\n",
      "{'verbatim_citations': ['CSJN, Fallos: 307:588', 'CSJN, Fallos: 308:1076', 'CSJN, Fallos: 339:1691', 'CSJN, Fallos: 346:634', 'CSJN, Fallos: 347:1360', 'CSJN, Fallos: 316:224', 'CSJN, Fallos: 330:4903', 'CSJN, Fallos: 344:2835', 'art. 39 de ley n° 7.046']}\n",
      "{'verbatim_citations': ['art. 33 de la LOPJ, texto según ley 10.704', 'art. 160 inc. 8 del CPCC', 'art. 31, inc. 5º del CPCC']}\n",
      "{'verbatim_citations': []}\n"
     ]
    },
    {
     "name": "stderr",
     "output_type": "stream",
     "text": [
      "Procesando con LLM:  91%|█████████ | 269/296 [36:16<03:28,  7.71s/it]"
     ]
    },
    {
     "name": "stdout",
     "output_type": "stream",
     "text": [
      "{'verbatim_citations': ['conforme arts. 1º y 4º Ac. Gral. 15/18 SNE', 'Acuerdo Gral. 11/20 del 23-6-2020']}\n",
      "{'verbatim_citations': []}\n",
      "{'verbatim_citations': ['artículos 14 inc. 7 y 27 del CPCC', 'artículo 14 inciso 7 del CPCC', 'art. 33 de la LOPJ, texto según ley 10.704']}\n"
     ]
    },
    {
     "name": "stderr",
     "output_type": "stream",
     "text": [
      "Procesando con LLM:  91%|█████████ | 270/296 [36:33<04:29, 10.36s/it]"
     ]
    },
    {
     "name": "stdout",
     "output_type": "stream",
     "text": [
      "{'verbatim_citations': ['art. 33 LOPJ', 'conforme arts. 1° y 4° Acordada 15/18 SNE', 'Acuerdo Gral. 11/20 del 23-6-2020']}\n",
      "{'verbatim_citations': []}\n",
      "{'verbatim_citations': ['art. 30 de la ley arancelaria', 'arts. 3, 5, 14, 26, 63, 64 y 94 de la ley 7046', 'art. 33 de la LOPJ, texto según ley 10.704']}\n"
     ]
    },
    {
     "name": "stderr",
     "output_type": "stream",
     "text": [
      "Procesando con LLM:  92%|█████████▏| 271/296 [36:38<03:42,  8.88s/it]"
     ]
    },
    {
     "name": "stdout",
     "output_type": "stream",
     "text": [
      "{'verbatim_citations': ['conforme arts. 1º y 4º Ac. Gral. 15/18 SNE', 'ley 7046', 'Art. 28', 'artículo 114', 'Art. 29 de esta ley']}\n",
      "{'verbatim_citations': ['LEY DE DEFENSA CONSUMIDOR']}\n",
      "{'verbatim_citations': []}\n",
      "{'verbatim_citations': ['ley 24240 (en adelante LDC)', 'art. 1112 CCC', 'MANFRONI KERGARAVAT CLAUDIO FABIAN C/ PLAN ROMBO Y/U OTRO S/ SUMARISIMO (CIVIL) (LEY DE DEFENSA CONSUMIDOR) - Expte. Nº 8977', 'arts. 161, 257, 258, 263, 264, 267, 342, 344, 376 ss. y cc. del CPCC', 'arts. 1, 2, 3, 269, 313, 314, 1073, 1074, 1092/1095, 1104, 1105, 1110, 1111, 1113 ss. y cc. del CCC', 'arts. 1,/3, 8 bis, 10 ter, 32/34, 40 ss. y cc. de la LDC', '17, 18, 33, 42 y 75 inc. 22 de la CN', '8.2, 25 de la CADH', '14 del PICDCP', 'art. 40 LDC', 'art. 263 del CCC', 'art. 342 del CPCC', 'arts. 3, 4 de la LDC', 'art. 1073 CCC', 'art. 1074 CCC', 'arts. 3, 64 y 94 de la ley 7046 modif. por ley 11.141']}\n",
      "{'verbatim_citations': ['art. 33 de la LOPJ', 'ley 10.704']}\n",
      "{'verbatim_citations': []}\n"
     ]
    },
    {
     "name": "stderr",
     "output_type": "stream",
     "text": [
      "Procesando con LLM:  92%|█████████▏| 272/296 [36:49<03:44,  9.35s/it]"
     ]
    },
    {
     "name": "stdout",
     "output_type": "stream",
     "text": [
      "{'verbatim_citations': ['art. 65 del CPCC', 'arts. 3, 64 y 94 de la ley 7046 modif. por ley 11.141', 'conforme arts. 1º y 4º Ac. Gral. 15/18 SNE', 'Acuerdo Gral. 11/20 del 23-6-2020']}\n",
      "{'verbatim_citations': []}\n",
      "{'verbatim_citations': []}\n",
      "{'verbatim_citations': ['art 4023 del Código Civil', 'art. 2560', 'art. 2537 CCC', 'art. 285 del CPCC', 'art. 75, inc. 12º, de la Constitución Nacional', 'art. 2532 del CCC', 'art. 2, CCC', 'arts. 65, párrafo segundo, y 66, CPCC', 'art. 71 de la ley 7046', 'arts. 3, 63, 64, 71 y 94 de la ley 7046']}\n",
      "{'verbatim_citations': ['artículo 77 de la Constitución Provincial', 'art. 121 de la Constitución Nacional', 'arts. 1º y 4º Ac. Gral. 15/18 SNE', 'arts. 3, 29, 30, 63, 64, 70 y 94 de la ley 7046', 'art. 163 del Código Civil', 'art. 280 del CPCC', 'ley 9428 (BO 27/09/02)', 'ley 8732', 'art. 12 , inc. c) de la ley 8732', 'art. 23 de la presente ley', 'artículo 77 del Código Fiscal de Entre Ríos']}\n",
      "{'verbatim_citations': ['ley 14.236', 'art. 21 de la ley 14.236', 'CPCC', 'art. 86', 'art. 75 de la Constitución Nacional', 'art. 31 de la Constitución Nacional', 'art. 75, inc. 12 de la CN', 'fallos: 176:115', 'fallos: 284:319', 'fallos: 326:3899', 'arts. 2532 y 2560 del CCC', 'art. 2532', 'art. 2560', 'CAJA DE PREVISION SOCIAL PARA PROFESIONALES DE LA INGENIERIA DE ENTRE RIOS C/ TULIAN ROBERTO ARMANDO S/ MONITORIO APREMIO - Expte. Nº 8983', 'CAJA DE PREVISION SOCIAL PARA PROFESIONALES DE LA INGENIERIA DE ENTRE RIOS C/ TULIAN ROBERTO ARMANDO S/ MONITORIO APREMIO - Expte. Nº 8983', 'CAJA DE PREVISION SOCIAL PARA PROFESIONALES DE LA INGENIERIA DE ENTRE RIOS C/ TULIAN ROBERTO ARMANDO S/ MONITORIO APREMIO - Expte. Nº 8983', 'CAJA DE PREVISION SOCIAL PARA PROFESIONALES DE LA INGENIERIA DE ENTRE RIOS C/ TULIAN ROBERTO ARMANDO S/ MONITORIO APREMIO - Expte. Nº 8983', 'First Data Cono Sur S.R.L., Fallos: 346:217']}\n",
      "{'verbatim_citations': ['art. 25 de la ley 7046', 'art. 3, ley 7046']}\n",
      "{'verbatim_citations': []}\n"
     ]
    },
    {
     "name": "stderr",
     "output_type": "stream",
     "text": [
      "Procesando con LLM:  92%|█████████▏| 273/296 [37:03<04:10, 10.91s/it]"
     ]
    },
    {
     "name": "stdout",
     "output_type": "stream",
     "text": [
      "{'verbatim_citations': ['art. 65, párrafo segundo y 66 del CPCC', 'conforme arts. 1º y 4º Ac. Gral. 15/18 SNE', 'Acuerdo Gral. 11/20 del 23-6-2020, Punto 4°', 'ley 7046', 'Art. 28', 'artículo 114', 'Art. 29 de esta ley']}\n",
      "{'verbatim_citations': []}\n",
      "{'verbatim_citations': []}\n",
      "{'verbatim_citations': ['artículos 1251, 1252 y siguientes del Código Civil y Comercial', 'artículos 774 y 1251 del Código Civil y Comercial', 'artículos 1716, 1717, 1721, 1724 y 1725 del mismo cuerpo normativo', 'Ley Provincial de Antenas Nº 10383', 'artículos 31, inciso 4, 160, incisos 5 y 6, y 372 del Código Procesal Civil y Comercial', 'artículo 7 del Anexo 1 de la Ley Provincial de Antenas', 'artículo 280, segundo párrafo, del Código Procesal Civil y Comercial', 'artículo 65 del Código Procesal Civil y Comercial', 'artículo 103, inciso a, del Código Civil y Comercial']}\n",
      "{'verbatim_citations': ['arts. 176 y 280, CPCC', 'art. 269 del CPCC', 'art. 1719', 'art. 284 del CPCC', 'arts. 65 y 66, CPCC']}\n",
      "{'verbatim_citations': ['art. 1758 CCC', 'art. 1724 CCC', 'art. 1757 CCC', 'art. 1728 del CCC', 'arts. 1719 y 1729 del CCC']}\n",
      "{'verbatim_citations': ['arts. 3, 64 y 94 de la ley 7.046 modif. por ley 11.141']}\n",
      "{'verbatim_citations': []}\n",
      "{'verbatim_citations': []}\n",
      "{'verbatim_citations': []}\n"
     ]
    },
    {
     "name": "stderr",
     "output_type": "stream",
     "text": [
      "Procesando con LLM:  93%|█████████▎| 274/296 [37:17<04:21, 11.88s/it]"
     ]
    },
    {
     "name": "stdout",
     "output_type": "stream",
     "text": [
      "{'verbatim_citations': ['art. 65 y 66 del CPCC', 'arts. 3, 64 y 94 de la ley 7046 modif. por ley 11.141', 'conforme arts. 1º y 4º Ac. Gral. 15/18 SNE', 'Acuerdo Gral. 11/20 del 23-6-2020, Punto 4°)']}\n",
      "{'verbatim_citations': []}\n",
      "{'verbatim_citations': []}\n",
      "{'verbatim_citations': ['artículo 298 del Código Procesal Civil y Comercial', 'artículo 65, segundo párrafo del Código Procesal Civil y Comercial', 'artículos 276 y 277 del Código Procesal Civil y Comercial', 'artículos 276, 280 y 281 del Código Procesal Civil y Comercial', 'arts. 3, 64 y 94 de la ley 7046 modif. por ley 11.141', 'causa \"Abasto c/ Estado Provincial s/ ordinario\"', 'Nº 7758, del 2/10/2021', '\"FAURE NESTOR BERNARDO C/ PERAGALLO WALDEMAR EMILIO S/ MONITORIO (EJECUTIVO)\" - Expte. Nº 9018', '\"FAURE NESTOR BERNARDO C/ PERAGALLO WALDEMAR EMILIO S/ MONITORIO (EJECUTIVO)\" - Expte. Nº 9018']}\n",
      "{'verbatim_citations': ['art. 33 de la LOPJ, texto según ley 10.704']}\n",
      "{'verbatim_citations': []}\n"
     ]
    },
    {
     "name": "stderr",
     "output_type": "stream",
     "text": [
      "Procesando con LLM:  93%|█████████▎| 275/296 [37:27<03:51, 11.05s/it]"
     ]
    },
    {
     "name": "stdout",
     "output_type": "stream",
     "text": [
      "{'verbatim_citations': ['art. 65, segundo párrafo, del CPCC', 'arts. 3, 64 y 94 de la ley 7046 modif. por ley 11.141', 'conforme arts. 1º y 4º Ac. Gral. 15/18 SNE', 'Acuerdo Gral. 11/20 del 23-6-2020, Punto 4°']}\n",
      "{'verbatim_citations': []}\n",
      "{'verbatim_citations': []}\n",
      "{'verbatim_citations': ['art. 530 inc. 4º del CPCC', 'art. 530, inc. 4º, del CPCC', 'art. 101 del dec-ley 5965/63', 'arts. 18 del dec-ley 5965/63', 'art. 1821 del CCC', 'art. 276 del CPCC', 'arts. 65 y 544 del CPCC', 'arts. 3, 64, 71 y 94 de la ley 7046 modif. por ley 11.141', 'CSJN, Fallos: 305:226, “Burman, Leonardo c/ Alvarez, Joaquin”, 08-3-1983', 'cfr. \"Municipalidad de Paraná c/ Reula, Emilio Ramón s/ Apremio\", sentencia del 3/8/2005', 'cfr. Superior Tribunal de Justricia de Entre Ríos, Sala Civil y Comercial, autos \"Municipalidad de Colón c/ José Cartellone Construcciones Civiles S.A. s/ Apremio, Expte. Nº 6466, sentencia del 12/03/2013, \"Municipalidad de San José de Gualeguaychú c/ Pepsico de Argentina SRL s/ Apremio\" Expte. Nº 8359, sentencia del 4/5/2021 y \"Municipalidad de Villa Paranacito c/ AMX Argentina S.A. s/ Apremio\" - Expte. Nº 8533, sentencia del 30/5/22)', '\"VALDEZ STELLA CLAUDIA C/ ROZANDAL MARIA GISELA Y OTRO S/ EJECUTIVO\" - Expte. Nº 9076', 'Banco Mesoptotámico Cooperativo Limitado c/ Eichemberger, GH., 23/04/1990', 'Kachizky Vallenari Diego L. A. y otros c/ Delfino Dulio A. y otros , 13/8/1997', 'Galvan Roberto Jose c/ Sauthier de Todoni, Moesta y ot., 18/12/2000', 'CSJN Fallos 308:1230; 311:1724;', '\"VALDEZ STELLA CLAUDIA C/ ROZANDAL MARIA GISELA Y OTRO S/ EJECUTIVO\" - Expte. Nº 9076']}\n",
      "{'verbatim_citations': []}\n",
      "{'verbatim_citations': ['art. 33 de la LOPJ', 'ley 10.704']}\n",
      "{'verbatim_citations': []}\n"
     ]
    },
    {
     "name": "stderr",
     "output_type": "stream",
     "text": [
      "Procesando con LLM:  93%|█████████▎| 276/296 [37:38<03:46, 11.31s/it]"
     ]
    },
    {
     "name": "stdout",
     "output_type": "stream",
     "text": [
      "{'verbatim_citations': ['art. 65 y 544 del CPCC', 'arts. 3, 64 y 94 de la ley 7046 modif. por ley 11.141', 'conforme arts. 1º y 4º Ac. Gral. 15/18 SNE', 'Acuerdo Gral. 11/20 del 23-6-2020, Punto 4°)']}\n",
      "{'verbatim_citations': []}\n",
      "{'verbatim_citations': []}\n",
      "{'verbatim_citations': ['artículo 2383 del Código Civil y Comercial', 'artículo 2383 del Código Civil y Comercial', 'artículo 3573 bis del Código Civil', 'artículos 276, 280 y 281 del Código Procesal Civil y Comercial', 'artículo 280, segundo párrafo, del Código Procesal Civil y Comercial', 'artículo 65 del Código Procesal Civil y Comercial', 'arts. 3, 64 y 94 de la ley 7046 modif. por ley 11.141']}\n",
      "{'verbatim_citations': ['art. 33 de la LOPJ', 'ley 10.704']}\n",
      "{'verbatim_citations': []}\n"
     ]
    },
    {
     "name": "stderr",
     "output_type": "stream",
     "text": [
      "Procesando con LLM:  94%|█████████▎| 277/296 [37:47<03:19, 10.49s/it]"
     ]
    },
    {
     "name": "stdout",
     "output_type": "stream",
     "text": [
      "{'verbatim_citations': ['art. 65 del CPCC', 'arts. 3, 64 y 94 de la ley 7046 modif. por ley 11.141', 'conforme arts. 1º y 4º Ac. Gral. 15/18 SNE', 'Acuerdo Gral. 11/20 del 23-6-2020']}\n",
      "{'verbatim_citations': []}\n",
      "{'verbatim_citations': []}\n",
      "{'verbatim_citations': ['arts. 3341, 3606, 3766 y 3767 del Código Civil', 'arts. 17 y 18 de la \"MARTINEZ JUAN CARLOS C/ SUCESORES Y HEREDEROS DE JUAN LUIS SECCHI Y OTROS S/ ORDINARIO ACCION DE PETICION DE HERENCIA\" - Expte. Nº 9084 Constitución Nacional-', 'art. 3767 del Código Civil', 'art. 3341 del Código Civil', 'art. 3606 del mismo cuerpo legal', 'arts. 3766 y 3804 del Código Civil (derogado pero aplicable en autos)', 'arts. 14, 17, 19 y 33', 'arts. 3412 y 3766, CC - arts. 2338 y 2496, CCC', 'arts. 65 y 66, CPCC', 'arts. 1, 2, 3, 30, 64, 94 y concs., Decr.- Ley 7046']}\n",
      "{'verbatim_citations': ['art. 33 de la LOPJ, texto según ley 10.704', 'MARTINEZ JUAN CARLOS C/ SUCESORES Y HEREDEROS DE JUAN LUIS SECCHI Y OTROS S/ ORDINARIO ACCION DE PETICION DE HERENCIA - Expte. Nº 9084', 'LONDERO CESAR FABIAN C/ LONDERO SERGIO RUBEN Y OTROS S/ ORDINARIO ACCIÓN DE COLACIÓN - Expte. Nº 8820']}\n",
      "{'verbatim_citations': []}\n"
     ]
    },
    {
     "name": "stderr",
     "output_type": "stream",
     "text": [
      "Procesando con LLM:  94%|█████████▍| 278/296 [37:58<03:12, 10.69s/it]"
     ]
    },
    {
     "name": "stdout",
     "output_type": "stream",
     "text": [
      "{'verbatim_citations': ['art. 65 y 66 del CPCC', 'arts. 3, 64 y 94 de la ley 7046 modif. por ley 11.141', 'conforme arts. 1º y 4º Ac. Gral. 15/18 SNE', 'Art. 28', 'Art. 114', 'art. 29 de esta ley']}\n",
      "{'verbatim_citations': []}\n",
      "{'verbatim_citations': []}\n",
      "{'verbatim_citations': ['art. 1642 del CCC', 'arts. 387 y 388 del CCC', 'art. 948 del CCC', 'arts. 277, 280 y concs. del CPCC', 'art. 65, CPCC', 'arts. 3, 64 y 94 de la ley 7046 modif. por ley 11.141', 'BARBIERO ELEONORA VIRGINIA C/ LOPEZ HECTOR EDUARDO S/ ORDINARIO (FAMILIA) (LIQUIDACIÓN DE LA COMUNIDAD CONYUGAL) - Expte. Nº 9094']}\n",
      "{'verbatim_citations': ['art. 33 \"BARBIERO ELEONORA VIRGINIA C/ LOPEZ HECTOR EDUARDO S/ ORDINARIO (FAMILIA) (LIQUIDACIÓN DE LA COMUNIDAD CONYUGAL)\" - Expte. Nº 9094 de la LOPJ, texto según ley 10.704']}\n",
      "{'verbatim_citations': []}\n"
     ]
    },
    {
     "name": "stderr",
     "output_type": "stream",
     "text": [
      "Procesando con LLM:  94%|█████████▍| 279/296 [38:08<02:59, 10.54s/it]"
     ]
    },
    {
     "name": "stdout",
     "output_type": "stream",
     "text": [
      "{'verbatim_citations': ['art. 65 del CPCC', 'arts. 3, 64 y 94 de la ley 7046 modif. por ley 11.141', 'conforme arts. 1º y 4º Ac. Gral. 15/18 SNE', 'Acuerdo Gral. 11/20 del 23-6-2020, Punto 4°)']}\n",
      "{'verbatim_citations': []}\n",
      "{'verbatim_citations': []}\n",
      "{'verbatim_citations': ['sentencia dictada en fecha 26/08/2024', 'resolución dictada el 3 de octubre de 2024', 'intervención quirúrgica (cateterismo) realizada el 14/11 del corriente', 'informe circunstanciado de las medidas adoptadas sobre el grupo familiar en esta instancia', 'juzgado de primera instancia de la ciudad de Rosario de Tala', 'resolución del 3 de octubre de 2024']}\n"
     ]
    },
    {
     "name": "stderr",
     "output_type": "stream",
     "text": [
      "Procesando con LLM:  95%|█████████▍| 280/296 [38:14<02:24,  9.05s/it]"
     ]
    },
    {
     "name": "stdout",
     "output_type": "stream",
     "text": [
      "{'verbatim_citations': ['conforme arts. 1º y 4º Ac. Gral. 15/18 SNE', 'Acuerdo Gral. 11/20 del 23-6-2020']}\n",
      "{'verbatim_citations': ['art. 288 L.C.Q.']}\n",
      "{'verbatim_citations': ['art. 288 L.C.Q.']}\n",
      "{'verbatim_citations': ['art. 288 de LCQ', 'arts. 8 y 25 de la Corte Interamericana de Derechos Humanos', 'arts. 14 bis., 15, 17 y 18 de la Constitución Nacional', '2, 3, 4, 8, 2537, 2562, 2563, 2566 y 2567 del CCC', 'Ley 27499', 'Ley 26485', 'art. 273 de LCQ', 'art. 273, inciso 3, de la LCQ', 'art. 280', 'art. 65, párrafo segundo, CPCC', 'art. 288 LCQ S/QUIEBRA S/Incidente de Nulidad', 'art. 288 LCQ S/QUIEBRA S/Incidente de Liquidación de Bienes']}\n",
      "{'verbatim_citations': ['art. 33 de la LOPJ', 'ley 10.704']}\n",
      "{'verbatim_citations': []}\n"
     ]
    },
    {
     "name": "stderr",
     "output_type": "stream",
     "text": [
      "Procesando con LLM:  95%|█████████▍| 281/296 [38:24<02:22,  9.50s/it]"
     ]
    },
    {
     "name": "stdout",
     "output_type": "stream",
     "text": [
      "{'verbatim_citations': ['arts. 1º y 4º Ac. Gral. 15/18 SNE', 'art. 288 L.C.Q.', 'Acuerdo Gral. 11/20 del 23-6-2020']}\n",
      "{'verbatim_citations': []}\n",
      "{'verbatim_citations': []}\n",
      "{'verbatim_citations': ['artículo 280, tercer párrafo, del Código Procesal Civil y Comercial', 'artículos 112 y 113 de la ley arancelaria local', 'art. 281 del CPCC', 'art. 280 del CPCC', 'art. 113 de la ley arancelaria', 'art. 65 de la Constitución Provincial', 'art. 31 inciso 4 del CPCC', 'art. 14 inc. 7 del CPCC', 'art. 18 del CPCC']}\n"
     ]
    },
    {
     "name": "stderr",
     "output_type": "stream",
     "text": [
      "Procesando con LLM:  95%|█████████▌| 282/296 [38:32<02:03,  8.80s/it]"
     ]
    },
    {
     "name": "stdout",
     "output_type": "stream",
     "text": [
      "{'verbatim_citations': ['arts. 1º y 4º Ac. Gral. 15/18 SNE', 'Acuerdo Gral. 11/20 del 23-6-2020']}\n",
      "{'verbatim_citations': []}\n",
      "{'verbatim_citations': []}\n",
      "{'verbatim_citations': ['artículo 21 de la norma arancelaria', 'Ley 8801', 'artículo 1255 CCC', 'artículo 4, inc. a', 'artículo 1641 del CCC', 'artículo 33, inc. d, CPCC', 'inciso 8 del artículo 160 del CPCC', 'artículo 42', 'artículo 31, inciso 6', 'artículo 9, CCC', 'arts. 1021 y 1022, CCC', 'art. 12, CCC', 'arts. 28 y 31, Const. nacional', 'artículo 280 del CPCC']}\n",
      "{'verbatim_citations': ['art. 33 de la LOPJ', 'ley 10.704']}\n",
      "{'verbatim_citations': []}\n"
     ]
    },
    {
     "name": "stderr",
     "output_type": "stream",
     "text": [
      "Procesando con LLM:  96%|█████████▌| 283/296 [38:40<01:52,  8.65s/it]"
     ]
    },
    {
     "name": "stdout",
     "output_type": "stream",
     "text": [
      "{'verbatim_citations': ['arts. 1º y 4º Ac. Gral. 15/18 SNE', 'Acuerdo Gral. 11/20 del 23-6-2020']}\n",
      "{'verbatim_citations': []}\n",
      "{'verbatim_citations': []}\n",
      "{'verbatim_citations': ['artículo 305 de la Ley Procesal de Familia (LPF)', 'artículo 298, párrafo final, de la LPF', 'artículo 153 del Código Procesal Civil y Comercial -CPCC-', 'artículo 294 de la LPF', 'artículo 314 LPF', 'artículo 287 LPF', 'artículos 276, 280 y 281 del Código Procesal Civil y Comercial', 'artículo 280, segundo párrafo, del código procesal civil y comercial']}\n",
      "{'verbatim_citations': ['art. 33 de la LOPJ, texto según ley 10.704']}\n",
      "{'verbatim_citations': ['arts. 3, 64 y 94 de la ley 7.046 modif. por ley 11.141']}\n",
      "{'verbatim_citations': []}\n"
     ]
    },
    {
     "name": "stderr",
     "output_type": "stream",
     "text": [
      "Procesando con LLM:  96%|█████████▌| 284/296 [38:50<01:48,  9.00s/it]"
     ]
    },
    {
     "name": "stdout",
     "output_type": "stream",
     "text": [
      "{'verbatim_citations': ['art. 65 del CPCC', 'arts. 3, 64 y 94 de la ley 7.046 modif. por ley 11.141', 'conforme arts. 1º y 4º Ac. Gral. 15/18 SNE', 'Acuerdo Gral. 11/20 del 23-6-2020, Punto 4°']}\n",
      "{'verbatim_citations': []}\n",
      "{'verbatim_citations': []}\n",
      "{'verbatim_citations': ['art. 205, inc 2. c) de la CP', 'art. 4 del Decreto 4285/06', 'artículo 277 del CPCC', 'arts. 65 y 66, CPCC']}\n",
      "{'verbatim_citations': ['art. 12 del CPCC', 'art. 173 del CPCC', 'art. 4 del CPCC', 'art. 239 del CPCC', 'inc. 1, del art. 8 y art. 25 de la Convención Americana sobre Derechos Humanos', 'art. 75 inc. 22 de la Carta Magna', 'art. 65 del CPCC', 'causa \"Rodríguez\"', '\"Rodríguez Juan Ramón y otros c/ Superior Gobierno de la provincia de Entre Ríos y otro s/ acción de inconstitucionalidad s/ recurso de queja s/ competencia\", Expte. Nº 4051, sent. del 9/2/2023']}\n",
      "{'verbatim_citations': []}\n",
      "{'verbatim_citations': ['arts. 3, 64 y 94 de la ley 7.046 modif. por ley 11.141']}\n",
      "{'verbatim_citations': []}\n",
      "{'verbatim_citations': []}\n"
     ]
    },
    {
     "name": "stderr",
     "output_type": "stream",
     "text": [
      "Procesando con LLM:  96%|█████████▋| 285/296 [39:02<01:48,  9.87s/it]"
     ]
    },
    {
     "name": "stdout",
     "output_type": "stream",
     "text": [
      "{'verbatim_citations': ['art. 65 del CPCC', 'arts. 3, 64 y 94 de la ley 7046 modif. por ley 11.141', 'conforme arts. 1º y 4º Ac. Gral. 15/18 SNE', 'Acuerdo Gral. 11/20 del 23-6-2020, Punto 4°']}\n",
      "{'verbatim_citations': []}\n",
      "{'verbatim_citations': []}\n",
      "{'verbatim_citations': ['art. 53 de la LDC', 'art. 53 LDC', 'art. 280, segundo párrafo del CPCC', 'cfr. \"Galante Fernando Luis Roberto c/ Superior Gobierno de la Provincia de Entre Ríos s/ Sumario\" Expte. Nº 6185, sentencia del 17/12/2011', '\"Martínez María Andrea c/ Ascar Héctor Alfredo- Ordinario- Incidente s/ Recurso de Queja (Interpuesto por el Dr. Ángel Santiago Sap por Rosa A. Ahibe) Expte. Nº 6522, sentencia del 14/11/2013', '\"Sosa Paulina Graciela c/ Superior Gobierno de la Provincia de Entre Ríos s/ Ordinario- Acción de Nulidad\" Expte. Nº 7954, sentencia del 12/9/2019', 'art. 53 de la ley 24.240', 'arts. 3, 64 y 94 de la ley .7046 modif. por ley 11.141']}\n",
      "{'verbatim_citations': []}\n",
      "{'verbatim_citations': ['art. 33 de la LOPJ', 'ley 10.704']}\n",
      "{'verbatim_citations': []}\n"
     ]
    },
    {
     "name": "stderr",
     "output_type": "stream",
     "text": [
      "Procesando con LLM:  97%|█████████▋| 286/296 [39:13<01:43, 10.36s/it]"
     ]
    },
    {
     "name": "stdout",
     "output_type": "stream",
     "text": [
      "{'verbatim_citations': ['arts. 3, 64 y 94 de la ley 7.046 modif. por ley 11.141', 'conforme arts. 1º y 4º Ac. Gral. 15/18 SNE', 'Acuerdo Gral. 11/20 del 23-6-2020, Punto 4°)']}\n",
      "{'verbatim_citations': []}\n",
      "{'verbatim_citations': []}\n",
      "{'verbatim_citations': ['art. 269, CPCC', 'art. 53 de la ley de Defensa al Consumidor', 'art. 11 CCC', 'art. 40 LDC', 'art. 8 de la Ley 24.240', 'arts. 65 y 66, CPCC', 'arts. 1, 2, 3, 30, 64, 94 y ccs. de la ley 7.046', 'art. 13 de la ley 7046']}\n",
      "{'verbatim_citations': ['artículo 280, segundo párrafo, del Código Procesal Civil y Comercial', 'artículo 40 de la Ley de Defensa del Consumidor', 'artículo 65 del código procesal civil y comercial']}\n",
      "{'verbatim_citations': []}\n",
      "{'verbatim_citations': []}\n",
      "{'verbatim_citations': []}\n",
      "{'verbatim_citations': []}\n"
     ]
    },
    {
     "name": "stderr",
     "output_type": "stream",
     "text": [
      "Procesando con LLM:  97%|█████████▋| 287/296 [39:24<01:33, 10.42s/it]"
     ]
    },
    {
     "name": "stdout",
     "output_type": "stream",
     "text": [
      "{'verbatim_citations': ['art. 65 y 66 del CPCC', 'arts. 1, 2, 3, 30, 64, 94 y ccs. de la ley 7046', 'art. 13 de la ley 7046', 'conforme arts. 1º y 4º Ac. Gral. 15/18 SNE', 'Acuerdo Gral. 11/20 del 23-6-2020']}\n",
      "{'verbatim_citations': []}\n",
      "{'verbatim_citations': []}\n",
      "{'verbatim_citations': ['artículo 901 del derogado Código Civil -actual artículo 1726 del CCC-', 'art. 1615 del Cód. Civil (art. 7, CCC)', 'art. 1615 Cód. Civil -doctrina del actual art. 1210 del CCC-', 'arts. 65 y 66, CPCC', 'arts. 1, 2, 3, 30, 64, 94 y concs., Ley 7046', 'TORTUL ANIBAL AMERICO C/ NEWTRONIC S.A. Y OTRO S/ ORDINARIO DAÑOS Y PERJUICIOS - Expte. Nº 9162']}\n",
      "{'verbatim_citations': ['art. 33 de la LOPJ, texto según ley 10.704']}\n",
      "{'verbatim_citations': []}\n"
     ]
    },
    {
     "name": "stderr",
     "output_type": "stream",
     "text": [
      "Procesando con LLM:  97%|█████████▋| 288/296 [39:31<01:17,  9.63s/it]"
     ]
    },
    {
     "name": "stdout",
     "output_type": "stream",
     "text": [
      "{'verbatim_citations': ['art. 65 y 66 del CPCC', 'arts. 1, 2, 3, 30, 64, 94 y concs., Ley 7046', 'conforme arts. 1º y 4º Ac. Gral. 15/18 SNE', 'Acuerdo Gral. 11/20 del 23-6-2020, Punto 4°', 'art. 28', 'art. 114', 'Art. 29 de esta ley']}\n",
      "{'verbatim_citations': ['ART. 247 CPCC']}\n",
      "{'verbatim_citations': ['art. 247 CPCC', 'art. 14 inc. 7 del CPCC', 'art. 33 de la LOPJ', 'ley 10.704']}\n"
     ]
    },
    {
     "name": "stderr",
     "output_type": "stream",
     "text": [
      "Procesando con LLM:  98%|█████████▊| 289/296 [39:36<00:55,  7.97s/it]"
     ]
    },
    {
     "name": "stdout",
     "output_type": "stream",
     "text": [
      "{'verbatim_citations': ['art. 33, LOPJ', 'arts. 1 y 4 Acordada 15/18 SNE', 'Acuerdo Gral. 11/20 del 23-6-2020, Punto 4°']}\n",
      "{'verbatim_citations': []}\n",
      "{'verbatim_citations': []}\n",
      "{'verbatim_citations': ['artículo 528 del Código Civil y Comercial (en adelante CCC)', 'artículo 526 del Código Civil y Comercial', 'artículos 276, 280 y 281 del Código Procesal Civil y Comercial', 'arts. 3, 64 y 94 de la ley 7046 modif. por ley 11.141', 'FOLGUERA CECILIA C/ JAIME CRISTIAN HERNAN S/ ORDINARIO (FAMILIA) - Expte. Nº 9173']}\n",
      "{'verbatim_citations': ['art. 33 de la LOPJ', 'ley 10.704']}\n",
      "{'verbatim_citations': []}\n"
     ]
    },
    {
     "name": "stderr",
     "output_type": "stream",
     "text": [
      "Procesando con LLM:  98%|█████████▊| 290/296 [39:45<00:50,  8.40s/it]"
     ]
    },
    {
     "name": "stdout",
     "output_type": "stream",
     "text": [
      "{'verbatim_citations': ['art. 65 del CPCC', 'arts. 3, 64 y 94 de la ley 7046 modif. por ley 11.141', 'conforme arts. 1º y 4º Ac. Gral. 15/18 SNE', 'Acuerdo Gral. 11/20 del 23-6-2020', 'Art. 28', 'Art. 114', 'Art. 29 de esta ley']}\n",
      "{'verbatim_citations': []}\n",
      "{'verbatim_citations': []}\n",
      "{'verbatim_citations': ['arts. 3, 12, 14 y 64 de la ley 7.046', 'arts. 65, Const. Prov. y 5 de la ley 7.046', 'art. 64 de la LA', 'art. 134']}\n",
      "{'verbatim_citations': ['art. 33 de la LOPJ', 'ley 10.704']}\n",
      "{'verbatim_citations': []}\n"
     ]
    },
    {
     "name": "stderr",
     "output_type": "stream",
     "text": [
      "Procesando con LLM:  98%|█████████▊| 291/296 [39:53<00:41,  8.22s/it]"
     ]
    },
    {
     "name": "stdout",
     "output_type": "stream",
     "text": [
      "{'verbatim_citations': ['arts. 1º y 4º Ac. Gral. 15/18 SNE', 'Acuerdo Gral. 11/20 del 23-6-2020']}\n",
      "{'verbatim_citations': []}\n",
      "{'verbatim_citations': []}\n",
      "{'verbatim_citations': ['ley 7046', 'artículo 50 de la ley arancelaria', 'artículo 58 de la ley 7046', 'arts. 27 y 67 de la ley 7046', 'arts. 30, 50 y 58 ley 7046', 'art. 58 quinto párrafo', 'art. 67 de la ley 7046', 'art. 50 de la ley 7046', 'art. 58 quinto párrafo de la ley 7046', 'artículo 112 y 113 de la ley 7046', 'artículo 280, segundo párrafo, del Código Procesal Civil y Comercial (aplicable por remisión del artículo 113 de la ley 7046)', 'Hergenreder Maria Lorena C/ Wiggnhauser Fernando Daniel S/ VIOLENCIA DE GENERO - Expte. Nº 9180']}\n",
      "{'verbatim_citations': ['art. 33 de la LOPJ', 'ley 10.704']}\n",
      "{'verbatim_citations': []}\n"
     ]
    },
    {
     "name": "stderr",
     "output_type": "stream",
     "text": [
      "Procesando con LLM:  99%|█████████▊| 292/296 [40:01<00:33,  8.33s/it]"
     ]
    },
    {
     "name": "stdout",
     "output_type": "stream",
     "text": [
      "{'verbatim_citations': ['arts. 1º y 4º Ac. Gral. 15/18 SNE', 'Acuerdo Gral. 11/20 del 23-6-2020']}\n",
      "{'verbatim_citations': []}\n",
      "{'verbatim_citations': []}\n",
      "{'verbatim_citations': ['art. 112 de la ley 7046', 'art. 63 de la ley 7046', 'art. 58 de la ley 7046', 'arts. 58 y 63 ley 7046', 'artículo 63 por sobre el artículo 58 de la ley 7046', 'art. 58 de la Ley 7046', 'art. 280 del Código Procesal Civil y Comercial', 'artículo 113 de le ley 7046', 'BERCETCHE, Juan C/ MALVASIO, Osvaldo Agustín y Otros S/ USUCAPION - Expte. Nº 9190', 'Rebeque (5) Walter Gastón c/ Instituto de Obra Social de la Provincia de Entre Ríos s/Acción de Amparo\" Expte. N° 26743', 'arts. 1º y 4º Ac. Gral. 15/18 SNE']}\n",
      "{'verbatim_citations': ['art. 33 de la LOPJ', 'ley 10.704']}\n",
      "{'verbatim_citations': []}\n"
     ]
    },
    {
     "name": "stderr",
     "output_type": "stream",
     "text": [
      "Procesando con LLM:  99%|█████████▉| 293/296 [40:10<00:25,  8.44s/it]"
     ]
    },
    {
     "name": "stdout",
     "output_type": "stream",
     "text": [
      "{'verbatim_citations': ['arts. 1º y 4º Ac. Gral. 15/18 SNE', 'Acuerdo Gral. 11/20 del 23-6-2020']}\n",
      "{'verbatim_citations': []}\n",
      "{'verbatim_citations': []}\n",
      "{'verbatim_citations': ['art. 33 de la LOPJ', 'ley 10.704']}\n"
     ]
    },
    {
     "name": "stderr",
     "output_type": "stream",
     "text": [
      "Procesando con LLM:  99%|█████████▉| 294/296 [40:14<00:14,  7.22s/it]"
     ]
    },
    {
     "name": "stdout",
     "output_type": "stream",
     "text": [
      "{'verbatim_citations': ['arts. 1º y 4º Ac. Gral. 15/18 SNE', 'Acuerdo Gral. 11/20 del 23-6-2020, Punto 4°']}\n",
      "{'verbatim_citations': []}\n",
      "{'verbatim_citations': []}\n",
      "{'verbatim_citations': ['art. 267 de la LCQ', 'arts. 16 y 18 de la C.N.', 'art. 280, segundo párrafo, del CPCC', 'art. 31 inc. 4 del CPCC', 'art. 271 de la ley 24.522', 'art. 267 de la LCQ']}\n"
     ]
    },
    {
     "name": "stderr",
     "output_type": "stream",
     "text": [
      "Procesando con LLM: 100%|█████████▉| 295/296 [40:19<00:06,  6.36s/it]"
     ]
    },
    {
     "name": "stdout",
     "output_type": "stream",
     "text": [
      "{'verbatim_citations': ['conforme arts. 1 y 4 Ac. Gral 15/18 SNE', 'Acuerdo Gral. 11/20 del 23-6-2020']}\n",
      "{'verbatim_citations': []}\n",
      "{'verbatim_citations': []}\n",
      "{'verbatim_citations': ['art. 277 del CPCC', 'art. 280 CPCC', 'arts. 286 y 286 bis del CPCC', 'arts. 22 y 23 de la Ley Nº 10.668', 'art. 33 de la LOPJ', 'texto según ley 10.704']}\n"
     ]
    },
    {
     "name": "stderr",
     "output_type": "stream",
     "text": [
      "Procesando con LLM: 100%|██████████| 296/296 [40:25<00:00,  8.19s/it]"
     ]
    },
    {
     "name": "stdout",
     "output_type": "stream",
     "text": [
      "{'verbatim_citations': ['conforme arts. 1º y 4º Ac. Gral. 15/18 SNE', 'Acuerdo Gral. 11/20 del 23-6-2020']}\n",
      "✅ Extracción con LLM completada. Archivos guardados en: /Users/brunocr/Documents/UDESA/NLP/TP_NLP/datasets/articulos_extraidos_llm\n"
     ]
    },
    {
     "name": "stderr",
     "output_type": "stream",
     "text": [
      "\n"
     ]
    }
   ],
   "source": [
    "\n",
    "# Define paths\n",
    "PATH_GLOBAL = os.getcwd()\n",
    "PATH = os.path.join(PATH_GLOBAL, \"datasets\")\n",
    "PATH_JSON = Path(os.path.join(PATH, \"fallos_json\"))\n",
    "PATH_ARTICULOS_LLM = Path(os.path.join(PATH, \"articulos_extraidos_llm\"))\n",
    "\n",
    "\n",
    "# Execute LLM extraction\n",
    "extract_citations_with_llm_batch(PATH_JSON, PATH_ARTICULOS_LLM)"
   ]
  },
  {
   "cell_type": "code",
   "execution_count": 38,
   "id": "cbe9762a",
   "metadata": {},
   "outputs": [],
   "source": [
    "from enum import Enum\n",
    "from typing import List, Optional\n",
    "from pydantic import BaseModel, Field\n",
    "\n",
    "class LegalSource(str, Enum):\n",
    "    \"\"\"Standardized legal sources for Entre Ríos judicial system\"\"\"\n",
    "    \n",
    "    # CÓDIGOS PRINCIPALES\n",
    "    CCC = \"Código Civil y Comercial (CCC)\"\n",
    "    CPCC = \"Código Procesal Civil y Comercial (CPCC)\"\n",
    "    CPCCER = \"Código Procesal Civil y Comercial de Entre Ríos (CPCCER)\"\n",
    "    CPP = \"Código Procesal Penal (CPP)\"\n",
    "    \n",
    "    # CONSTITUCIONES\n",
    "    CN = \"Constitución Nacional (CN)\"\n",
    "    CONSTITUCION_PROVINCIAL_ER = \"Constitución Provincial de Entre Ríos\"\n",
    "    \n",
    "    # LEYES NACIONALES\n",
    "    LEY_48 = \"Ley 48\"\n",
    "    LEY_19550 = \"Ley 19.550\"\n",
    "    LEY_24449 = \"Ley 24.449\"\n",
    "    LEY_24522 = \"Ley 24.522 (LCQ - Ley de Concursos y Quiebras)\"\n",
    "    LEY_25529 = \"Ley 25.529\"\n",
    "    LEY_26061 = \"Ley 26.061\"\n",
    "    LEY_26485 = \"Ley 26.485\"\n",
    "    LEY_26487 = \"Ley 26.487\"\n",
    "    LEY_26657 = \"Ley 26.657\"\n",
    "    LEY_27423 = \"Ley 27.423\"\n",
    "    LEY_27440 = \"Ley 27.440\"\n",
    "    LEY_23737 = \"Ley 23.737\"\n",
    "    \n",
    "    # LEYES PROVINCIALES DE ENTRE RÍOS\n",
    "    LEY_4878 = \"Ley 4878\"\n",
    "    LEY_5796 = \"Ley 5796\"\n",
    "    LEY_6351 = \"Ley 6351\"\n",
    "    LEY_6902 = \"Ley 6902\"\n",
    "    LEY_7046 = \"Ley 7046\"\n",
    "    LEY_7504 = \"Ley 7504\"\n",
    "    LEY_9234 = \"Ley 9234\"\n",
    "    LEY_9776 = \"Ley 9776\"\n",
    "    LEY_9861 = \"Ley 9861\"\n",
    "    LEY_10025 = \"Ley 10.025\"\n",
    "    LEY_10407 = \"Ley 10.407\"\n",
    "    LEY_10636 = \"Ley 10.636\"\n",
    "    LEY_10668 = \"Ley 10.668\"\n",
    "    LEY_10704 = \"Ley 10.704\"\n",
    "    LEY_10855 = \"Ley 10.855\"\n",
    "    LEY_10889 = \"Ley 10.889\"\n",
    "    LEY_10956 = \"Ley 10.956\"\n",
    "    LEY_11151 = \"Ley 11.151\"\n",
    "    LEY_11843 = \"Ley 11.843\"\n",
    "    LEY_14159 = \"Ley 14.159\"\n",
    "    \n",
    "    # ACUERDOS Y ACORDADAS DEL SUPERIOR TRIBUNAL\n",
    "    ACORDADA_4_2007 = \"Acordada 4/2007\"\n",
    "    ACUERDO_GENERAL_11_20 = \"Acuerdo General 11/20\"\n",
    "    ACUERDO_GENERAL_14_24 = \"Acuerdo General 14/24\"\n",
    "    ACUERDO_GENERAL_15_18_SNE = \"Acuerdo General 15/18 SNE\"\n",
    "    ACUERDO_GENERAL_28_15 = \"Acuerdo General 28/15\"\n",
    "    ACUERDO_GENERAL_28_20 = \"Acuerdo General 28/20\"\n",
    "    \n",
    "    # TRATADOS INTERNACIONALES\n",
    "    CONVENCION_AMERICANA_DDHH = \"Convención Americana de Derechos Humanos (Pacto de San José de Costa Rica)\"\n",
    "    CONVENCION_DERECHOS_NINO = \"Convención sobre los Derechos del Niño\"\n",
    "    CONVENCION_DERECHOS_ADULTOS_MAYORES = \"Convención sobre los Derechos de las Personas Adultas Mayores\"\n",
    "    \n",
    "    # INSTITUCIONES Y JURISPRUDENCIA\n",
    "    CSJN = \"Corte Suprema de Justicia de la Nación (CSJN)\"\n",
    "    CORTE_INTERAMERICANA_DDHH = \"Corte Interamericana de Derechos Humanos\"\n",
    "    \n",
    "    # DECRETOS Y RESOLUCIONES\n",
    "    DECRETO_958_79 = \"Decreto 958/79\"\n",
    "    RESOLUCION_170_19 = \"Resolución 170/19\"\n",
    "    RESOLUCION_TS_340_2023 = \"Resolución Tribunal Superior 340/2023 DGA\"\n",
    "    \n",
    "    # ORDENANZAS MUNICIPALES\n",
    "    ORDENANZA_MUNICIPAL_17376 = \"Ordenanza Municipal 17376\"\n",
    "    \n",
    "    # DOCUMENTOS PROCESALES Y ADMINISTRATIVOS\n",
    "    REGLAMENTO_PRESENTACIONES_ELECTRONICAS = \"Reglamento de Presentaciones Electrónicas\"\n",
    "    GUIA_BUENAS_PRACTICAS = \"Guía de Buenas Prácticas\"\n",
    "    \n",
    "    # FALLBACK\n",
    "    OTRO = \"Otro\"\n",
    "\n",
    "class RulingCitation(BaseModel):\n",
    "    \"\"\"Schema for a single citation source in a ruling\"\"\"\n",
    "    main_source: LegalSource = Field(description=\"Main legal source from predefined standardized list\")\n",
    "    cited_articles: Optional[List[int]] = Field(description=\"List of article numbers cited from this source\", default=None)\n",
    "    extra: Optional[str] = Field(description=\"Additional information that couldn't be captured in source or articles (e.g., ordinal indicators like '1º', '4º', specific sections)\", default=None)\n",
    "\n",
    "class RulingCitations(BaseModel):\n",
    "    \"\"\"Schema for all citations in an entire ruling\"\"\"\n",
    "    citations: List[RulingCitation] = Field(description=\"List of all legal sources cited in the ruling\", default_factory=list)\n",
    "    \n",
    "    class Config:\n",
    "        schema_extra = {\n",
    "            \"example\": {\n",
    "                \"citations\": [\n",
    "                    {\n",
    "                        \"main_source\": \"ley 7046\",\n",
    "                        \"cited_articles\": [3, 29, 30, 63, 64, 70, 94],\n",
    "                        \"extra\": None\n",
    "                    },\n",
    "                    {\n",
    "                        \"main_source\": \"Ac. Gral. 15/18 SNE\",\n",
    "                        \"cited_articles\": [1, 4],\n",
    "                        \"extra\": \"1º y 4º\"\n",
    "                    },\n",
    "                    {\n",
    "                        \"main_source\": \"CPCC\",\n",
    "                        \"cited_articles\": [114],\n",
    "                        \"extra\": None\n",
    "                    }\n",
    "                ]\n",
    "            }\n",
    "        }"
   ]
  },
  {
   "cell_type": "code",
   "execution_count": 39,
   "id": "221dd6f6",
   "metadata": {},
   "outputs": [],
   "source": [
    "client = AzureOpenAI(\n",
    "    api_version=\"2025-04-01-preview\",\n",
    "    azure_endpoint=ENDPOINT,\n",
    "    api_key=API_KEY\n",
    ")\n",
    "\n",
    "\n",
    "def aggregate_ruling_citations_with_llm(verbatim_citations_list: List[str]) -> RulingCitations:\n",
    "    \"\"\"\n",
    "    Aggregate all verbatim citations from a ruling into structured RulingCitations\n",
    "    \"\"\"\n",
    "    # Get valid choices for the prompt\n",
    "    valid_sources = [source.value for source in LegalSource]\n",
    "    sources_list = \"\\n\".join([f\"- {source}\" for source in valid_sources])\n",
    "    \n",
    "    # Join all citations for analysis\n",
    "    all_citations_text = \"\\n\".join(verbatim_citations_list)\n",
    "    \n",
    "    prompt = f\"\"\"\n",
    "    You are a legal citation analyzer. Take these verbatim legal citations from a judicial ruling and organize them into structured legal sources with their cited articles.\n",
    "\n",
    "    IMPORTANT: You must choose main_source ONLY from this predefined standardized list:\n",
    "    {sources_list}\n",
    "\n",
    "    If a citation doesn't exactly match the list, choose the closest match or use \"Otro\" as fallback.\n",
    "\n",
    "    Verbatim citations to analyze:\n",
    "    {all_citations_text}\n",
    "\n",
    "    Your task:\n",
    "    1. Identify the main legal sources and map them to the standardized list above\n",
    "    2. Group article numbers by their source\n",
    "    3. Capture any additional information that doesn't fit in source/articles\n",
    "\n",
    "    Examples of mappings:\n",
    "    - \"arts. 3, 29, 30 de la ley 7046\" → main_source: \"Ley 7046\"\n",
    "    - \"art. 45 del CPCC\" → main_source: \"Código Procesal Civil y Comercial (CPCC)\"\n",
    "    - \"art. 114 del Código Civil\" → main_source: \"Código Civil y Comercial (CCC)\"\n",
    "    - \"arts. 1º y 4º Ac. Gral. 15/18 SNE\" → main_source: \"Acuerdo General 15/18 SNE\"\n",
    "    - \"art. 14 de la Constitución Nacional\" → main_source: \"Constitución Nacional (CN)\"\n",
    "\n",
    "    Some strings may only contain article numbers without a clear source. In these cases, ignore the orphan articles altogether.\n",
    "    Combine duplicates and organize by source.\n",
    "    \"\"\"\n",
    "\n",
    "    try:\n",
    "        response = client.responses.parse(\n",
    "            model=DEPLOYMENT,\n",
    "            instructions=\"You are a legal citation organizer. Structure verbatim citations into standardized legal sources with their articles.\",\n",
    "            input=prompt,\n",
    "            text_format=RulingCitations,\n",
    "            temperature=0.01\n",
    "        )\n",
    "        \n",
    "        return response.output_parsed\n",
    "        \n",
    "    except Exception as e:\n",
    "        print(f\"Error aggregating ruling citations: {e}\")\n",
    "        return RulingCitations()\n",
    "\n",
    "\n",
    "def process_verbatim_to_structured(input_json_path: Path, output_path: Path):\n",
    "    \"\"\"\n",
    "    Process a JSON with verbatim citations and create structured ruling citations\n",
    "    \"\"\"\n",
    "    try:\n",
    "        with open(input_json_path, 'r', encoding='utf-8') as f:\n",
    "            data = json.load(f)[0]  # First element of the list\n",
    "        \n",
    "        # Collect all verbatim citations from all sections\n",
    "        all_verbatim_citations = []\n",
    "        \n",
    "        if 'CONTENIDO' in data:\n",
    "            for section_name, section_data in data['CONTENIDO'].items():\n",
    "                if 'verbatim_citations' in section_data:\n",
    "                    all_verbatim_citations.extend(section_data['verbatim_citations'])\n",
    "        \n",
    "        # Skip if no citations found\n",
    "        if not all_verbatim_citations:\n",
    "            print(f\"⚠️  No citations found in {input_json_path.name}\")\n",
    "            return\n",
    "        \n",
    "        # Aggregate citations using LLM\n",
    "        structured_citations = aggregate_ruling_citations_with_llm(all_verbatim_citations)\n",
    "        \n",
    "        # Create output structure\n",
    "        output_structure = {\n",
    "            \"INFORMACION\": data.get(\"INFORMACION\", {}),\n",
    "            \"RULING_CITATIONS\": structured_citations.model_dump(),\n",
    "            \"METADATA\": {\n",
    "                \"total_verbatim_citations\": len(all_verbatim_citations),\n",
    "                \"total_structured_sources\": len(structured_citations.citations),\n",
    "                \"original_citations\": all_verbatim_citations\n",
    "            }\n",
    "        }\n",
    "        \n",
    "        # Save results\n",
    "        output_path.parent.mkdir(parents=True, exist_ok=True)\n",
    "        with open(output_path, 'w', encoding='utf-8') as f:\n",
    "            json.dump([output_structure], f, ensure_ascii=False, indent=2)\n",
    "            \n",
    "    except Exception as e:\n",
    "        print(f\"❌ Error processing {input_json_path}: {e}\")\n",
    "\n",
    "def create_structured_citations_batch(input_dir: str, output_dir: str):\n",
    "    \"\"\"\n",
    "    Process all verbatim citation JSONs and create structured ruling citations\n",
    "    \"\"\"\n",
    "    input_root = Path(input_dir).resolve()\n",
    "    output_root = Path(output_dir).resolve()\n",
    "    output_root.mkdir(parents=True, exist_ok=True)\n",
    "    \n",
    "    json_files = list(input_root.rglob(\"*.json\"))\n",
    "    # Add explicit sorting to ensure predictable order\n",
    "    json_files = sorted(json_files)\n",
    "    \n",
    "    if not json_files:\n",
    "        print(f\"No se encontraron JSONs en {input_dir}\")\n",
    "        return\n",
    "    \n",
    "    # Debug: Show which folders/files will be processed\n",
    "    print(f\"📁 Files to process by folder:\")\n",
    "    folders = {}\n",
    "    for file in json_files:\n",
    "        folder = file.parent.name\n",
    "        if folder not in folders:\n",
    "            folders[folder] = []\n",
    "        folders[folder].append(file.name)\n",
    "    \n",
    "    for folder, files in sorted(folders.items()):\n",
    "        print(f\"  {folder}: {len(files)} files\")\n",
    "        if folder == \"02\":\n",
    "            print(f\"    First few files: {files[:3]}\")\n",
    "    \n",
    "    print(f\"🔄 Estructurando citas de {len(json_files)} fallos judiciales...\")\n",
    "    \n",
    "    for json_path in tqdm(json_files, desc=\"Estructurando citas\"):\n",
    "        # Maintain folder structure\n",
    "        rel_path = json_path.relative_to(input_root)\n",
    "        output_path = output_root / rel_path\n",
    "        \n",
    "        # Debug: Show when processing 02 folder\n",
    "        if \"02/\" in str(rel_path):\n",
    "            print(f\"🔍 Processing 02 file: {rel_path}\")\n",
    "        \n",
    "        process_verbatim_to_structured(json_path, output_path)\n",
    "    \n",
    "    print(f\"✅ Estructuración completada. Archivos guardados en: {output_root}\")"
   ]
  },
  {
   "cell_type": "code",
   "execution_count": 40,
   "id": "c696d880",
   "metadata": {},
   "outputs": [
    {
     "name": "stdout",
     "output_type": "stream",
     "text": [
      "📁 Files to process by folder:\n",
      "  02: 10 files\n",
      "    First few files: ['8104.json', '8142.json', '8344.json']\n",
      "  03: 30 files\n",
      "  04: 9 files\n",
      "  05: 34 files\n",
      "  06: 45 files\n",
      "  07: 12 files\n",
      "  08: 36 files\n",
      "  09: 19 files\n",
      "  10: 39 files\n",
      "  11: 30 files\n",
      "  12: 31 files\n",
      "🔄 Estructurando citas de 295 fallos judiciales...\n"
     ]
    },
    {
     "name": "stderr",
     "output_type": "stream",
     "text": [
      "Estructurando citas:   0%|          | 0/295 [00:00<?, ?it/s]"
     ]
    },
    {
     "name": "stdout",
     "output_type": "stream",
     "text": [
      "🔍 Processing 02 file: 02/8104.json\n"
     ]
    },
    {
     "name": "stderr",
     "output_type": "stream",
     "text": [
      "Estructurando citas:   0%|          | 1/295 [00:06<30:51,  6.30s/it]"
     ]
    },
    {
     "name": "stdout",
     "output_type": "stream",
     "text": [
      "🔍 Processing 02 file: 02/8142.json\n"
     ]
    },
    {
     "name": "stderr",
     "output_type": "stream",
     "text": [
      "Estructurando citas:   1%|          | 2/295 [00:08<20:23,  4.17s/it]"
     ]
    },
    {
     "name": "stdout",
     "output_type": "stream",
     "text": [
      "🔍 Processing 02 file: 02/8344.json\n"
     ]
    },
    {
     "name": "stderr",
     "output_type": "stream",
     "text": [
      "Estructurando citas:   1%|          | 3/295 [00:11<16:42,  3.43s/it]"
     ]
    },
    {
     "name": "stdout",
     "output_type": "stream",
     "text": [
      "🔍 Processing 02 file: 02/8569.json\n"
     ]
    },
    {
     "name": "stderr",
     "output_type": "stream",
     "text": [
      "Estructurando citas:   1%|▏         | 4/295 [00:13<14:47,  3.05s/it]"
     ]
    },
    {
     "name": "stdout",
     "output_type": "stream",
     "text": [
      "🔍 Processing 02 file: 02/8752.json\n"
     ]
    },
    {
     "name": "stderr",
     "output_type": "stream",
     "text": [
      "Estructurando citas:   2%|▏         | 5/295 [00:15<12:53,  2.67s/it]"
     ]
    },
    {
     "name": "stdout",
     "output_type": "stream",
     "text": [
      "🔍 Processing 02 file: 02/8865.json\n"
     ]
    },
    {
     "name": "stderr",
     "output_type": "stream",
     "text": [
      "Estructurando citas:   2%|▏         | 6/295 [00:18<11:54,  2.47s/it]"
     ]
    },
    {
     "name": "stdout",
     "output_type": "stream",
     "text": [
      "🔍 Processing 02 file: 02/8926.json\n"
     ]
    },
    {
     "name": "stderr",
     "output_type": "stream",
     "text": [
      "Estructurando citas:   2%|▏         | 7/295 [00:22<15:41,  3.27s/it]"
     ]
    },
    {
     "name": "stdout",
     "output_type": "stream",
     "text": [
      "🔍 Processing 02 file: 02/8927.json\n"
     ]
    },
    {
     "name": "stderr",
     "output_type": "stream",
     "text": [
      "Estructurando citas:   3%|▎         | 8/295 [00:26<15:57,  3.34s/it]"
     ]
    },
    {
     "name": "stdout",
     "output_type": "stream",
     "text": [
      "🔍 Processing 02 file: 02/8948.json\n"
     ]
    },
    {
     "name": "stderr",
     "output_type": "stream",
     "text": [
      "Estructurando citas:   3%|▎         | 9/295 [00:29<15:50,  3.32s/it]"
     ]
    },
    {
     "name": "stdout",
     "output_type": "stream",
     "text": [
      "🔍 Processing 02 file: 02/8971.json\n"
     ]
    },
    {
     "name": "stderr",
     "output_type": "stream",
     "text": [
      "Estructurando citas: 100%|██████████| 295/295 [16:02<00:00,  3.26s/it]"
     ]
    },
    {
     "name": "stdout",
     "output_type": "stream",
     "text": [
      "✅ Estructuración completada. Archivos guardados en: /Users/brunocr/Documents/UDESA/NLP/TP_NLP/datasets/articulos_estructurados\n"
     ]
    },
    {
     "name": "stderr",
     "output_type": "stream",
     "text": [
      "\n"
     ]
    }
   ],
   "source": [
    "# Define paths and execute\n",
    "PATH_ARTICULOS_ESTRUCTURADOS = Path(os.path.join(PATH, \"articulos_estructurados\"))\n",
    "\n",
    "# Execute structured citation creation\n",
    "create_structured_citations_batch(PATH_ARTICULOS_LLM, PATH_ARTICULOS_ESTRUCTURADOS)"
   ]
  }
 ],
 "metadata": {
  "kernelspec": {
   "display_name": "venv",
   "language": "python",
   "name": "python3"
  },
  "language_info": {
   "codemirror_mode": {
    "name": "ipython",
    "version": 3
   },
   "file_extension": ".py",
   "mimetype": "text/x-python",
   "name": "python",
   "nbconvert_exporter": "python",
   "pygments_lexer": "ipython3",
   "version": "3.12.7"
  }
 },
 "nbformat": 4,
 "nbformat_minor": 5
}

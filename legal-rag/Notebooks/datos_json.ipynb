{
 "cells": [
  {
   "cell_type": "code",
   "execution_count": 3,
   "id": "780d0545",
   "metadata": {},
   "outputs": [
    {
     "name": "stdout",
     "output_type": "stream",
     "text": [
      "Archivo 'main_source_cited_articles_stats.json' generado correctamente.\n"
     ]
    }
   ],
   "source": [
    "import os\n",
    "import json\n",
    "from collections import Counter, defaultdict\n",
    "\n",
    "# Ruta base donde buscar los archivos .json\n",
    "base_dir = \"../datasets/fallos_json\"\n",
    "\n",
    "# Diccionario para almacenar la información\n",
    "result = {}\n",
    "\n",
    "# Recorrer todas las carpetas y archivos .json\n",
    "for root, dirs, files in os.walk(base_dir):\n",
    "    for file in files:\n",
    "        if file.endswith(\".json\"):\n",
    "            file_path = os.path.join(root, file)\n",
    "            try:\n",
    "                with open(file_path, \"r\", encoding=\"utf-8\") as f:\n",
    "                    data = json.load(f)\n",
    "                    citations = (\n",
    "                        data.get(\"METADATOS\", {})\n",
    "                        .get(\"ARTICULOS_CITADOS\", {})\n",
    "                        .get(\"citations\", [])\n",
    "                    )\n",
    "                    for citation in citations:\n",
    "                        main_source = citation.get(\"main_source\")\n",
    "                        cited_articles = citation.get(\"cited_articles\", [])\n",
    "                        if main_source is not None and cited_articles is not None:\n",
    "                            if main_source not in result:\n",
    "                                result[main_source] = []\n",
    "                            result[main_source].extend(cited_articles)\n",
    "            except Exception as e:\n",
    "                print(f\"Error en {file_path}: {e}\")\n",
    "\n",
    "# Construir el JSON de salida\n",
    "output = {}\n",
    "for source, articles in result.items():\n",
    "    freq = Counter(articles)\n",
    "    output[source] = {\n",
    "        \"cited_articles_frequency\": dict(freq),\n",
    "        \"total_cited_articles\": sum(freq.values())\n",
    "    }\n",
    "\n",
    "# Guardar el resultado en un archivo\n",
    "with open(\"main_source_cited_articles_stats.json\", \"w\", encoding=\"utf-8\") as f:\n",
    "    json.dump(output, f, ensure_ascii=False, indent=2)\n",
    "\n",
    "print(\"Archivo 'main_source_cited_articles_stats.json' generado correctamente.\")"
   ]
  },
  {
   "cell_type": "markdown",
   "id": "51915c3e",
   "metadata": {},
   "source": [
    "# Prueba del procesador enriquecido de fallos legales\n",
    "\n",
    "Vamos a procesar los archivos JSON usando el nuevo procesador y mostrar algunos fragmentos enriquecidos."
   ]
  },
  {
   "cell_type": "code",
   "execution_count": null,
   "id": "0035b40a",
   "metadata": {},
   "outputs": [
    {
     "name": "stdout",
     "output_type": "stream",
     "text": [
      "Unexpected exception formatting exception. Falling back to standard exception\n"
     ]
    },
    {
     "name": "stderr",
     "output_type": "stream",
     "text": [
      "Traceback (most recent call last):\n",
      "  File \"C:\\Users\\MSI\\AppData\\Roaming\\Python\\Python311\\site-packages\\IPython\\core\\interactiveshell.py\", line 3433, in run_code\n",
      "    exec(code_obj, self.user_global_ns, self.user_ns)\n",
      "  File \"C:\\Users\\MSI\\AppData\\Local\\Temp\\ipykernel_12552\\783722374.py\", line 2, in <module>\n",
      "    from ..backend.data.processing.enriched import EnrichedProcessor\n",
      "ImportError: attempted relative import with no known parent package\n",
      "\n",
      "During handling of the above exception, another exception occurred:\n",
      "\n",
      "Traceback (most recent call last):\n",
      "  File \"C:\\Users\\MSI\\AppData\\Roaming\\Python\\Python311\\site-packages\\IPython\\core\\interactiveshell.py\", line 2052, in showtraceback\n",
      "    stb = self.InteractiveTB.structured_traceback(\n",
      "          ^^^^^^^^^^^^^^^^^^^^^^^^^^^^^^^^^^^^^^^^\n",
      "  File \"C:\\Users\\MSI\\AppData\\Roaming\\Python\\Python311\\site-packages\\IPython\\core\\ultratb.py\", line 1118, in structured_traceback\n",
      "    return FormattedTB.structured_traceback(\n",
      "           ^^^^^^^^^^^^^^^^^^^^^^^^^^^^^^^^^\n",
      "  File \"C:\\Users\\MSI\\AppData\\Roaming\\Python\\Python311\\site-packages\\IPython\\core\\ultratb.py\", line 1012, in structured_traceback\n",
      "    return VerboseTB.structured_traceback(\n",
      "           ^^^^^^^^^^^^^^^^^^^^^^^^^^^^^^^\n",
      "  File \"C:\\Users\\MSI\\AppData\\Roaming\\Python\\Python311\\site-packages\\IPython\\core\\ultratb.py\", line 865, in structured_traceback\n",
      "    formatted_exception = self.format_exception_as_a_whole(etype, evalue, etb, number_of_lines_of_context,\n",
      "                          ^^^^^^^^^^^^^^^^^^^^^^^^^^^^^^^^^^^^^^^^^^^^^^^^^^^^^^^^^^^^^^^^^^^^^^^^^^^^^^^^\n",
      "  File \"C:\\Users\\MSI\\AppData\\Roaming\\Python\\Python311\\site-packages\\IPython\\core\\ultratb.py\", line 818, in format_exception_as_a_whole\n",
      "    frames.append(self.format_record(r))\n",
      "                  ^^^^^^^^^^^^^^^^^^^^^\n",
      "  File \"C:\\Users\\MSI\\AppData\\Roaming\\Python\\Python311\\site-packages\\IPython\\core\\ultratb.py\", line 736, in format_record\n",
      "    result += ''.join(_format_traceback_lines(frame_info.lines, Colors, self.has_colors, lvals))\n",
      "                                              ^^^^^^^^^^^^^^^^\n",
      "  File \"C:\\Users\\MSI\\AppData\\Roaming\\Python\\Python311\\site-packages\\stack_data\\utils.py\", line 144, in cached_property_wrapper\n",
      "    value = obj.__dict__[self.func.__name__] = self.func(obj)\n",
      "                                               ^^^^^^^^^^^^^^\n",
      "  File \"C:\\Users\\MSI\\AppData\\Roaming\\Python\\Python311\\site-packages\\stack_data\\core.py\", line 734, in lines\n",
      "    pieces = self.included_pieces\n",
      "             ^^^^^^^^^^^^^^^^^^^^\n",
      "  File \"C:\\Users\\MSI\\AppData\\Roaming\\Python\\Python311\\site-packages\\stack_data\\utils.py\", line 144, in cached_property_wrapper\n",
      "    value = obj.__dict__[self.func.__name__] = self.func(obj)\n",
      "                                               ^^^^^^^^^^^^^^\n",
      "  File \"C:\\Users\\MSI\\AppData\\Roaming\\Python\\Python311\\site-packages\\stack_data\\core.py\", line 677, in included_pieces\n",
      "    scope_pieces = self.scope_pieces\n",
      "                   ^^^^^^^^^^^^^^^^^\n",
      "  File \"C:\\Users\\MSI\\AppData\\Roaming\\Python\\Python311\\site-packages\\stack_data\\utils.py\", line 144, in cached_property_wrapper\n",
      "    value = obj.__dict__[self.func.__name__] = self.func(obj)\n",
      "                                               ^^^^^^^^^^^^^^\n",
      "  File \"C:\\Users\\MSI\\AppData\\Roaming\\Python\\Python311\\site-packages\\stack_data\\core.py\", line 614, in scope_pieces\n",
      "    scope_start, scope_end = self.source.line_range(self.scope)\n",
      "                             ^^^^^^^^^^^^^^^^^^^^^^^^^^^^^^^^^^\n",
      "  File \"C:\\Users\\MSI\\AppData\\Roaming\\Python\\Python311\\site-packages\\stack_data\\core.py\", line 178, in line_range\n",
      "    return line_range(self.asttext(), node)\n",
      "                      ^^^^^^^^^^^^\n",
      "AttributeError: 'Source' object has no attribute 'asttext'\n"
     ]
    }
   ],
   "source": [
    "from pathlib import Path\n",
    "from backend.data.processing.enriched import EnrichedProcessor\n",
    "\n",
    "# Ruta al directorio de fallos JSON\n",
    "json_dir = Path(\"../../datasets/fallos_json/2024/07\")\n",
    "\n",
    "# Instanciar el procesador enriquecido\n",
    "processor = EnrichedProcessor()\n",
    "\n",
    "# Procesar el directorio y obtener los fragmentos enriquecidos\n",
    "fragmentos = list(processor.process_directory(json_dir))\n",
    "\n",
    "print(f\"Total de fragmentos extraídos: {len(fragmentos)}\")"
   ]
  },
  {
   "cell_type": "code",
   "execution_count": null,
   "id": "ba46fb4a",
   "metadata": {},
   "outputs": [],
   "source": [
    "# Mostrar los primeros 3 fragmentos enriquecidos\n",
    "for frag in fragmentos[:3]:\n",
    "    print(f\"Expte: {frag.expediente}\")\n",
    "    print(f\"Sección: {frag.section}\")\n",
    "    print(f\"Texto: {frag.text[:120]}...\")\n",
    "    print(f\"Idea central: {frag.idea_central[:100] if frag.idea_central else None}\")\n",
    "    print(f\"Artículos citados: {frag.articulos_citados}\")\n",
    "    print(f\"Materia: {frag.materia_preliminar}\")\n",
    "    print(\"-\" * 60)"
   ]
  },
  {
   "cell_type": "markdown",
   "id": "8c7d275b",
   "metadata": {},
   "source": [
    "Si ves los campos extra correctamente poblados, ¡el procesador está funcionando bien!"
   ]
  }
 ],
 "metadata": {
  "kernelspec": {
   "display_name": "base",
   "language": "python",
   "name": "python3"
  },
  "language_info": {
   "codemirror_mode": {
    "name": "ipython",
    "version": 3
   },
   "file_extension": ".py",
   "mimetype": "text/x-python",
   "name": "python",
   "nbconvert_exporter": "python",
   "pygments_lexer": "ipython3",
   "version": "3.11.5"
  }
 },
 "nbformat": 4,
 "nbformat_minor": 5
}
